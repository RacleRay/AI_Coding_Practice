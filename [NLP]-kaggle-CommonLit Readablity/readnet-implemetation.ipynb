{
 "cells": [
  {
   "cell_type": "code",
   "execution_count": 1,
   "id": "a656886d",
   "metadata": {
    "_cell_guid": "b1076dfc-b9ad-4769-8c92-a6c4dae69d19",
    "_kg_hide-input": true,
    "_kg_hide-output": true,
    "_uuid": "8f2839f25d086af736a60e9eeb907d3b93b6e0e5",
    "execution": {
     "iopub.execute_input": "2021-07-19T06:24:55.588378Z",
     "iopub.status.busy": "2021-07-19T06:24:55.587846Z",
     "iopub.status.idle": "2021-07-19T06:24:55.619274Z",
     "shell.execute_reply": "2021-07-19T06:24:55.618626Z",
     "shell.execute_reply.started": "2021-07-18T13:26:48.979309Z"
    },
    "papermill": {
     "duration": 0.082052,
     "end_time": "2021-07-19T06:24:55.619441",
     "exception": false,
     "start_time": "2021-07-19T06:24:55.537389",
     "status": "completed"
    },
    "tags": []
   },
   "outputs": [
    {
     "name": "stdout",
     "output_type": "stream",
     "text": [
      "/kaggle/input/glove-embeddings/glove.6B.200d.txt\n",
      "/kaggle/input/glove-embeddings/glove.6B.50d.txt\n",
      "/kaggle/input/glove-embeddings/glove.6B.300d.txt\n",
      "/kaggle/input/glove-embeddings/glove.6B.100d.txt\n",
      "/kaggle/input/commonlitreadabilityprize/sample_submission.csv\n",
      "/kaggle/input/commonlitreadabilityprize/train.csv\n",
      "/kaggle/input/commonlitreadabilityprize/test.csv\n",
      "/kaggle/input/punkt/punkt/portuguese.pickle\n",
      "/kaggle/input/punkt/punkt/greek.pickle\n",
      "/kaggle/input/punkt/punkt/estonian.pickle\n",
      "/kaggle/input/punkt/punkt/czech.pickle\n",
      "/kaggle/input/punkt/punkt/danish.pickle\n",
      "/kaggle/input/punkt/punkt/README\n",
      "/kaggle/input/punkt/punkt/english.pickle\n",
      "/kaggle/input/punkt/punkt/italian.pickle\n",
      "/kaggle/input/punkt/punkt/german.pickle\n",
      "/kaggle/input/punkt/punkt/polish.pickle\n",
      "/kaggle/input/punkt/punkt/french.pickle\n",
      "/kaggle/input/punkt/punkt/norwegian.pickle\n",
      "/kaggle/input/punkt/punkt/swedish.pickle\n",
      "/kaggle/input/punkt/punkt/dutch.pickle\n",
      "/kaggle/input/punkt/punkt/slovene.pickle\n",
      "/kaggle/input/punkt/punkt/turkish.pickle\n",
      "/kaggle/input/punkt/punkt/spanish.pickle\n",
      "/kaggle/input/punkt/punkt/finnish.pickle\n"
     ]
    }
   ],
   "source": [
    "# This Python 3 environment comes with many helpful analytics libraries installed\n",
    "# It is defined by the kaggle/python Docker image: https://github.com/kaggle/docker-python\n",
    "# For example, here's several helpful packages to load\n",
    "\n",
    "import numpy as np # linear algebra\n",
    "import pandas as pd # data processing, CSV file I/O (e.g. pd.read_csv)\n",
    "\n",
    "# Input data files are available in the read-only \"../input/\" directory\n",
    "# For example, running this (by clicking run or pressing Shift+Enter) will list all files under the input directory\n",
    "\n",
    "import os\n",
    "for dirname, _, filenames in os.walk('/kaggle/input'):\n",
    "    for filename in filenames:\n",
    "        print(os.path.join(dirname, filename))\n",
    "\n",
    "# You can write up to 20GB to the current directory (/kaggle/working/) that gets preserved as output when you create a version using \"Save & Run All\" \n",
    "# You can also write temporary files to /kaggle/temp/, but they won't be saved outside of the current session"
   ]
  },
  {
   "cell_type": "markdown",
   "id": "f7d9bbb2",
   "metadata": {
    "papermill": {
     "duration": 0.038541,
     "end_time": "2021-07-19T06:24:55.696289",
     "exception": false,
     "start_time": "2021-07-19T06:24:55.657748",
     "status": "completed"
    },
    "tags": []
   },
   "source": [
    "# ReadNet: A Hierarchical Transformer Framework for Web Article Readability Analysis"
   ]
  },
  {
   "cell_type": "markdown",
   "id": "4d66c9f0",
   "metadata": {
    "papermill": {
     "duration": 0.037703,
     "end_time": "2021-07-19T06:24:55.771413",
     "exception": false,
     "start_time": "2021-07-19T06:24:55.733710",
     "status": "completed"
    },
    "tags": []
   },
   "source": [
    "The   [ReadNet](https://arxiv.org/abs/2103.04083) was published in 2021 march, it  proposed a new and comprehensive framework which uses a hierarchical self-attention model to analyze document readability.It has been evaluated over three widely-used benchmark datasets against several strong baseline approaches. Experimental results showed that the  proposed method achieves the state-of-the-art performance on estimating the readability for various web articles and literature."
   ]
  },
  {
   "cell_type": "markdown",
   "id": "d06a6c53",
   "metadata": {
    "papermill": {
     "duration": 0.047774,
     "end_time": "2021-07-19T06:24:55.856716",
     "exception": false,
     "start_time": "2021-07-19T06:24:55.808942",
     "status": "completed"
    },
    "tags": []
   },
   "source": [
    "In this notebook we'll try to use ReadNet for calculating the readability value of given samples. Since readnet has achived a far better acuuracy than BERT on the Text Classification on WeeBit (Readability Assessment) , we'll see whether the same improved performance is reflected in CommonLit Readability Competition.\n"
   ]
  },
  {
   "cell_type": "markdown",
   "id": "71f6b6a6",
   "metadata": {
    "papermill": {
     "duration": 0.037476,
     "end_time": "2021-07-19T06:24:55.953992",
     "exception": false,
     "start_time": "2021-07-19T06:24:55.916516",
     "status": "completed"
    },
    "tags": []
   },
   "source": [
    "### Importing Required libraries"
   ]
  },
  {
   "cell_type": "code",
   "execution_count": 2,
   "id": "2059c4d2",
   "metadata": {
    "execution": {
     "iopub.execute_input": "2021-07-19T06:24:56.034210Z",
     "iopub.status.busy": "2021-07-19T06:24:56.033672Z",
     "iopub.status.idle": "2021-07-19T06:25:21.073950Z",
     "shell.execute_reply": "2021-07-19T06:25:21.073467Z",
     "shell.execute_reply.started": "2021-07-18T13:26:49.016106Z"
    },
    "papermill": {
     "duration": 25.082513,
     "end_time": "2021-07-19T06:25:21.074086",
     "exception": false,
     "start_time": "2021-07-19T06:24:55.991573",
     "status": "completed"
    },
    "tags": []
   },
   "outputs": [
    {
     "name": "stdout",
     "output_type": "stream",
     "text": [
      "[nltk_data] Error loading punkt: <urlopen error [Errno -3] Temporary\n",
      "[nltk_data]     failure in name resolution>\n"
     ]
    }
   ],
   "source": [
    "import torch\n",
    "import numpy as np\n",
    "from torch import Tensor, nn, tensor\n",
    "import math\n",
    "import pandas as pd\n",
    "import csv\n",
    "import nltk\n",
    "nltk.download('punkt')\n",
    "from nltk.tokenize import sent_tokenize, word_tokenize\n",
    "from pathlib import Path\n",
    "from fastai.vision.all import *\n",
    "from fastai.text.all import *"
   ]
  },
  {
   "cell_type": "markdown",
   "id": "03e8333f",
   "metadata": {
    "papermill": {
     "duration": 0.037688,
     "end_time": "2021-07-19T06:25:21.150635",
     "exception": false,
     "start_time": "2021-07-19T06:25:21.112947",
     "status": "completed"
    },
    "tags": []
   },
   "source": [
    "![Readnet ](https://media.springernature.com/original/springer-static/image/chp%3A10.1007%2F978-3-030-45439-5_3/MediaObjects/492459_1_En_3_Fig1_HTML.png)"
   ]
  },
  {
   "cell_type": "markdown",
   "id": "23a358de",
   "metadata": {
    "papermill": {
     "duration": 0.037685,
     "end_time": "2021-07-19T06:25:21.226452",
     "exception": false,
     "start_time": "2021-07-19T06:25:21.188767",
     "status": "completed"
    },
    "tags": []
   },
   "source": [
    "## Defining the layers \n",
    "The layers from the representation of readnet is implemented below."
   ]
  },
  {
   "cell_type": "markdown",
   "id": "ea4c4966",
   "metadata": {
    "papermill": {
     "duration": 0.03779,
     "end_time": "2021-07-19T06:25:21.302066",
     "exception": false,
     "start_time": "2021-07-19T06:25:21.264276",
     "status": "completed"
    },
    "tags": []
   },
   "source": [
    "### Multi-Head Attention"
   ]
  },
  {
   "cell_type": "code",
   "execution_count": 3,
   "id": "442f07c8",
   "metadata": {
    "execution": {
     "iopub.execute_input": "2021-07-19T06:25:21.387868Z",
     "iopub.status.busy": "2021-07-19T06:25:21.387152Z",
     "iopub.status.idle": "2021-07-19T06:25:21.390035Z",
     "shell.execute_reply": "2021-07-19T06:25:21.390414Z"
    },
    "papermill": {
     "duration": 0.050102,
     "end_time": "2021-07-19T06:25:21.390554",
     "exception": false,
     "start_time": "2021-07-19T06:25:21.340452",
     "status": "completed"
    },
    "tags": []
   },
   "outputs": [],
   "source": [
    "class MultiHeadAttention(nn.Module):\n",
    "    def __init__(self, d_model, num_heads, masked):\n",
    "        super().__init__()\n",
    "        assert d_model % num_heads == 0, \"num_heads must evenly chunk d_model\"\n",
    "        self.num_heads = num_heads\n",
    "        self.wq = nn.Linear(d_model, d_model, bias=False)  # QQ what if bias=True?\n",
    "        self.wk = nn.Linear(d_model, d_model, bias=False)\n",
    "        self.wv = nn.Linear(d_model, d_model, bias=False)\n",
    "        self.masked = masked\n",
    "        self.softmax = nn.Softmax(dim=2)\n",
    "\n",
    "    def forward(self, q, k, v):\n",
    "        qs = self.wq(q).chunk(self.num_heads, dim=2)\n",
    "        ks = self.wk(k).chunk(self.num_heads, dim=2)\n",
    "        vs = self.wv(v).chunk(self.num_heads, dim=2)\n",
    "        outs = []\n",
    "        # TODO Use einsum instead of for loop\n",
    "        for qi, ki, vi in zip(qs, ks, vs):\n",
    "            attns = qi.bmm(ki.transpose(1, 2)) / (ki.shape[2] ** 0.5)\n",
    "            if self.masked:\n",
    "                attns = attns.tril()  # Zero out upper triangle so it can't look ahead\n",
    "            attns = self.softmax(attns)\n",
    "            outs.append(attns.bmm(vi))\n",
    "        return torch.cat(outs, dim=2)"
   ]
  },
  {
   "cell_type": "markdown",
   "id": "0ddeb687",
   "metadata": {
    "papermill": {
     "duration": 0.038216,
     "end_time": "2021-07-19T06:25:21.466767",
     "exception": false,
     "start_time": "2021-07-19T06:25:21.428551",
     "status": "completed"
    },
    "tags": []
   },
   "source": [
    "### Add & Norm"
   ]
  },
  {
   "cell_type": "code",
   "execution_count": 4,
   "id": "8184c984",
   "metadata": {
    "execution": {
     "iopub.execute_input": "2021-07-19T06:25:21.547743Z",
     "iopub.status.busy": "2021-07-19T06:25:21.547147Z",
     "iopub.status.idle": "2021-07-19T06:25:21.551026Z",
     "shell.execute_reply": "2021-07-19T06:25:21.550631Z"
    },
    "papermill": {
     "duration": 0.046415,
     "end_time": "2021-07-19T06:25:21.551137",
     "exception": false,
     "start_time": "2021-07-19T06:25:21.504722",
     "status": "completed"
    },
    "tags": []
   },
   "outputs": [],
   "source": [
    "class AddNorm(nn.Module):\n",
    "    def __init__(self, d_model):\n",
    "        super().__init__()\n",
    "        self.ln = nn.LayerNorm(d_model)\n",
    "\n",
    "    def forward(self, x1, x2):\n",
    "        return self.ln(x1+x2)\n"
   ]
  },
  {
   "cell_type": "markdown",
   "id": "683a6452",
   "metadata": {
    "papermill": {
     "duration": 0.037723,
     "end_time": "2021-07-19T06:25:21.626727",
     "exception": false,
     "start_time": "2021-07-19T06:25:21.589004",
     "status": "completed"
    },
    "tags": []
   },
   "source": [
    "### Feed Forward"
   ]
  },
  {
   "cell_type": "code",
   "execution_count": 5,
   "id": "39380b7b",
   "metadata": {
    "execution": {
     "iopub.execute_input": "2021-07-19T06:25:21.709314Z",
     "iopub.status.busy": "2021-07-19T06:25:21.708738Z",
     "iopub.status.idle": "2021-07-19T06:25:21.713093Z",
     "shell.execute_reply": "2021-07-19T06:25:21.712662Z"
    },
    "papermill": {
     "duration": 0.048628,
     "end_time": "2021-07-19T06:25:21.713225",
     "exception": false,
     "start_time": "2021-07-19T06:25:21.664597",
     "status": "completed"
    },
    "tags": []
   },
   "outputs": [],
   "source": [
    "class FeedForward(nn.Module):\n",
    "    def __init__(self, d_model):\n",
    "        super().__init__()\n",
    "        self.l1 = nn.Linear(d_model, d_model)\n",
    "        self.relu = nn.ReLU()\n",
    "        self.l2 = nn.Linear(d_model, d_model)\n",
    "    def forward(self, x):\n",
    "        return self.l2(self.relu(self.l1(x)))"
   ]
  },
  {
   "cell_type": "markdown",
   "id": "de6b4197",
   "metadata": {
    "papermill": {
     "duration": 0.038172,
     "end_time": "2021-07-19T06:25:21.789617",
     "exception": false,
     "start_time": "2021-07-19T06:25:21.751445",
     "status": "completed"
    },
    "tags": []
   },
   "source": [
    "### Atention "
   ]
  },
  {
   "cell_type": "code",
   "execution_count": 6,
   "id": "56ea7529",
   "metadata": {
    "execution": {
     "iopub.execute_input": "2021-07-19T06:25:21.873860Z",
     "iopub.status.busy": "2021-07-19T06:25:21.872359Z",
     "iopub.status.idle": "2021-07-19T06:25:21.874692Z",
     "shell.execute_reply": "2021-07-19T06:25:21.875087Z"
    },
    "papermill": {
     "duration": 0.047082,
     "end_time": "2021-07-19T06:25:21.875240",
     "exception": false,
     "start_time": "2021-07-19T06:25:21.828158",
     "status": "completed"
    },
    "tags": []
   },
   "outputs": [],
   "source": [
    "class AttentionAggregation(nn.Module):\n",
    "    def __init__(self, d_model):\n",
    "        super().__init__()\n",
    "        self.query = nn.Linear(d_model, 1, bias=False)\n",
    "\n",
    "    def forward(self, x):  # (b, s, m)\n",
    "        attns = self.query(x).softmax(dim=1)  # (b, s, 1)\n",
    "        enc = torch.bmm(attns.transpose(1, 2), x)  # (b, 1, m)\n",
    "        return enc.squeeze(1)"
   ]
  },
  {
   "cell_type": "markdown",
   "id": "a3325dab",
   "metadata": {
    "papermill": {
     "duration": 0.038735,
     "end_time": "2021-07-19T06:25:21.952373",
     "exception": false,
     "start_time": "2021-07-19T06:25:21.913638",
     "status": "completed"
    },
    "tags": []
   },
   "source": [
    "### Readnet "
   ]
  },
  {
   "cell_type": "code",
   "execution_count": 7,
   "id": "ebd2e72b",
   "metadata": {
    "execution": {
     "iopub.execute_input": "2021-07-19T06:25:22.043196Z",
     "iopub.status.busy": "2021-07-19T06:25:22.042559Z",
     "iopub.status.idle": "2021-07-19T06:25:22.045753Z",
     "shell.execute_reply": "2021-07-19T06:25:22.045350Z"
    },
    "papermill": {
     "duration": 0.054802,
     "end_time": "2021-07-19T06:25:22.045879",
     "exception": false,
     "start_time": "2021-07-19T06:25:21.991077",
     "status": "completed"
    },
    "tags": []
   },
   "outputs": [],
   "source": [
    "class ReadNetBlock(nn.Module):\n",
    "    def __init__(self, d_model, n_heads, n_blocks, n_feats, n_out):\n",
    "        super().__init__()\n",
    "        self.blocks = nn.Sequential(*[EncoderBlock(d_model=d_model, num_heads=n_heads) for _ in range(n_blocks)])\n",
    "        self.lin_tanh = LinTanh(d_model=d_model)\n",
    "        self.attn_agg = AttentionAggregation(d_model=d_model)\n",
    "        self.lin_feat_concat = LinFeatConcat(d_model=d_model, n_feats=n_feats, n_out=n_out)\n",
    "\n",
    "    def forward(self, x, feats):  # (b, s, m), (b, f)\n",
    "        x = pos_encode(x)\n",
    "        x = self.blocks(x)\n",
    "        x = self.lin_tanh(x)\n",
    "        x = self.attn_agg(x)\n",
    "        return self.lin_feat_concat(x, feats)\n",
    "    \n",
    "    \n",
    "class ReadNet(nn.Module):\n",
    "    def __init__(self, embed, d_model, n_heads, n_blocks, n_feats_sent, n_feats_doc):\n",
    "        super().__init__()\n",
    "        self.embed = embed\n",
    "        self.sent_block = ReadNetBlock(\n",
    "            d_model=d_model, n_heads=n_heads, n_blocks=n_blocks, n_feats=n_feats_sent, n_out=d_model\n",
    "        )\n",
    "        self.doc_block = ReadNetBlock(\n",
    "            d_model=d_model, n_heads=n_heads, n_blocks=n_blocks, n_feats=n_feats_doc, n_out=d_model + n_feats_doc\n",
    "        )\n",
    "        self.head = nn.Sequential(\n",
    "            nn.Linear(d_model + n_feats_doc, 1),\n",
    "        )\n",
    "\n",
    "    def forward(self, x, feats_sent=None, feats_doc=None):  # (b, d, s) tokens, (b, d, n_f_s), (b, n_f_d)\n",
    "        if feats_sent is None: feats_sent = Tensor([])\n",
    "        if feats_doc is None: feats_doc = Tensor([])\n",
    "        if x.is_cuda:\n",
    "            feats_sent = feats_sent.cuda()\n",
    "            feats_doc = feats_doc.cuda()\n",
    "        #print(len(x))\n",
    "        #print(x.shape)\n",
    "        #print(x)\n",
    "        \n",
    "        x = self.embed(x)\n",
    "        b, d, s, m = x.shape\n",
    "        x = x.reshape(b * d, s, m)\n",
    "        sents_enc = self.sent_block(x, feats_sent.reshape(b * d, -1))  # (b*d, m)\n",
    "        docs = sents_enc.reshape(b, d, m)\n",
    "        docs_enc = self.doc_block(docs, feats_doc)\n",
    "        out = self.head(docs_enc)\n",
    "        return out.squeeze(1)\n"
   ]
  },
  {
   "cell_type": "markdown",
   "id": "7ba1576d",
   "metadata": {
    "papermill": {
     "duration": 0.038256,
     "end_time": "2021-07-19T06:25:22.123309",
     "exception": false,
     "start_time": "2021-07-19T06:25:22.085053",
     "status": "completed"
    },
    "tags": []
   },
   "source": [
    "### Positional Encoding and Tokenizing Layers"
   ]
  },
  {
   "cell_type": "code",
   "execution_count": 8,
   "id": "b48b137a",
   "metadata": {
    "execution": {
     "iopub.execute_input": "2021-07-19T06:25:22.225310Z",
     "iopub.status.busy": "2021-07-19T06:25:22.218806Z",
     "iopub.status.idle": "2021-07-19T06:25:22.227721Z",
     "shell.execute_reply": "2021-07-19T06:25:22.227312Z",
     "shell.execute_reply.started": "2021-07-18T13:27:13.729134Z"
    },
    "papermill": {
     "duration": 0.065911,
     "end_time": "2021-07-19T06:25:22.227840",
     "exception": false,
     "start_time": "2021-07-19T06:25:22.161929",
     "status": "completed"
    },
    "tags": []
   },
   "outputs": [],
   "source": [
    "\n",
    "\n",
    "\n",
    "# Make sure to have your glove embeddings stored here\n",
    "root_dir = '../input/glove-embeddings'\n",
    "\n",
    "\n",
    "## MODEL CODE ##\n",
    "\n",
    "\n",
    "\n",
    "\n",
    "\n",
    "\n",
    "\n",
    "\n",
    "\n",
    "\n",
    "def pos_encode(x):\n",
    "    pos, dim = torch.meshgrid(torch.arange(x.shape[1]), torch.arange(x.shape[2]))\n",
    "    dim = 2 * (dim // 2)\n",
    "    enc_base = pos/(10_000**(dim / x.shape[2]))\n",
    "    addition = torch.zeros_like(x)\n",
    "    for d in range(x.shape[2]):\n",
    "        enc_func = torch.sin if d % 2 == 0 else torch.cos\n",
    "        addition[:,:,d] = enc_func(enc_base[:,d])\n",
    "    if x.is_cuda:\n",
    "        addition = addition.cuda()\n",
    "    #print(x+addition)\n",
    "    return x + addition\n",
    "\n",
    "\n",
    "class EncoderBlock(nn.Module):\n",
    "    def __init__(self, d_model, num_heads):\n",
    "        super().__init__()\n",
    "        self.mha = MultiHeadAttention(d_model=d_model, num_heads=num_heads, masked=False)\n",
    "        self.an1 = AddNorm(d_model)\n",
    "        self.ff = FeedForward(d_model)\n",
    "        self.an2 = AddNorm(d_model)\n",
    "\n",
    "    def forward(self, x):\n",
    "        x = self.an1(x, self.mha(q=x, k=x, v=x))\n",
    "        return self.an2(x, self.ff(x))\n",
    "\n",
    "\n",
    "\n",
    "\n",
    "\n",
    "class LinTanh(nn.Module):\n",
    "    def __init__(self, d_model):\n",
    "        super().__init__()\n",
    "        self.lin = nn.Linear(d_model, d_model)\n",
    "        self.tanh = nn.Tanh()\n",
    "\n",
    "    def forward(self, x):\n",
    "        return self.tanh(self.lin(x))\n",
    "\n",
    "\n",
    "class LinFeatConcat(nn.Module):\n",
    "    def __init__(self, d_model, n_feats, n_out):\n",
    "        super().__init__()\n",
    "        self.lin = nn.Linear(d_model + n_feats, n_out, bias=False)  # TODO what if True?\n",
    "\n",
    "    def forward(self, x, feats):\n",
    "        return self.lin(torch.cat([x, feats], dim=1))\n",
    "\n",
    "\n",
    "\n",
    "\n",
    "\n",
    "class GloveEmbedding(nn.Module):\n",
    "    def __init__(self, num):\n",
    "        super().__init__()\n",
    "        # Make embedding\n",
    "        self.embed = nn.Embedding(400_000 + 1, num)\n",
    "        emb_w = pd.read_csv(\n",
    "            root_dir +'/'+ f'glove.6B.{num}d.txt', header=None, sep=\" \", quoting=csv.QUOTE_NONE\n",
    "        ).values[:, 1:].astype('float64')\n",
    "        emb_w = Tensor(emb_w)\n",
    "        emb_w = torch.cat([emb_w, torch.zeros(1, num)], dim=0)\n",
    "        self.embed.weight = nn.Parameter(emb_w)\n",
    "\n",
    "    def forward(self, x):\n",
    "        return self.embed(x.to(torch.long))\n",
    "\n",
    "\n",
    "\n",
    "\n",
    "## DATA PREPARATION ##\n",
    "\n",
    "class GloveTokenizer:\n",
    "    def __init__(self, num):\n",
    "        words = pd.read_csv(\n",
    "            root_dir + '/'+ f'glove.6B.{num}d.txt', header=None, sep=\" \", quoting=csv.QUOTE_NONE, usecols=[0]\n",
    "        ).values\n",
    "        words = [word[0] for word in words]\n",
    "        self.word2idx = {w: i for i, w in enumerate(words)}\n",
    "\n",
    "    def __call__(self, sent):\n",
    "        toks = [self.word2idx.get(w.lower()) for w in word_tokenize(sent)]\n",
    "        return [self.unk_token if t is None else t for t in toks]\n",
    "\n",
    "    @property\n",
    "    def unk_token(self):\n",
    "        return 400_000  # We appended this to the end of the embedding to return all zeros\n",
    "\n",
    "    @property\n",
    "    def pad_token(self):\n",
    "        return self.unk_token  # Seems that this is the best option for GLOVE\n",
    "\n",
    "\n",
    "def prepare_txts(txts, tokenizer):\n",
    "    # Input: (bs,) str, Output: (bs, max_doc_len, max_sent_len)\n",
    "    # We choose to elongate all docs and sentences to the max rather than truncate some of them\n",
    "    # TODO: Do this better later:\n",
    "    # (1) Truncate smartly (if there is one very long outlier sentence or doc)\n",
    "    # (2) Group together docs of similar lengths (in terms of num_sents)\n",
    "    docs = [[tokenizer(sent) for sent in sent_tokenize(txt)] for txt in txts]\n",
    "    # pkl_save(root_dir/\"doc_lens\", pd.Series([len(doc) for doc in docs]))\n",
    "    max_doc_len = max([len(doc) for doc in docs])\n",
    "    docs = [doc + [[]] * (max_doc_len - len(doc)) for doc in docs]\n",
    "    # pkl_save(root_dir/\"sent_lens\", pd.Series([len(sent) for doc in docs for sent in doc]))\n",
    "    max_sent_len = max([len(sent) for doc in docs for sent in doc])\n",
    "    docs = [[s + [tokenizer.pad_token] * (max_sent_len - len(s)) for s in doc] for doc in docs]\n",
    "    return Tensor(docs)\n",
    "\n",
    "\n",
    "def prepare_txts_cut(txts, tokenizer, max_doc_len=18, max_sent_len=49):\n",
    "    docs = [[tokenizer(sent)[:max_sent_len] for sent in sent_tokenize(txt)[:max_doc_len]] for txt in txts]\n",
    "    docs = [doc + [[]] * (max_doc_len - len(doc)) for doc in docs]\n",
    "    docs = [[s + [tokenizer.pad_token] * (max_sent_len - len(s)) for s in doc] for doc in docs]\n",
    "    return Tensor(docs)\n",
    "\n",
    "\n",
    "\n",
    "\n"
   ]
  },
  {
   "cell_type": "markdown",
   "id": "9799eb2c",
   "metadata": {
    "papermill": {
     "duration": 0.039895,
     "end_time": "2021-07-19T06:25:22.306207",
     "exception": false,
     "start_time": "2021-07-19T06:25:22.266312",
     "status": "completed"
    },
    "tags": []
   },
   "source": [
    "## Tokenization and embedding\n",
    "\n",
    "The golve tokenizer is used to tokenize and then glove embeddings of corresponding words are givenas input to the model , we'll be using glove 200 d vector since it gave the best results for us."
   ]
  },
  {
   "cell_type": "code",
   "execution_count": 9,
   "id": "76a4064b",
   "metadata": {
    "execution": {
     "iopub.execute_input": "2021-07-19T06:25:22.390946Z",
     "iopub.status.busy": "2021-07-19T06:25:22.390388Z",
     "iopub.status.idle": "2021-07-19T06:26:04.697138Z",
     "shell.execute_reply": "2021-07-19T06:26:04.696660Z",
     "shell.execute_reply.started": "2021-07-18T13:27:13.781248Z"
    },
    "papermill": {
     "duration": 42.352422,
     "end_time": "2021-07-19T06:26:04.697289",
     "exception": false,
     "start_time": "2021-07-19T06:25:22.344867",
     "status": "completed"
    },
    "tags": []
   },
   "outputs": [],
   "source": [
    "## TRAIN ## (using fastai)\n",
    "\n",
    "tokenizer = GloveTokenizer(200)\n",
    "embed = GloveEmbedding(200)\n",
    "\n",
    "def get_splits(data):\n",
    "  num = len(data)\n",
    "  idx = list(range(num))\n",
    "  random.seed(42)\n",
    "  random.shuffle(idx)\n",
    "  split = int(num*0.75)\n",
    "  return idx[:split], idx[split:]\n",
    "\n",
    "\n",
    "def get_dls(bs,path):\n",
    "  data = pd.read_csv(path)\n",
    "  txts = data.excerpt.tolist()\n",
    "  x = prepare_txts_cut(txts, tokenizer)\n",
    "  y = data.target.tolist()\n",
    "\n",
    "  ds = TfmdLists(\n",
    "      zip(x, y),\n",
    "      tfms=[],\n",
    "      splits=get_splits(data),\n",
    "  )\n",
    "  #print(ds)\n",
    "  dls = ds.dataloaders(batch_size=bs)\n",
    "  print(dls)\n",
    "  return dls\n"
   ]
  },
  {
   "cell_type": "markdown",
   "id": "498a687e",
   "metadata": {
    "papermill": {
     "duration": 0.03848,
     "end_time": "2021-07-19T06:26:04.774406",
     "exception": false,
     "start_time": "2021-07-19T06:26:04.735926",
     "status": "completed"
    },
    "tags": []
   },
   "source": [
    "## Model\n",
    "The model is loaded into cuda using the get model function and we define the parameters here.\n",
    "Note: d_model must be a multiple of n_heads."
   ]
  },
  {
   "cell_type": "code",
   "execution_count": 10,
   "id": "8868c498",
   "metadata": {
    "execution": {
     "iopub.execute_input": "2021-07-19T06:26:04.857121Z",
     "iopub.status.busy": "2021-07-19T06:26:04.856555Z",
     "iopub.status.idle": "2021-07-19T06:26:04.860712Z",
     "shell.execute_reply": "2021-07-19T06:26:04.860277Z",
     "shell.execute_reply.started": "2021-07-18T13:27:56.053112Z"
    },
    "papermill": {
     "duration": 0.047698,
     "end_time": "2021-07-19T06:26:04.860829",
     "exception": false,
     "start_time": "2021-07-19T06:26:04.813131",
     "status": "completed"
    },
    "tags": []
   },
   "outputs": [],
   "source": [
    "def get_model():\n",
    "    readnet = ReadNet(\n",
    "        embed=embed,\n",
    "        d_model=200,\n",
    "        n_heads=4,\n",
    "        n_blocks=6,\n",
    "        n_feats_sent=0,\n",
    "        n_feats_doc=0,\n",
    "    )\n",
    "    readnet = readnet.cuda()\n",
    "\n",
    "    # Automatically freeze the embedding. We should not be learning this\n",
    "    for p in readnet.embed.parameters():\n",
    "        p.requires_grad = False\n",
    "\n",
    "    return readnet"
   ]
  },
  {
   "cell_type": "markdown",
   "id": "cd3e3b30",
   "metadata": {
    "papermill": {
     "duration": 0.038288,
     "end_time": "2021-07-19T06:26:04.937916",
     "exception": false,
     "start_time": "2021-07-19T06:26:04.899628",
     "status": "completed"
    },
    "tags": []
   },
   "source": [
    "## Training\n",
    "Train the model with the given "
   ]
  },
  {
   "cell_type": "code",
   "execution_count": 11,
   "id": "addd51c1",
   "metadata": {
    "execution": {
     "iopub.execute_input": "2021-07-19T06:26:05.020177Z",
     "iopub.status.busy": "2021-07-19T06:26:05.019602Z",
     "iopub.status.idle": "2021-07-19T06:31:27.177039Z",
     "shell.execute_reply": "2021-07-19T06:31:27.176211Z",
     "shell.execute_reply.started": "2021-07-18T13:27:56.060114Z"
    },
    "papermill": {
     "duration": 322.200591,
     "end_time": "2021-07-19T06:31:27.177201",
     "exception": false,
     "start_time": "2021-07-19T06:26:04.976610",
     "status": "completed"
    },
    "tags": []
   },
   "outputs": [
    {
     "name": "stdout",
     "output_type": "stream",
     "text": [
      "<fastai.data.core.DataLoaders object at 0x7f72b381c410>\n"
     ]
    },
    {
     "data": {
      "text/html": [],
      "text/plain": [
       "<IPython.core.display.HTML object>"
      ]
     },
     "metadata": {},
     "output_type": "display_data"
    },
    {
     "data": {
      "text/html": [],
      "text/plain": [
       "<IPython.core.display.HTML object>"
      ]
     },
     "metadata": {},
     "output_type": "display_data"
    },
    {
     "data": {
      "text/html": [
       "<table border=\"1\" class=\"dataframe\">\n",
       "  <thead>\n",
       "    <tr style=\"text-align: left;\">\n",
       "      <th>epoch</th>\n",
       "      <th>train_loss</th>\n",
       "      <th>valid_loss</th>\n",
       "      <th>time</th>\n",
       "    </tr>\n",
       "  </thead>\n",
       "  <tbody>\n",
       "    <tr>\n",
       "      <td>0</td>\n",
       "      <td>1.326133</td>\n",
       "      <td>1.121905</td>\n",
       "      <td>00:13</td>\n",
       "    </tr>\n",
       "    <tr>\n",
       "      <td>1</td>\n",
       "      <td>1.124877</td>\n",
       "      <td>1.071498</td>\n",
       "      <td>00:13</td>\n",
       "    </tr>\n",
       "    <tr>\n",
       "      <td>2</td>\n",
       "      <td>1.093344</td>\n",
       "      <td>1.069204</td>\n",
       "      <td>00:13</td>\n",
       "    </tr>\n",
       "    <tr>\n",
       "      <td>3</td>\n",
       "      <td>1.083428</td>\n",
       "      <td>1.090949</td>\n",
       "      <td>00:12</td>\n",
       "    </tr>\n",
       "    <tr>\n",
       "      <td>4</td>\n",
       "      <td>1.008086</td>\n",
       "      <td>0.827456</td>\n",
       "      <td>00:13</td>\n",
       "    </tr>\n",
       "    <tr>\n",
       "      <td>5</td>\n",
       "      <td>0.873732</td>\n",
       "      <td>0.805431</td>\n",
       "      <td>00:13</td>\n",
       "    </tr>\n",
       "    <tr>\n",
       "      <td>6</td>\n",
       "      <td>0.756587</td>\n",
       "      <td>0.732548</td>\n",
       "      <td>00:13</td>\n",
       "    </tr>\n",
       "    <tr>\n",
       "      <td>7</td>\n",
       "      <td>0.684190</td>\n",
       "      <td>0.667925</td>\n",
       "      <td>00:13</td>\n",
       "    </tr>\n",
       "    <tr>\n",
       "      <td>8</td>\n",
       "      <td>0.658320</td>\n",
       "      <td>0.634575</td>\n",
       "      <td>00:13</td>\n",
       "    </tr>\n",
       "    <tr>\n",
       "      <td>9</td>\n",
       "      <td>0.623669</td>\n",
       "      <td>0.614982</td>\n",
       "      <td>00:12</td>\n",
       "    </tr>\n",
       "    <tr>\n",
       "      <td>10</td>\n",
       "      <td>0.593001</td>\n",
       "      <td>0.607580</td>\n",
       "      <td>00:13</td>\n",
       "    </tr>\n",
       "    <tr>\n",
       "      <td>11</td>\n",
       "      <td>0.562494</td>\n",
       "      <td>0.567233</td>\n",
       "      <td>00:13</td>\n",
       "    </tr>\n",
       "    <tr>\n",
       "      <td>12</td>\n",
       "      <td>0.528664</td>\n",
       "      <td>0.542035</td>\n",
       "      <td>00:13</td>\n",
       "    </tr>\n",
       "    <tr>\n",
       "      <td>13</td>\n",
       "      <td>0.517849</td>\n",
       "      <td>0.528039</td>\n",
       "      <td>00:13</td>\n",
       "    </tr>\n",
       "    <tr>\n",
       "      <td>14</td>\n",
       "      <td>0.503602</td>\n",
       "      <td>0.530331</td>\n",
       "      <td>00:12</td>\n",
       "    </tr>\n",
       "    <tr>\n",
       "      <td>15</td>\n",
       "      <td>0.494182</td>\n",
       "      <td>0.514149</td>\n",
       "      <td>00:12</td>\n",
       "    </tr>\n",
       "    <tr>\n",
       "      <td>16</td>\n",
       "      <td>0.488616</td>\n",
       "      <td>0.512430</td>\n",
       "      <td>00:13</td>\n",
       "    </tr>\n",
       "    <tr>\n",
       "      <td>17</td>\n",
       "      <td>0.472911</td>\n",
       "      <td>0.506092</td>\n",
       "      <td>00:13</td>\n",
       "    </tr>\n",
       "    <tr>\n",
       "      <td>18</td>\n",
       "      <td>0.475615</td>\n",
       "      <td>0.505545</td>\n",
       "      <td>00:12</td>\n",
       "    </tr>\n",
       "    <tr>\n",
       "      <td>19</td>\n",
       "      <td>0.467131</td>\n",
       "      <td>0.504611</td>\n",
       "      <td>00:13</td>\n",
       "    </tr>\n",
       "  </tbody>\n",
       "</table>"
      ],
      "text/plain": [
       "<IPython.core.display.HTML object>"
      ]
     },
     "metadata": {},
     "output_type": "display_data"
    },
    {
     "name": "stdout",
     "output_type": "stream",
     "text": [
      "Better model found at epoch 0 with valid_loss value: 1.1219053268432617.\n",
      "Better model found at epoch 1 with valid_loss value: 1.0714982748031616.\n",
      "Better model found at epoch 2 with valid_loss value: 1.069204330444336.\n",
      "Better model found at epoch 4 with valid_loss value: 0.8274561166763306.\n",
      "Better model found at epoch 5 with valid_loss value: 0.8054313063621521.\n",
      "Better model found at epoch 6 with valid_loss value: 0.7325479984283447.\n",
      "Better model found at epoch 7 with valid_loss value: 0.6679248213768005.\n",
      "Better model found at epoch 8 with valid_loss value: 0.6345745921134949.\n",
      "Better model found at epoch 9 with valid_loss value: 0.6149822473526001.\n",
      "Better model found at epoch 10 with valid_loss value: 0.6075802445411682.\n",
      "Better model found at epoch 11 with valid_loss value: 0.5672332644462585.\n",
      "Better model found at epoch 12 with valid_loss value: 0.5420349836349487.\n",
      "Better model found at epoch 13 with valid_loss value: 0.5280389189720154.\n",
      "Better model found at epoch 15 with valid_loss value: 0.5141485929489136.\n",
      "Better model found at epoch 16 with valid_loss value: 0.5124298930168152.\n",
      "Better model found at epoch 17 with valid_loss value: 0.506092369556427.\n",
      "Better model found at epoch 18 with valid_loss value: 0.5055449604988098.\n",
      "Better model found at epoch 19 with valid_loss value: 0.504611074924469.\n"
     ]
    },
    {
     "data": {
      "image/png": "[encoded data removed]",
      "text/plain": [
       "<Figure size 432x288 with 1 Axes>"
      ]
     },
     "metadata": {
      "needs_background": "light"
     },
     "output_type": "display_data"
    }
   ],
   "source": [
    "\n",
    "learn = Learner(dls=get_dls(32,path=\"../input/commonlitreadabilityprize/train.csv\"), model=get_model(), loss_func=MSELossFlat())\n",
    "learn.summary()\n",
    "learn.lr_find()\n",
    "learn.fit_one_cycle(20, 3e-5,cbs=SaveModelCallback())"
   ]
  },
  {
   "cell_type": "code",
   "execution_count": 12,
   "id": "73204cd1",
   "metadata": {
    "execution": {
     "iopub.execute_input": "2021-07-19T06:31:27.274920Z",
     "iopub.status.busy": "2021-07-19T06:31:27.273278Z",
     "iopub.status.idle": "2021-07-19T06:31:27.275577Z",
     "shell.execute_reply": "2021-07-19T06:31:27.275981Z"
    },
    "papermill": {
     "duration": 0.052761,
     "end_time": "2021-07-19T06:31:27.276117",
     "exception": false,
     "start_time": "2021-07-19T06:31:27.223356",
     "status": "completed"
    },
    "tags": []
   },
   "outputs": [],
   "source": [
    "import gc"
   ]
  },
  {
   "cell_type": "code",
   "execution_count": 13,
   "id": "2fc55a76",
   "metadata": {
    "execution": {
     "iopub.execute_input": "2021-07-19T06:31:27.556360Z",
     "iopub.status.busy": "2021-07-19T06:31:27.554214Z",
     "iopub.status.idle": "2021-07-19T06:31:27.559441Z",
     "shell.execute_reply": "2021-07-19T06:31:27.559018Z"
    },
    "papermill": {
     "duration": 0.237575,
     "end_time": "2021-07-19T06:31:27.559564",
     "exception": false,
     "start_time": "2021-07-19T06:31:27.321989",
     "status": "completed"
    },
    "tags": []
   },
   "outputs": [
    {
     "data": {
      "text/plain": [
       "12657"
      ]
     },
     "execution_count": 13,
     "metadata": {},
     "output_type": "execute_result"
    }
   ],
   "source": [
    "#del learn\n",
    "gc.collect()"
   ]
  },
  {
   "cell_type": "code",
   "execution_count": 14,
   "id": "a07e3d3c",
   "metadata": {
    "execution": {
     "iopub.execute_input": "2021-07-19T06:31:27.658687Z",
     "iopub.status.busy": "2021-07-19T06:31:27.658118Z",
     "iopub.status.idle": "2021-07-19T06:31:27.670569Z",
     "shell.execute_reply": "2021-07-19T06:31:27.670009Z"
    },
    "papermill": {
     "duration": 0.064223,
     "end_time": "2021-07-19T06:31:27.670689",
     "exception": false,
     "start_time": "2021-07-19T06:31:27.606466",
     "status": "completed"
    },
    "tags": []
   },
   "outputs": [],
   "source": [
    "test_df= pd.read_csv('../input/commonlitreadabilityprize/test.csv')"
   ]
  },
  {
   "cell_type": "code",
   "execution_count": 15,
   "id": "31a52d21",
   "metadata": {
    "execution": {
     "iopub.execute_input": "2021-07-19T06:31:27.767832Z",
     "iopub.status.busy": "2021-07-19T06:31:27.767277Z",
     "iopub.status.idle": "2021-07-19T06:31:27.783112Z",
     "shell.execute_reply": "2021-07-19T06:31:27.783565Z"
    },
    "papermill": {
     "duration": 0.066644,
     "end_time": "2021-07-19T06:31:27.783718",
     "exception": false,
     "start_time": "2021-07-19T06:31:27.717074",
     "status": "completed"
    },
    "tags": []
   },
   "outputs": [
    {
     "data": {
      "text/html": [
       "<div>\n",
       "<style scoped>\n",
       "    .dataframe tbody tr th:only-of-type {\n",
       "        vertical-align: middle;\n",
       "    }\n",
       "\n",
       "    .dataframe tbody tr th {\n",
       "        vertical-align: top;\n",
       "    }\n",
       "\n",
       "    .dataframe thead th {\n",
       "        text-align: right;\n",
       "    }\n",
       "</style>\n",
       "<table border=\"1\" class=\"dataframe\">\n",
       "  <thead>\n",
       "    <tr style=\"text-align: right;\">\n",
       "      <th></th>\n",
       "      <th>id</th>\n",
       "      <th>url_legal</th>\n",
       "      <th>license</th>\n",
       "      <th>excerpt</th>\n",
       "    </tr>\n",
       "  </thead>\n",
       "  <tbody>\n",
       "    <tr>\n",
       "      <th>0</th>\n",
       "      <td>c0f722661</td>\n",
       "      <td>NaN</td>\n",
       "      <td>NaN</td>\n",
       "      <td>My hope lay in Jack's promise that he would keep a bright light burning in the upper story to guide me on my course. On a clear night this light was visible from the village, but somehow or other I failed to take into account the state of the weather. The air was full of eddying flakes, which would render the headlight of a locomotive invisible a hundred yards distant. Strange that this important fact never occurred to me until I was fully a fourth of a mile from the village. Then, after looking in vain for the beacon light, the danger of my situation struck me, and I halted.\\n\"I am certai...</td>\n",
       "    </tr>\n",
       "    <tr>\n",
       "      <th>1</th>\n",
       "      <td>f0953f0a5</td>\n",
       "      <td>NaN</td>\n",
       "      <td>NaN</td>\n",
       "      <td>Dotty continued to go to Mrs. Gray's every night with the milk. Sometimes Katie went with her, and then they always paused a while under the acorn-tree and played \"King and Queen.\" Dotty said she wished they could ever remember to bring their nipperkins, for in that case the milk would taste a great deal more like nectar. The \"nipperkins\" were a pair of handled cups which the children supposed to be silver, and which they always used at table.\\nDotty knew she was doing wrong every time she played \"King and Queen.\" She knew the milk was not hers, but Mrs. Gray's; still she said to herself, ...</td>\n",
       "    </tr>\n",
       "    <tr>\n",
       "      <th>2</th>\n",
       "      <td>0df072751</td>\n",
       "      <td>NaN</td>\n",
       "      <td>NaN</td>\n",
       "      <td>It was a bright and cheerful scene that greeted the eyes of Captain Raymond and his son as they entered the parlor of the adjacent cottage.\\nIt was strictly a family gathering, yet the room was quite full. Mr. Dinsmore was there with his wife, his daughter Elsie and her children, Edward and Zoe, Elsie Leland with her husband and babe, Violet Raymond with her husband's two little girls, Lulu and Grace, and lastly Rosie and Walter.\\nEverybody had a kindly greeting for the captain, and Violet's bright face grew still brighter as she made room for him on the sofa by her side.\\n\"We were beginni...</td>\n",
       "    </tr>\n",
       "    <tr>\n",
       "      <th>3</th>\n",
       "      <td>04caf4e0c</td>\n",
       "      <td>https://en.wikipedia.org/wiki/Cell_division</td>\n",
       "      <td>CC BY-SA 3.0</td>\n",
       "      <td>Cell division is the process by which a parent cell divides into two or more daughter cells. Cell division usually occurs as part of a larger cell cycle.\\n In eukaryotes, there are two distinct types of cell division: a vegetative division, whereby each daughter cell is genetically identical to the parent cell (mitosis), and a reproductive cell division, whereby the number of chromosomes in the daughter cells is reduced by half, to produce haploid gametes (meiosis). \\nMeiosis results in four haploid daughter cells by undergoing one round of DNA replication followed by two divisions: homolo...</td>\n",
       "    </tr>\n",
       "    <tr>\n",
       "      <th>4</th>\n",
       "      <td>0e63f8bea</td>\n",
       "      <td>https://en.wikipedia.org/wiki/Debugging</td>\n",
       "      <td>CC BY-SA 3.0</td>\n",
       "      <td>Debugging is the process of finding and resolving of defects that prevent correct operation of computer software or a system. Debugging tends to be harder when various subsystems are tightly coupled, as changes in one may cause bugs to emerge in another.\\nNumerous books have been written about debugging, as it involves numerous aspects, including interactive debugging, control flow, integration testing, log files, monitoring (application, system), memory dumps, profiling, Statistical Process Control, and special design tactics to improve detection while simplifying changes. The terms \"bug\"...</td>\n",
       "    </tr>\n",
       "    <tr>\n",
       "      <th>5</th>\n",
       "      <td>12537fe78</td>\n",
       "      <td>NaN</td>\n",
       "      <td>NaN</td>\n",
       "      <td>To explain transitivity, let us look first at a totally different example that has a lot to do with transitivity but nothing to do with rationality. A combination of choices is rational if an observer can deduce someone else's preferences (that is, learn what that person likes best, medium, and least) just by observing his choices. Suppose I put your friends Adam and Ben side-by-side and I see that Adam is taller than Ben. Then I put Ben and Charlie side-by-side and I see that Ben is taller than Charlie. Can you tell me who is taller, Adam or Charlie? Adam, of course. How do we know? We si...</td>\n",
       "    </tr>\n",
       "    <tr>\n",
       "      <th>6</th>\n",
       "      <td>965e592c0</td>\n",
       "      <td>https://www.africanstorybook.org/#</td>\n",
       "      <td>CC BY 4.0</td>\n",
       "      <td>Milka and John are playing in the garden. Her little sister is playing too. Milka is ready to start classes next week and it will be her first term in school. In the morning, Milka gets up early to take a bath. She puts on her school uniform and carries her school bag. Her Mother gives her two thousand shillings for school fees and five hundred shillings for transport. Then, she quickly goes to school. Meanwhile, her big brother stays at home. He is still in his bed and sleeps. Once she grows up and graduates school, Milka dreams to build a beautiful house for her and her family. While she...</td>\n",
       "    </tr>\n",
       "  </tbody>\n",
       "</table>\n",
       "</div>"
      ],
      "text/plain": [
       "          id                                    url_legal       license  \\\n",
       "0  c0f722661                                          NaN           NaN   \n",
       "1  f0953f0a5                                          NaN           NaN   \n",
       "2  0df072751                                          NaN           NaN   \n",
       "3  04caf4e0c  https://en.wikipedia.org/wiki/Cell_division  CC BY-SA 3.0   \n",
       "4  0e63f8bea      https://en.wikipedia.org/wiki/Debugging  CC BY-SA 3.0   \n",
       "5  12537fe78                                          NaN           NaN   \n",
       "6  965e592c0           https://www.africanstorybook.org/#     CC BY 4.0   \n",
       "\n",
       "                                                                                                                                                                                                                                                                                                                                                                                                                                                                                                                                                                                                                   excerpt  \n",
       "0  My hope lay in Jack's promise that he would keep a bright light burning in the upper story to guide me on my course. On a clear night this light was visible from the village, but somehow or other I failed to take into account the state of the weather. The air was full of eddying flakes, which would render the headlight of a locomotive invisible a hundred yards distant. Strange that this important fact never occurred to me until I was fully a fourth of a mile from the village. Then, after looking in vain for the beacon light, the danger of my situation struck me, and I halted.\\n\"I am certai...  \n",
       "1  Dotty continued to go to Mrs. Gray's every night with the milk. Sometimes Katie went with her, and then they always paused a while under the acorn-tree and played \"King and Queen.\" Dotty said she wished they could ever remember to bring their nipperkins, for in that case the milk would taste a great deal more like nectar. The \"nipperkins\" were a pair of handled cups which the children supposed to be silver, and which they always used at table.\\nDotty knew she was doing wrong every time she played \"King and Queen.\" She knew the milk was not hers, but Mrs. Gray's; still she said to herself, ...  \n",
       "2  It was a bright and cheerful scene that greeted the eyes of Captain Raymond and his son as they entered the parlor of the adjacent cottage.\\nIt was strictly a family gathering, yet the room was quite full. Mr. Dinsmore was there with his wife, his daughter Elsie and her children, Edward and Zoe, Elsie Leland with her husband and babe, Violet Raymond with her husband's two little girls, Lulu and Grace, and lastly Rosie and Walter.\\nEverybody had a kindly greeting for the captain, and Violet's bright face grew still brighter as she made room for him on the sofa by her side.\\n\"We were beginni...  \n",
       "3  Cell division is the process by which a parent cell divides into two or more daughter cells. Cell division usually occurs as part of a larger cell cycle.\\n In eukaryotes, there are two distinct types of cell division: a vegetative division, whereby each daughter cell is genetically identical to the parent cell (mitosis), and a reproductive cell division, whereby the number of chromosomes in the daughter cells is reduced by half, to produce haploid gametes (meiosis). \\nMeiosis results in four haploid daughter cells by undergoing one round of DNA replication followed by two divisions: homolo...  \n",
       "4  Debugging is the process of finding and resolving of defects that prevent correct operation of computer software or a system. Debugging tends to be harder when various subsystems are tightly coupled, as changes in one may cause bugs to emerge in another.\\nNumerous books have been written about debugging, as it involves numerous aspects, including interactive debugging, control flow, integration testing, log files, monitoring (application, system), memory dumps, profiling, Statistical Process Control, and special design tactics to improve detection while simplifying changes. The terms \"bug\"...  \n",
       "5  To explain transitivity, let us look first at a totally different example that has a lot to do with transitivity but nothing to do with rationality. A combination of choices is rational if an observer can deduce someone else's preferences (that is, learn what that person likes best, medium, and least) just by observing his choices. Suppose I put your friends Adam and Ben side-by-side and I see that Adam is taller than Ben. Then I put Ben and Charlie side-by-side and I see that Ben is taller than Charlie. Can you tell me who is taller, Adam or Charlie? Adam, of course. How do we know? We si...  \n",
       "6  Milka and John are playing in the garden. Her little sister is playing too. Milka is ready to start classes next week and it will be her first term in school. In the morning, Milka gets up early to take a bath. She puts on her school uniform and carries her school bag. Her Mother gives her two thousand shillings for school fees and five hundred shillings for transport. Then, she quickly goes to school. Meanwhile, her big brother stays at home. He is still in his bed and sleeps. Once she grows up and graduates school, Milka dreams to build a beautiful house for her and her family. While she...  "
      ]
     },
     "execution_count": 15,
     "metadata": {},
     "output_type": "execute_result"
    }
   ],
   "source": [
    "test_df"
   ]
  },
  {
   "cell_type": "code",
   "execution_count": 16,
   "id": "83fbf8f2",
   "metadata": {
    "execution": {
     "iopub.execute_input": "2021-07-19T06:31:27.883766Z",
     "iopub.status.busy": "2021-07-19T06:31:27.882967Z",
     "iopub.status.idle": "2021-07-19T06:31:27.885353Z",
     "shell.execute_reply": "2021-07-19T06:31:27.885720Z"
    },
    "papermill": {
     "duration": 0.055536,
     "end_time": "2021-07-19T06:31:27.885861",
     "exception": false,
     "start_time": "2021-07-19T06:31:27.830325",
     "status": "completed"
    },
    "tags": []
   },
   "outputs": [],
   "source": [
    "def prepare_txts_pred(txts, tokenizer, max_doc_len=18, max_sent_len=49):\n",
    "    docs = [[tokenizer(sent)[:max_sent_len] for sent in sent_tokenize(txt)[:max_doc_len]] for txt in txts]\n",
    "    docs = [doc + [[]] * (max_doc_len - len(doc)) for doc in docs]\n",
    "    docs = [[s + [tokenizer.pad_token] * (max_sent_len - len(s)) for s in doc] for doc in docs]\n",
    "    return Tensor(docs)"
   ]
  },
  {
   "cell_type": "code",
   "execution_count": 17,
   "id": "2db79bcf",
   "metadata": {
    "execution": {
     "iopub.execute_input": "2021-07-19T06:31:28.003402Z",
     "iopub.status.busy": "2021-07-19T06:31:28.002521Z",
     "iopub.status.idle": "2021-07-19T06:31:28.004665Z",
     "shell.execute_reply": "2021-07-19T06:31:28.005028Z"
    },
    "papermill": {
     "duration": 0.072539,
     "end_time": "2021-07-19T06:31:28.005171",
     "exception": false,
     "start_time": "2021-07-19T06:31:27.932632",
     "status": "completed"
    },
    "tags": []
   },
   "outputs": [],
   "source": [
    "txts = test_df.excerpt.tolist()\n",
    "x = prepare_txts_pred(txts, tokenizer)\n"
   ]
  },
  {
   "cell_type": "code",
   "execution_count": 18,
   "id": "dc01b66c",
   "metadata": {
    "execution": {
     "iopub.execute_input": "2021-07-19T06:31:28.105565Z",
     "iopub.status.busy": "2021-07-19T06:31:28.104798Z",
     "iopub.status.idle": "2021-07-19T06:31:28.144868Z",
     "shell.execute_reply": "2021-07-19T06:31:28.144384Z"
    },
    "papermill": {
     "duration": 0.093167,
     "end_time": "2021-07-19T06:31:28.144984",
     "exception": false,
     "start_time": "2021-07-19T06:31:28.051817",
     "status": "completed"
    },
    "tags": []
   },
   "outputs": [],
   "source": [
    "model = get_model()"
   ]
  },
  {
   "cell_type": "code",
   "execution_count": 19,
   "id": "87fe6176",
   "metadata": {
    "execution": {
     "iopub.execute_input": "2021-07-19T06:31:28.392202Z",
     "iopub.status.busy": "2021-07-19T06:31:28.391516Z",
     "iopub.status.idle": "2021-07-19T06:31:28.394387Z",
     "shell.execute_reply": "2021-07-19T06:31:28.394795Z"
    },
    "papermill": {
     "duration": 0.202476,
     "end_time": "2021-07-19T06:31:28.394941",
     "exception": false,
     "start_time": "2021-07-19T06:31:28.192465",
     "status": "completed"
    },
    "tags": []
   },
   "outputs": [
    {
     "data": {
      "text/plain": [
       "9885"
      ]
     },
     "execution_count": 19,
     "metadata": {},
     "output_type": "execute_result"
    }
   ],
   "source": [
    "del learn\n",
    "gc.collect()"
   ]
  },
  {
   "cell_type": "code",
   "execution_count": null,
   "id": "8ee88400",
   "metadata": {
    "papermill": {
     "duration": 0.047506,
     "end_time": "2021-07-19T06:31:28.489430",
     "exception": false,
     "start_time": "2021-07-19T06:31:28.441924",
     "status": "completed"
    },
    "tags": []
   },
   "outputs": [],
   "source": []
  },
  {
   "cell_type": "markdown",
   "id": "c4f92123",
   "metadata": {
    "papermill": {
     "duration": 0.046796,
     "end_time": "2021-07-19T06:31:28.583259",
     "exception": false,
     "start_time": "2021-07-19T06:31:28.536463",
     "status": "completed"
    },
    "tags": []
   },
   "source": [
    "## Load Model\n",
    "\n",
    "Load the trained model for prediction on test dataset"
   ]
  },
  {
   "cell_type": "code",
   "execution_count": 20,
   "id": "b68a459d",
   "metadata": {
    "execution": {
     "iopub.execute_input": "2021-07-19T06:31:28.683478Z",
     "iopub.status.busy": "2021-07-19T06:31:28.682584Z",
     "iopub.status.idle": "2021-07-19T06:31:28.968476Z",
     "shell.execute_reply": "2021-07-19T06:31:28.968889Z"
    },
    "papermill": {
     "duration": 0.338394,
     "end_time": "2021-07-19T06:31:28.969035",
     "exception": false,
     "start_time": "2021-07-19T06:31:28.630641",
     "status": "completed"
    },
    "tags": []
   },
   "outputs": [
    {
     "data": {
      "text/plain": [
       "<All keys matched successfully>"
      ]
     },
     "execution_count": 20,
     "metadata": {},
     "output_type": "execute_result"
    }
   ],
   "source": [
    "model.load_state_dict(torch.load('./models/model.pth'))"
   ]
  },
  {
   "cell_type": "code",
   "execution_count": 21,
   "id": "1620d4ed",
   "metadata": {
    "execution": {
     "iopub.execute_input": "2021-07-19T06:31:29.068199Z",
     "iopub.status.busy": "2021-07-19T06:31:29.067384Z",
     "iopub.status.idle": "2021-07-19T06:31:29.073734Z",
     "shell.execute_reply": "2021-07-19T06:31:29.073319Z"
    },
    "papermill": {
     "duration": 0.057683,
     "end_time": "2021-07-19T06:31:29.073847",
     "exception": false,
     "start_time": "2021-07-19T06:31:29.016164",
     "status": "completed"
    },
    "tags": []
   },
   "outputs": [],
   "source": [
    "device = \"cuda:0\"\n",
    "model = model.to(device)"
   ]
  },
  {
   "cell_type": "code",
   "execution_count": 22,
   "id": "539cb124",
   "metadata": {
    "execution": {
     "iopub.execute_input": "2021-07-19T06:31:29.173578Z",
     "iopub.status.busy": "2021-07-19T06:31:29.172860Z",
     "iopub.status.idle": "2021-07-19T06:31:29.175898Z",
     "shell.execute_reply": "2021-07-19T06:31:29.176365Z"
    },
    "papermill": {
     "duration": 0.055094,
     "end_time": "2021-07-19T06:31:29.176501",
     "exception": false,
     "start_time": "2021-07-19T06:31:29.121407",
     "status": "completed"
    },
    "tags": []
   },
   "outputs": [
    {
     "data": {
      "text/plain": [
       "7"
      ]
     },
     "execution_count": 22,
     "metadata": {},
     "output_type": "execute_result"
    }
   ],
   "source": [
    "len(x)"
   ]
  },
  {
   "cell_type": "code",
   "execution_count": 23,
   "id": "be026775",
   "metadata": {
    "execution": {
     "iopub.execute_input": "2021-07-19T06:31:29.316992Z",
     "iopub.status.busy": "2021-07-19T06:31:29.316118Z",
     "iopub.status.idle": "2021-07-19T06:31:29.318855Z",
     "shell.execute_reply": "2021-07-19T06:31:29.318415Z"
    },
    "papermill": {
     "duration": 0.053874,
     "end_time": "2021-07-19T06:31:29.318963",
     "exception": false,
     "start_time": "2021-07-19T06:31:29.265089",
     "status": "completed"
    },
    "tags": []
   },
   "outputs": [],
   "source": [
    "pred_batch_List=[]"
   ]
  },
  {
   "cell_type": "code",
   "execution_count": 24,
   "id": "e27b9d5d",
   "metadata": {
    "execution": {
     "iopub.execute_input": "2021-07-19T06:31:29.419169Z",
     "iopub.status.busy": "2021-07-19T06:31:29.418332Z",
     "iopub.status.idle": "2021-07-19T06:31:29.420594Z",
     "shell.execute_reply": "2021-07-19T06:31:29.421005Z"
    },
    "papermill": {
     "duration": 0.054193,
     "end_time": "2021-07-19T06:31:29.421141",
     "exception": false,
     "start_time": "2021-07-19T06:31:29.366948",
     "status": "completed"
    },
    "tags": []
   },
   "outputs": [],
   "source": [
    "last = 0"
   ]
  },
  {
   "cell_type": "markdown",
   "id": "36f99d42",
   "metadata": {
    "papermill": {
     "duration": 0.050143,
     "end_time": "2021-07-19T06:31:29.520310",
     "exception": false,
     "start_time": "2021-07-19T06:31:29.470167",
     "status": "completed"
    },
    "tags": []
   },
   "source": [
    "## Batching\n",
    "Batch the inputs during prediction as well since the test set during submission run is a much larger dataset."
   ]
  },
  {
   "cell_type": "code",
   "execution_count": 25,
   "id": "ed6f3cfd",
   "metadata": {
    "execution": {
     "iopub.execute_input": "2021-07-19T06:31:29.711811Z",
     "iopub.status.busy": "2021-07-19T06:31:29.711027Z",
     "iopub.status.idle": "2021-07-19T06:31:29.714965Z",
     "shell.execute_reply": "2021-07-19T06:31:29.714443Z"
    },
    "papermill": {
     "duration": 0.146379,
     "end_time": "2021-07-19T06:31:29.715104",
     "exception": false,
     "start_time": "2021-07-19T06:31:29.568725",
     "status": "completed"
    },
    "tags": []
   },
   "outputs": [],
   "source": [
    "for i in range(0,len(x)-4,4):\n",
    "    pred_batch_List.append((x[i:i+4]))\n",
    "    last = i + 4\n",
    "    torch.cuda.empty_cache()\n",
    "pred_batch_List.append(x[last:len(x)])"
   ]
  },
  {
   "cell_type": "code",
   "execution_count": null,
   "id": "9e20fc10",
   "metadata": {
    "papermill": {
     "duration": 1.246501,
     "end_time": "2021-07-19T06:31:31.015301",
     "exception": false,
     "start_time": "2021-07-19T06:31:29.768800",
     "status": "completed"
    },
    "tags": []
   },
   "outputs": [],
   "source": [
    "\n"
   ]
  },
  {
   "cell_type": "code",
   "execution_count": 26,
   "id": "b661119b",
   "metadata": {
    "execution": {
     "iopub.execute_input": "2021-07-19T06:31:31.119546Z",
     "iopub.status.busy": "2021-07-19T06:31:31.118679Z",
     "iopub.status.idle": "2021-07-19T06:31:31.120816Z",
     "shell.execute_reply": "2021-07-19T06:31:31.121295Z"
    },
    "papermill": {
     "duration": 0.054841,
     "end_time": "2021-07-19T06:31:31.121438",
     "exception": false,
     "start_time": "2021-07-19T06:31:31.066597",
     "status": "completed"
    },
    "tags": []
   },
   "outputs": [],
   "source": [
    "predictions = []"
   ]
  },
  {
   "cell_type": "markdown",
   "id": "4d154f55",
   "metadata": {
    "papermill": {
     "duration": 0.048475,
     "end_time": "2021-07-19T06:31:31.218378",
     "exception": false,
     "start_time": "2021-07-19T06:31:31.169903",
     "status": "completed"
    },
    "tags": []
   },
   "source": [
    "## Predicting"
   ]
  },
  {
   "cell_type": "code",
   "execution_count": 27,
   "id": "81ea4fbb",
   "metadata": {
    "execution": {
     "iopub.execute_input": "2021-07-19T06:31:31.320342Z",
     "iopub.status.busy": "2021-07-19T06:31:31.319538Z",
     "iopub.status.idle": "2021-07-19T06:31:31.674258Z",
     "shell.execute_reply": "2021-07-19T06:31:31.673731Z"
    },
    "papermill": {
     "duration": 0.407673,
     "end_time": "2021-07-19T06:31:31.674434",
     "exception": false,
     "start_time": "2021-07-19T06:31:31.266761",
     "status": "completed"
    },
    "tags": []
   },
   "outputs": [],
   "source": [
    "for x in pred_batch_List:\n",
    "    with torch.no_grad():\n",
    "        a= x.to(device)\n",
    "        y_temp = model(a)\n",
    "        y_temp = y_temp.cpu()\n",
    "        predictions.append(y_temp)\n",
    "    del y_temp\n",
    "    del a\n",
    "    gc.collect()\n",
    "    "
   ]
  },
  {
   "cell_type": "code",
   "execution_count": 28,
   "id": "afd767e6",
   "metadata": {
    "execution": {
     "iopub.execute_input": "2021-07-19T06:31:31.776377Z",
     "iopub.status.busy": "2021-07-19T06:31:31.775484Z",
     "iopub.status.idle": "2021-07-19T06:31:31.777628Z",
     "shell.execute_reply": "2021-07-19T06:31:31.777994Z"
    },
    "papermill": {
     "duration": 0.05481,
     "end_time": "2021-07-19T06:31:31.778134",
     "exception": false,
     "start_time": "2021-07-19T06:31:31.723324",
     "status": "completed"
    },
    "tags": []
   },
   "outputs": [],
   "source": [
    "import operator as op"
   ]
  },
  {
   "cell_type": "code",
   "execution_count": 29,
   "id": "2232d7ac",
   "metadata": {
    "execution": {
     "iopub.execute_input": "2021-07-19T06:31:31.880890Z",
     "iopub.status.busy": "2021-07-19T06:31:31.880067Z",
     "iopub.status.idle": "2021-07-19T06:31:31.883330Z",
     "shell.execute_reply": "2021-07-19T06:31:31.883817Z"
    },
    "papermill": {
     "duration": 0.057382,
     "end_time": "2021-07-19T06:31:31.883949",
     "exception": false,
     "start_time": "2021-07-19T06:31:31.826567",
     "status": "completed"
    },
    "tags": []
   },
   "outputs": [
    {
     "data": {
      "text/plain": [
       "'|===========================================================================|\\n|                  PyTorch CUDA memory summary, device ID 0                 |\\n|---------------------------------------------------------------------------|\\n|            CUDA OOMs: 0            |        cudaMalloc retries: 0         |\\n|===========================================================================|\\n|        Metric         | Cur Usage  | Peak Usage | Tot Alloc  | Tot Freed  |\\n|---------------------------------------------------------------------------|\\n| Allocated memory      |  323437 KB |    1900 MB |    8634 GB |    8633 GB |\\n|       from large pool |  313344 KB |    1857 MB |    8384 GB |    8384 GB |\\n|       from small pool |   10093 KB |      70 MB |     249 GB |     249 GB |\\n|---------------------------------------------------------------------------|\\n| Active memory         |  323437 KB |    1900 MB |    8634 GB |    8633 GB |\\n|       from large pool |  313344 KB |    1857 MB |    8384 GB |    8384 GB |\\n|       from small pool |   10093 KB |      70 MB |     249 GB |     249 GB |\\n|---------------------------------------------------------------------------|\\n| GPU reserved memory   |  350208 KB |    2390 MB |    2412 MB |    2070 MB |\\n|       from large pool |  333824 KB |    2314 MB |    2334 MB |    2008 MB |\\n|       from small pool |   16384 KB |      76 MB |      78 MB |      62 MB |\\n|---------------------------------------------------------------------------|\\n| Non-releasable memory |    4242 KB |  158001 KB |    3177 GB |    3177 GB |\\n|       from large pool |       0 KB |  135562 KB |    2876 GB |    2876 GB |\\n|       from small pool |    4242 KB |   27318 KB |     300 GB |     300 GB |\\n|---------------------------------------------------------------------------|\\n| Allocations           |     143    |     845    |    3190 K  |    3190 K  |\\n|       from large pool |       1    |     108    |     684 K  |     684 K  |\\n|       from small pool |     142    |     740    |    2506 K  |    2506 K  |\\n|---------------------------------------------------------------------------|\\n| Active allocs         |     143    |     845    |    3190 K  |    3190 K  |\\n|       from large pool |       1    |     108    |     684 K  |     684 K  |\\n|       from small pool |     142    |     740    |    2506 K  |    2506 K  |\\n|---------------------------------------------------------------------------|\\n| GPU reserved segments |      10    |     118    |     120    |     110    |\\n|       from large pool |       2    |      80    |      81    |      79    |\\n|       from small pool |       8    |      38    |      39    |      31    |\\n|---------------------------------------------------------------------------|\\n| Non-releasable allocs |       8    |      84    |     997 K  |     997 K  |\\n|       from large pool |       0    |      24    |     221 K  |     221 K  |\\n|       from small pool |       8    |      65    |     776 K  |     776 K  |\\n|===========================================================================|\\n'"
      ]
     },
     "execution_count": 29,
     "metadata": {},
     "output_type": "execute_result"
    }
   ],
   "source": [
    " torch.cuda.memory_summary(device=None, abbreviated=False)"
   ]
  },
  {
   "cell_type": "code",
   "execution_count": 30,
   "id": "06a3986b",
   "metadata": {
    "execution": {
     "iopub.execute_input": "2021-07-19T06:31:31.987037Z",
     "iopub.status.busy": "2021-07-19T06:31:31.986308Z",
     "iopub.status.idle": "2021-07-19T06:31:31.989427Z",
     "shell.execute_reply": "2021-07-19T06:31:31.989871Z"
    },
    "papermill": {
     "duration": 0.056967,
     "end_time": "2021-07-19T06:31:31.990001",
     "exception": false,
     "start_time": "2021-07-19T06:31:31.933034",
     "status": "completed"
    },
    "tags": []
   },
   "outputs": [
    {
     "data": {
      "text/plain": [
       "2"
      ]
     },
     "execution_count": 30,
     "metadata": {},
     "output_type": "execute_result"
    }
   ],
   "source": [
    "len(pred_batch_List)"
   ]
  },
  {
   "cell_type": "markdown",
   "id": "ae7d85ee",
   "metadata": {
    "papermill": {
     "duration": 0.048354,
     "end_time": "2021-07-19T06:31:32.087614",
     "exception": false,
     "start_time": "2021-07-19T06:31:32.039260",
     "status": "completed"
    },
    "tags": []
   },
   "source": []
  },
  {
   "cell_type": "code",
   "execution_count": 31,
   "id": "302f715b",
   "metadata": {
    "execution": {
     "iopub.execute_input": "2021-07-19T06:31:32.191159Z",
     "iopub.status.busy": "2021-07-19T06:31:32.190285Z",
     "iopub.status.idle": "2021-07-19T06:31:32.192496Z",
     "shell.execute_reply": "2021-07-19T06:31:32.192873Z"
    },
    "papermill": {
     "duration": 0.055526,
     "end_time": "2021-07-19T06:31:32.193012",
     "exception": false,
     "start_time": "2021-07-19T06:31:32.137486",
     "status": "completed"
    },
    "tags": []
   },
   "outputs": [],
   "source": [
    "y=torch.cat(predictions)"
   ]
  },
  {
   "cell_type": "code",
   "execution_count": 32,
   "id": "bb82163b",
   "metadata": {
    "execution": {
     "iopub.execute_input": "2021-07-19T06:31:32.296405Z",
     "iopub.status.busy": "2021-07-19T06:31:32.295615Z",
     "iopub.status.idle": "2021-07-19T06:31:32.298693Z",
     "shell.execute_reply": "2021-07-19T06:31:32.299198Z"
    },
    "papermill": {
     "duration": 0.05668,
     "end_time": "2021-07-19T06:31:32.299343",
     "exception": false,
     "start_time": "2021-07-19T06:31:32.242663",
     "status": "completed"
    },
    "tags": []
   },
   "outputs": [
    {
     "data": {
      "text/plain": [
       "7"
      ]
     },
     "execution_count": 32,
     "metadata": {},
     "output_type": "execute_result"
    }
   ],
   "source": [
    "len(y)"
   ]
  },
  {
   "cell_type": "code",
   "execution_count": null,
   "id": "d9f7631f",
   "metadata": {
    "papermill": {
     "duration": 0.049085,
     "end_time": "2021-07-19T06:31:32.397659",
     "exception": false,
     "start_time": "2021-07-19T06:31:32.348574",
     "status": "completed"
    },
    "tags": []
   },
   "outputs": [],
   "source": []
  },
  {
   "cell_type": "code",
   "execution_count": 33,
   "id": "037bf4c4",
   "metadata": {
    "execution": {
     "iopub.execute_input": "2021-07-19T06:31:32.502168Z",
     "iopub.status.busy": "2021-07-19T06:31:32.501357Z",
     "iopub.status.idle": "2021-07-19T06:31:32.503463Z",
     "shell.execute_reply": "2021-07-19T06:31:32.503867Z"
    },
    "papermill": {
     "duration": 0.056351,
     "end_time": "2021-07-19T06:31:32.503999",
     "exception": false,
     "start_time": "2021-07-19T06:31:32.447648",
     "status": "completed"
    },
    "tags": []
   },
   "outputs": [],
   "source": [
    "y = y.cpu()"
   ]
  },
  {
   "cell_type": "code",
   "execution_count": 34,
   "id": "bcf607af",
   "metadata": {
    "execution": {
     "iopub.execute_input": "2021-07-19T06:31:32.609676Z",
     "iopub.status.busy": "2021-07-19T06:31:32.608822Z",
     "iopub.status.idle": "2021-07-19T06:31:32.611365Z",
     "shell.execute_reply": "2021-07-19T06:31:32.610917Z"
    },
    "papermill": {
     "duration": 0.056037,
     "end_time": "2021-07-19T06:31:32.611479",
     "exception": false,
     "start_time": "2021-07-19T06:31:32.555442",
     "status": "completed"
    },
    "tags": []
   },
   "outputs": [],
   "source": [
    "preds = y.detach().numpy()"
   ]
  },
  {
   "cell_type": "code",
   "execution_count": 35,
   "id": "eb72bc42",
   "metadata": {
    "execution": {
     "iopub.execute_input": "2021-07-19T06:31:32.718392Z",
     "iopub.status.busy": "2021-07-19T06:31:32.717628Z",
     "iopub.status.idle": "2021-07-19T06:31:32.721231Z",
     "shell.execute_reply": "2021-07-19T06:31:32.720763Z"
    },
    "papermill": {
     "duration": 0.058585,
     "end_time": "2021-07-19T06:31:32.721344",
     "exception": false,
     "start_time": "2021-07-19T06:31:32.662759",
     "status": "completed"
    },
    "tags": []
   },
   "outputs": [
    {
     "data": {
      "text/plain": [
       "array([-0.45213774, -0.18718731, -0.3138944 , -1.8271401 , -1.7936956 ,\n",
       "       -1.4590604 ,  0.10502657], dtype=float32)"
      ]
     },
     "execution_count": 35,
     "metadata": {},
     "output_type": "execute_result"
    }
   ],
   "source": [
    "preds"
   ]
  },
  {
   "cell_type": "code",
   "execution_count": 36,
   "id": "a19d50d9",
   "metadata": {
    "execution": {
     "iopub.execute_input": "2021-07-19T06:31:32.829467Z",
     "iopub.status.busy": "2021-07-19T06:31:32.828731Z",
     "iopub.status.idle": "2021-07-19T06:31:32.831850Z",
     "shell.execute_reply": "2021-07-19T06:31:32.832329Z"
    },
    "papermill": {
     "duration": 0.060916,
     "end_time": "2021-07-19T06:31:32.832476",
     "exception": false,
     "start_time": "2021-07-19T06:31:32.771560",
     "status": "completed"
    },
    "tags": []
   },
   "outputs": [
    {
     "data": {
      "text/plain": [
       "[-0.45213774,\n",
       " -0.18718731,\n",
       " -0.3138944,\n",
       " -1.8271401,\n",
       " -1.7936956,\n",
       " -1.4590604,\n",
       " 0.10502657]"
      ]
     },
     "execution_count": 36,
     "metadata": {},
     "output_type": "execute_result"
    }
   ],
   "source": [
    "list(preds)"
   ]
  },
  {
   "cell_type": "code",
   "execution_count": 37,
   "id": "4b24ea20",
   "metadata": {
    "execution": {
     "iopub.execute_input": "2021-07-19T06:31:32.947659Z",
     "iopub.status.busy": "2021-07-19T06:31:32.946814Z",
     "iopub.status.idle": "2021-07-19T06:31:32.949993Z",
     "shell.execute_reply": "2021-07-19T06:31:32.950519Z"
    },
    "papermill": {
     "duration": 0.066386,
     "end_time": "2021-07-19T06:31:32.950663",
     "exception": false,
     "start_time": "2021-07-19T06:31:32.884277",
     "status": "completed"
    },
    "tags": []
   },
   "outputs": [
    {
     "data": {
      "text/html": [
       "<div>\n",
       "<style scoped>\n",
       "    .dataframe tbody tr th:only-of-type {\n",
       "        vertical-align: middle;\n",
       "    }\n",
       "\n",
       "    .dataframe tbody tr th {\n",
       "        vertical-align: top;\n",
       "    }\n",
       "\n",
       "    .dataframe thead th {\n",
       "        text-align: right;\n",
       "    }\n",
       "</style>\n",
       "<table border=\"1\" class=\"dataframe\">\n",
       "  <thead>\n",
       "    <tr style=\"text-align: right;\">\n",
       "      <th></th>\n",
       "      <th>id</th>\n",
       "      <th>url_legal</th>\n",
       "      <th>license</th>\n",
       "      <th>excerpt</th>\n",
       "    </tr>\n",
       "  </thead>\n",
       "  <tbody>\n",
       "    <tr>\n",
       "      <th>0</th>\n",
       "      <td>c0f722661</td>\n",
       "      <td>NaN</td>\n",
       "      <td>NaN</td>\n",
       "      <td>My hope lay in Jack's promise that he would keep a bright light burning in the upper story to guide me on my course. On a clear night this light was visible from the village, but somehow or other I failed to take into account the state of the weather. The air was full of eddying flakes, which would render the headlight of a locomotive invisible a hundred yards distant. Strange that this important fact never occurred to me until I was fully a fourth of a mile from the village. Then, after looking in vain for the beacon light, the danger of my situation struck me, and I halted.\\n\"I am certai...</td>\n",
       "    </tr>\n",
       "    <tr>\n",
       "      <th>1</th>\n",
       "      <td>f0953f0a5</td>\n",
       "      <td>NaN</td>\n",
       "      <td>NaN</td>\n",
       "      <td>Dotty continued to go to Mrs. Gray's every night with the milk. Sometimes Katie went with her, and then they always paused a while under the acorn-tree and played \"King and Queen.\" Dotty said she wished they could ever remember to bring their nipperkins, for in that case the milk would taste a great deal more like nectar. The \"nipperkins\" were a pair of handled cups which the children supposed to be silver, and which they always used at table.\\nDotty knew she was doing wrong every time she played \"King and Queen.\" She knew the milk was not hers, but Mrs. Gray's; still she said to herself, ...</td>\n",
       "    </tr>\n",
       "    <tr>\n",
       "      <th>2</th>\n",
       "      <td>0df072751</td>\n",
       "      <td>NaN</td>\n",
       "      <td>NaN</td>\n",
       "      <td>It was a bright and cheerful scene that greeted the eyes of Captain Raymond and his son as they entered the parlor of the adjacent cottage.\\nIt was strictly a family gathering, yet the room was quite full. Mr. Dinsmore was there with his wife, his daughter Elsie and her children, Edward and Zoe, Elsie Leland with her husband and babe, Violet Raymond with her husband's two little girls, Lulu and Grace, and lastly Rosie and Walter.\\nEverybody had a kindly greeting for the captain, and Violet's bright face grew still brighter as she made room for him on the sofa by her side.\\n\"We were beginni...</td>\n",
       "    </tr>\n",
       "    <tr>\n",
       "      <th>3</th>\n",
       "      <td>04caf4e0c</td>\n",
       "      <td>https://en.wikipedia.org/wiki/Cell_division</td>\n",
       "      <td>CC BY-SA 3.0</td>\n",
       "      <td>Cell division is the process by which a parent cell divides into two or more daughter cells. Cell division usually occurs as part of a larger cell cycle.\\n In eukaryotes, there are two distinct types of cell division: a vegetative division, whereby each daughter cell is genetically identical to the parent cell (mitosis), and a reproductive cell division, whereby the number of chromosomes in the daughter cells is reduced by half, to produce haploid gametes (meiosis). \\nMeiosis results in four haploid daughter cells by undergoing one round of DNA replication followed by two divisions: homolo...</td>\n",
       "    </tr>\n",
       "    <tr>\n",
       "      <th>4</th>\n",
       "      <td>0e63f8bea</td>\n",
       "      <td>https://en.wikipedia.org/wiki/Debugging</td>\n",
       "      <td>CC BY-SA 3.0</td>\n",
       "      <td>Debugging is the process of finding and resolving of defects that prevent correct operation of computer software or a system. Debugging tends to be harder when various subsystems are tightly coupled, as changes in one may cause bugs to emerge in another.\\nNumerous books have been written about debugging, as it involves numerous aspects, including interactive debugging, control flow, integration testing, log files, monitoring (application, system), memory dumps, profiling, Statistical Process Control, and special design tactics to improve detection while simplifying changes. The terms \"bug\"...</td>\n",
       "    </tr>\n",
       "    <tr>\n",
       "      <th>5</th>\n",
       "      <td>12537fe78</td>\n",
       "      <td>NaN</td>\n",
       "      <td>NaN</td>\n",
       "      <td>To explain transitivity, let us look first at a totally different example that has a lot to do with transitivity but nothing to do with rationality. A combination of choices is rational if an observer can deduce someone else's preferences (that is, learn what that person likes best, medium, and least) just by observing his choices. Suppose I put your friends Adam and Ben side-by-side and I see that Adam is taller than Ben. Then I put Ben and Charlie side-by-side and I see that Ben is taller than Charlie. Can you tell me who is taller, Adam or Charlie? Adam, of course. How do we know? We si...</td>\n",
       "    </tr>\n",
       "    <tr>\n",
       "      <th>6</th>\n",
       "      <td>965e592c0</td>\n",
       "      <td>https://www.africanstorybook.org/#</td>\n",
       "      <td>CC BY 4.0</td>\n",
       "      <td>Milka and John are playing in the garden. Her little sister is playing too. Milka is ready to start classes next week and it will be her first term in school. In the morning, Milka gets up early to take a bath. She puts on her school uniform and carries her school bag. Her Mother gives her two thousand shillings for school fees and five hundred shillings for transport. Then, she quickly goes to school. Meanwhile, her big brother stays at home. He is still in his bed and sleeps. Once she grows up and graduates school, Milka dreams to build a beautiful house for her and her family. While she...</td>\n",
       "    </tr>\n",
       "  </tbody>\n",
       "</table>\n",
       "</div>"
      ],
      "text/plain": [
       "          id                                    url_legal       license  \\\n",
       "0  c0f722661                                          NaN           NaN   \n",
       "1  f0953f0a5                                          NaN           NaN   \n",
       "2  0df072751                                          NaN           NaN   \n",
       "3  04caf4e0c  https://en.wikipedia.org/wiki/Cell_division  CC BY-SA 3.0   \n",
       "4  0e63f8bea      https://en.wikipedia.org/wiki/Debugging  CC BY-SA 3.0   \n",
       "5  12537fe78                                          NaN           NaN   \n",
       "6  965e592c0           https://www.africanstorybook.org/#     CC BY 4.0   \n",
       "\n",
       "                                                                                                                                                                                                                                                                                                                                                                                                                                                                                                                                                                                                                   excerpt  \n",
       "0  My hope lay in Jack's promise that he would keep a bright light burning in the upper story to guide me on my course. On a clear night this light was visible from the village, but somehow or other I failed to take into account the state of the weather. The air was full of eddying flakes, which would render the headlight of a locomotive invisible a hundred yards distant. Strange that this important fact never occurred to me until I was fully a fourth of a mile from the village. Then, after looking in vain for the beacon light, the danger of my situation struck me, and I halted.\\n\"I am certai...  \n",
       "1  Dotty continued to go to Mrs. Gray's every night with the milk. Sometimes Katie went with her, and then they always paused a while under the acorn-tree and played \"King and Queen.\" Dotty said she wished they could ever remember to bring their nipperkins, for in that case the milk would taste a great deal more like nectar. The \"nipperkins\" were a pair of handled cups which the children supposed to be silver, and which they always used at table.\\nDotty knew she was doing wrong every time she played \"King and Queen.\" She knew the milk was not hers, but Mrs. Gray's; still she said to herself, ...  \n",
       "2  It was a bright and cheerful scene that greeted the eyes of Captain Raymond and his son as they entered the parlor of the adjacent cottage.\\nIt was strictly a family gathering, yet the room was quite full. Mr. Dinsmore was there with his wife, his daughter Elsie and her children, Edward and Zoe, Elsie Leland with her husband and babe, Violet Raymond with her husband's two little girls, Lulu and Grace, and lastly Rosie and Walter.\\nEverybody had a kindly greeting for the captain, and Violet's bright face grew still brighter as she made room for him on the sofa by her side.\\n\"We were beginni...  \n",
       "3  Cell division is the process by which a parent cell divides into two or more daughter cells. Cell division usually occurs as part of a larger cell cycle.\\n In eukaryotes, there are two distinct types of cell division: a vegetative division, whereby each daughter cell is genetically identical to the parent cell (mitosis), and a reproductive cell division, whereby the number of chromosomes in the daughter cells is reduced by half, to produce haploid gametes (meiosis). \\nMeiosis results in four haploid daughter cells by undergoing one round of DNA replication followed by two divisions: homolo...  \n",
       "4  Debugging is the process of finding and resolving of defects that prevent correct operation of computer software or a system. Debugging tends to be harder when various subsystems are tightly coupled, as changes in one may cause bugs to emerge in another.\\nNumerous books have been written about debugging, as it involves numerous aspects, including interactive debugging, control flow, integration testing, log files, monitoring (application, system), memory dumps, profiling, Statistical Process Control, and special design tactics to improve detection while simplifying changes. The terms \"bug\"...  \n",
       "5  To explain transitivity, let us look first at a totally different example that has a lot to do with transitivity but nothing to do with rationality. A combination of choices is rational if an observer can deduce someone else's preferences (that is, learn what that person likes best, medium, and least) just by observing his choices. Suppose I put your friends Adam and Ben side-by-side and I see that Adam is taller than Ben. Then I put Ben and Charlie side-by-side and I see that Ben is taller than Charlie. Can you tell me who is taller, Adam or Charlie? Adam, of course. How do we know? We si...  \n",
       "6  Milka and John are playing in the garden. Her little sister is playing too. Milka is ready to start classes next week and it will be her first term in school. In the morning, Milka gets up early to take a bath. She puts on her school uniform and carries her school bag. Her Mother gives her two thousand shillings for school fees and five hundred shillings for transport. Then, she quickly goes to school. Meanwhile, her big brother stays at home. He is still in his bed and sleeps. Once she grows up and graduates school, Milka dreams to build a beautiful house for her and her family. While she...  "
      ]
     },
     "execution_count": 37,
     "metadata": {},
     "output_type": "execute_result"
    }
   ],
   "source": [
    "test_df"
   ]
  },
  {
   "cell_type": "code",
   "execution_count": 38,
   "id": "29ecc10f",
   "metadata": {
    "execution": {
     "iopub.execute_input": "2021-07-19T06:31:33.057992Z",
     "iopub.status.busy": "2021-07-19T06:31:33.057228Z",
     "iopub.status.idle": "2021-07-19T06:31:33.059926Z",
     "shell.execute_reply": "2021-07-19T06:31:33.059492Z"
    },
    "papermill": {
     "duration": 0.057816,
     "end_time": "2021-07-19T06:31:33.060033",
     "exception": false,
     "start_time": "2021-07-19T06:31:33.002217",
     "status": "completed"
    },
    "tags": []
   },
   "outputs": [],
   "source": [
    "sub = test_df"
   ]
  },
  {
   "cell_type": "code",
   "execution_count": 39,
   "id": "da820956",
   "metadata": {
    "execution": {
     "iopub.execute_input": "2021-07-19T06:31:33.166678Z",
     "iopub.status.busy": "2021-07-19T06:31:33.166130Z",
     "iopub.status.idle": "2021-07-19T06:31:33.177263Z",
     "shell.execute_reply": "2021-07-19T06:31:33.176819Z"
    },
    "papermill": {
     "duration": 0.065815,
     "end_time": "2021-07-19T06:31:33.177397",
     "exception": false,
     "start_time": "2021-07-19T06:31:33.111582",
     "status": "completed"
    },
    "tags": []
   },
   "outputs": [],
   "source": [
    "samp= pd.read_csv(\"../input/commonlitreadabilityprize/sample_submission.csv\")"
   ]
  },
  {
   "cell_type": "code",
   "execution_count": 40,
   "id": "2674904f",
   "metadata": {
    "execution": {
     "iopub.execute_input": "2021-07-19T06:31:33.289113Z",
     "iopub.status.busy": "2021-07-19T06:31:33.288335Z",
     "iopub.status.idle": "2021-07-19T06:31:33.291586Z",
     "shell.execute_reply": "2021-07-19T06:31:33.292000Z"
    },
    "papermill": {
     "duration": 0.06337,
     "end_time": "2021-07-19T06:31:33.292137",
     "exception": false,
     "start_time": "2021-07-19T06:31:33.228767",
     "status": "completed"
    },
    "tags": []
   },
   "outputs": [
    {
     "data": {
      "text/html": [
       "<div>\n",
       "<style scoped>\n",
       "    .dataframe tbody tr th:only-of-type {\n",
       "        vertical-align: middle;\n",
       "    }\n",
       "\n",
       "    .dataframe tbody tr th {\n",
       "        vertical-align: top;\n",
       "    }\n",
       "\n",
       "    .dataframe thead th {\n",
       "        text-align: right;\n",
       "    }\n",
       "</style>\n",
       "<table border=\"1\" class=\"dataframe\">\n",
       "  <thead>\n",
       "    <tr style=\"text-align: right;\">\n",
       "      <th></th>\n",
       "      <th>id</th>\n",
       "      <th>target</th>\n",
       "    </tr>\n",
       "  </thead>\n",
       "  <tbody>\n",
       "    <tr>\n",
       "      <th>0</th>\n",
       "      <td>c0f722661</td>\n",
       "      <td>0.0</td>\n",
       "    </tr>\n",
       "    <tr>\n",
       "      <th>1</th>\n",
       "      <td>f0953f0a5</td>\n",
       "      <td>0.0</td>\n",
       "    </tr>\n",
       "    <tr>\n",
       "      <th>2</th>\n",
       "      <td>0df072751</td>\n",
       "      <td>0.0</td>\n",
       "    </tr>\n",
       "    <tr>\n",
       "      <th>3</th>\n",
       "      <td>04caf4e0c</td>\n",
       "      <td>0.0</td>\n",
       "    </tr>\n",
       "    <tr>\n",
       "      <th>4</th>\n",
       "      <td>0e63f8bea</td>\n",
       "      <td>0.0</td>\n",
       "    </tr>\n",
       "    <tr>\n",
       "      <th>5</th>\n",
       "      <td>12537fe78</td>\n",
       "      <td>0.0</td>\n",
       "    </tr>\n",
       "    <tr>\n",
       "      <th>6</th>\n",
       "      <td>965e592c0</td>\n",
       "      <td>0.0</td>\n",
       "    </tr>\n",
       "  </tbody>\n",
       "</table>\n",
       "</div>"
      ],
      "text/plain": [
       "          id  target\n",
       "0  c0f722661     0.0\n",
       "1  f0953f0a5     0.0\n",
       "2  0df072751     0.0\n",
       "3  04caf4e0c     0.0\n",
       "4  0e63f8bea     0.0\n",
       "5  12537fe78     0.0\n",
       "6  965e592c0     0.0"
      ]
     },
     "execution_count": 40,
     "metadata": {},
     "output_type": "execute_result"
    }
   ],
   "source": [
    "samp"
   ]
  },
  {
   "cell_type": "code",
   "execution_count": 41,
   "id": "1a476ba8",
   "metadata": {
    "execution": {
     "iopub.execute_input": "2021-07-19T06:31:33.400550Z",
     "iopub.status.busy": "2021-07-19T06:31:33.399739Z",
     "iopub.status.idle": "2021-07-19T06:31:33.402019Z",
     "shell.execute_reply": "2021-07-19T06:31:33.402407Z"
    },
    "papermill": {
     "duration": 0.058449,
     "end_time": "2021-07-19T06:31:33.402550",
     "exception": false,
     "start_time": "2021-07-19T06:31:33.344101",
     "status": "completed"
    },
    "tags": []
   },
   "outputs": [],
   "source": [
    "sub[\"target\"] = preds"
   ]
  },
  {
   "cell_type": "code",
   "execution_count": 42,
   "id": "5e36ec80",
   "metadata": {
    "execution": {
     "iopub.execute_input": "2021-07-19T06:31:33.512684Z",
     "iopub.status.busy": "2021-07-19T06:31:33.511939Z",
     "iopub.status.idle": "2021-07-19T06:31:33.514316Z",
     "shell.execute_reply": "2021-07-19T06:31:33.514765Z"
    },
    "papermill": {
     "duration": 0.060988,
     "end_time": "2021-07-19T06:31:33.514929",
     "exception": false,
     "start_time": "2021-07-19T06:31:33.453941",
     "status": "completed"
    },
    "tags": []
   },
   "outputs": [],
   "source": [
    "sub.drop([\"url_legal\",\"license\",\"excerpt\"],axis=1,inplace=True)"
   ]
  },
  {
   "cell_type": "code",
   "execution_count": 43,
   "id": "28a57aa6",
   "metadata": {
    "execution": {
     "iopub.execute_input": "2021-07-19T06:31:33.628418Z",
     "iopub.status.busy": "2021-07-19T06:31:33.627611Z",
     "iopub.status.idle": "2021-07-19T06:31:33.631404Z",
     "shell.execute_reply": "2021-07-19T06:31:33.630950Z"
    },
    "papermill": {
     "duration": 0.063817,
     "end_time": "2021-07-19T06:31:33.631521",
     "exception": false,
     "start_time": "2021-07-19T06:31:33.567704",
     "status": "completed"
    },
    "tags": []
   },
   "outputs": [
    {
     "data": {
      "text/html": [
       "<div>\n",
       "<style scoped>\n",
       "    .dataframe tbody tr th:only-of-type {\n",
       "        vertical-align: middle;\n",
       "    }\n",
       "\n",
       "    .dataframe tbody tr th {\n",
       "        vertical-align: top;\n",
       "    }\n",
       "\n",
       "    .dataframe thead th {\n",
       "        text-align: right;\n",
       "    }\n",
       "</style>\n",
       "<table border=\"1\" class=\"dataframe\">\n",
       "  <thead>\n",
       "    <tr style=\"text-align: right;\">\n",
       "      <th></th>\n",
       "      <th>id</th>\n",
       "      <th>target</th>\n",
       "    </tr>\n",
       "  </thead>\n",
       "  <tbody>\n",
       "    <tr>\n",
       "      <th>0</th>\n",
       "      <td>c0f722661</td>\n",
       "      <td>-0.452138</td>\n",
       "    </tr>\n",
       "    <tr>\n",
       "      <th>1</th>\n",
       "      <td>f0953f0a5</td>\n",
       "      <td>-0.187187</td>\n",
       "    </tr>\n",
       "    <tr>\n",
       "      <th>2</th>\n",
       "      <td>0df072751</td>\n",
       "      <td>-0.313894</td>\n",
       "    </tr>\n",
       "    <tr>\n",
       "      <th>3</th>\n",
       "      <td>04caf4e0c</td>\n",
       "      <td>-1.827140</td>\n",
       "    </tr>\n",
       "    <tr>\n",
       "      <th>4</th>\n",
       "      <td>0e63f8bea</td>\n",
       "      <td>-1.793696</td>\n",
       "    </tr>\n",
       "    <tr>\n",
       "      <th>5</th>\n",
       "      <td>12537fe78</td>\n",
       "      <td>-1.459060</td>\n",
       "    </tr>\n",
       "    <tr>\n",
       "      <th>6</th>\n",
       "      <td>965e592c0</td>\n",
       "      <td>0.105027</td>\n",
       "    </tr>\n",
       "  </tbody>\n",
       "</table>\n",
       "</div>"
      ],
      "text/plain": [
       "          id    target\n",
       "0  c0f722661 -0.452138\n",
       "1  f0953f0a5 -0.187187\n",
       "2  0df072751 -0.313894\n",
       "3  04caf4e0c -1.827140\n",
       "4  0e63f8bea -1.793696\n",
       "5  12537fe78 -1.459060\n",
       "6  965e592c0  0.105027"
      ]
     },
     "execution_count": 43,
     "metadata": {},
     "output_type": "execute_result"
    }
   ],
   "source": [
    "sub"
   ]
  },
  {
   "cell_type": "markdown",
   "id": "39cf2be3",
   "metadata": {
    "papermill": {
     "duration": 0.051826,
     "end_time": "2021-07-19T06:31:33.735807",
     "exception": false,
     "start_time": "2021-07-19T06:31:33.683981",
     "status": "completed"
    },
    "tags": []
   },
   "source": [
    "## submission\n",
    "save the predictions to sub and save it to submission.csv for prediction"
   ]
  },
  {
   "cell_type": "code",
   "execution_count": 44,
   "id": "5aae53a1",
   "metadata": {
    "execution": {
     "iopub.execute_input": "2021-07-19T06:31:33.855352Z",
     "iopub.status.busy": "2021-07-19T06:31:33.853776Z",
     "iopub.status.idle": "2021-07-19T06:31:33.863302Z",
     "shell.execute_reply": "2021-07-19T06:31:33.863951Z"
    },
    "papermill": {
     "duration": 0.076581,
     "end_time": "2021-07-19T06:31:33.864197",
     "exception": false,
     "start_time": "2021-07-19T06:31:33.787616",
     "status": "completed"
    },
    "tags": []
   },
   "outputs": [],
   "source": [
    "sub.to_csv(\"submission.csv\",index=False)"
   ]
  },
  {
   "cell_type": "markdown",
   "id": "5862b47b",
   "metadata": {
    "papermill": {
     "duration": 0.08742,
     "end_time": "2021-07-19T06:31:34.044461",
     "exception": false,
     "start_time": "2021-07-19T06:31:33.957041",
     "status": "completed"
    },
    "tags": []
   },
   "source": [
    "## Credits"
   ]
  },
  {
   "cell_type": "markdown",
   "id": "4548123d",
   "metadata": {
    "papermill": {
     "duration": 0.085554,
     "end_time": "2021-07-19T06:31:34.216291",
     "exception": false,
     "start_time": "2021-07-19T06:31:34.130737",
     "status": "completed"
    },
    "tags": []
   },
   "source": [
    "* This notebook uses the readnet implementation from https://github.com/vdefont/readnet.\n",
    "* Readnet Paper : https://arxiv.org/abs/2103.04083\n"
   ]
  },
  {
   "cell_type": "markdown",
   "id": "ad8b0cac",
   "metadata": {
    "papermill": {
     "duration": 0.084703,
     "end_time": "2021-07-19T06:31:34.386601",
     "exception": false,
     "start_time": "2021-07-19T06:31:34.301898",
     "status": "completed"
    },
    "tags": []
   },
   "source": [
    "## Results \n",
    "Although the validation score was 0.47 , The submission score was not 0.674 .The model has not generalized well, I have observed this with other models too, do share your thoughts on this in the comments."
   ]
  }
 ],
 "metadata": {
  "kernelspec": {
   "display_name": "Python 3",
   "language": "python",
   "name": "python3"
  },
  "language_info": {
   "codemirror_mode": {
    "name": "ipython",
    "version": 3
   },
   "file_extension": ".py",
   "mimetype": "text/x-python",
   "name": "python",
   "nbconvert_exporter": "python",
   "pygments_lexer": "ipython3",
   "version": "3.7.10"
  },
  "papermill": {
   "default_parameters": {},
   "duration": 407.889083,
   "end_time": "2021-07-19T06:31:36.506916",
   "environment_variables": {},
   "exception": null,
   "input_path": "__notebook__.ipynb",
   "output_path": "__notebook__.ipynb",
   "parameters": {},
   "start_time": "2021-07-19T06:24:48.617833",
   "version": "2.3.3"
  }
 },
 "nbformat": 4,
 "nbformat_minor": 5
}
