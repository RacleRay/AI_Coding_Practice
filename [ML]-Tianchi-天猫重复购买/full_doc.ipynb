{
 "cells": [
  {
   "cell_type": "code",
   "execution_count": null,
   "metadata": {
    "collapsed": false
   },
   "outputs": [],
   "source": [
    "# 如果需要进行持久化安装, 需要使用持久化路径, 如下方代码示例:\n",
    "# If a persistence installation is required, \n",
    "# you need to use the persistence path as the following: \n",
    "# !mkdir /home/aistudio/external-libraries\n",
    "# !pip install beautifulsoup4 -t /home/aistudio/external-libraries"
   ]
  },
  {
   "cell_type": "code",
   "execution_count": null,
   "metadata": {
    "collapsed": false
   },
   "outputs": [],
   "source": [
    "# 同时添加如下代码, 这样每次环境(kernel)启动的时候只要运行下方代码即可: \n",
    "# Also add the following code, \n",
    "# so that every time the environment (kernel) starts, \n",
    "# just run the following code: \n",
    "import sys \n",
    "sys.path.append('/home/aistudio/external-libraries')"
   ]
  },
  {
   "cell_type": "code",
   "execution_count": null,
   "metadata": {
    "collapsed": false
   },
   "outputs": [],
   "source": [
    "# !mv data/data76987/data_format2.zip ."
   ]
  },
  {
   "cell_type": "code",
   "execution_count": null,
   "metadata": {
    "collapsed": false
   },
   "outputs": [],
   "source": [
    "# !unzip data_format1.zip"
   ]
  },
  {
   "cell_type": "code",
   "execution_count": null,
   "metadata": {
    "collapsed": false
   },
   "outputs": [],
   "source": [
    "# !unzip data_format2.zip"
   ]
  },
  {
   "cell_type": "code",
   "execution_count": null,
   "metadata": {
    "collapsed": false
   },
   "outputs": [
    {
     "name": "stdout",
     "output_type": "stream",
     "text": [
      "Looking in indexes: https://mirror.baidu.com/pypi/simple/\n",
      "Collecting numpy\n",
      "\u001b[?25l  Downloading https://mirror.baidu.com/pypi/packages/73/ef/8967d406f3f85018ceb5efab50431e901683188f1741ceb053efcab26c87/numpy-1.20.2-cp37-cp37m-manylinux2010_x86_64.whl (15.3MB)\n",
      "\u001b[K     |████████████████████████████████| 15.3MB 8.9MB/s eta 0:00:011\n",
      "\u001b[31mERROR: blackhole 0.3.2 has requirement xgboost==1.1.0, but you'll have xgboost 1.3.3 which is incompatible.\u001b[0m\n",
      "\u001b[?25hInstalling collected packages: numpy\n",
      "  Found existing installation: numpy 1.16.4\n",
      "    Uninstalling numpy-1.16.4:\n",
      "      Successfully uninstalled numpy-1.16.4\n",
      "Successfully installed numpy-1.20.2\n"
     ]
    }
   ],
   "source": [
    "!pip install --upgrade numpy"
   ]
  },
  {
   "cell_type": "markdown",
   "metadata": {
    "collapsed": false
   },
   "source": [
    "# 数据探索"
   ]
  },
  {
   "cell_type": "code",
   "execution_count": null,
   "metadata": {
    "collapsed": false
   },
   "outputs": [],
   "source": [
    "import numpy as np\r\n",
    "import pandas as pd\r\n",
    "import matplotlib.pyplot as plt\r\n",
    "import seaborn as sns\r\n",
    "from scipy import stats\r\n",
    "\r\n",
    "import warnings\r\n",
    "warnings.filterwarnings(\"ignore\")\r\n",
    " \r\n",
    "%matplotlib inline"
   ]
  },
  {
   "cell_type": "code",
   "execution_count": null,
   "metadata": {
    "collapsed": false
   },
   "outputs": [
    {
     "data": {
      "text/plain": [
       "'1.20.2'"
      ]
     },
     "execution_count": null,
     "metadata": {},
     "output_type": "execute_result"
    }
   ],
   "source": [
    "np.__version__ # 需要大于 1.17"
   ]
  },
  {
   "cell_type": "code",
   "execution_count": null,
   "metadata": {
    "collapsed": false
   },
   "outputs": [],
   "source": [
    "# reduce memory\r\n",
    "def reduce_mem_usage(df, verbose=True):\r\n",
    "    start_mem = df.memory_usage().sum() / 1024**2\r\n",
    "    numerics = ['int16', 'int32', 'int64', 'float16', 'float32', 'float64']\r\n",
    "\r\n",
    "    for col in df.columns:\r\n",
    "        col_type = df[col].dtypes\r\n",
    "        if col_type in numerics:\r\n",
    "            c_min = df[col].min()\r\n",
    "            c_max = df[col].max()\r\n",
    "            if str(col_type)[:3] == 'int':\r\n",
    "                if c_min > np.iinfo(np.int8).min and c_max < np.iinfo(np.int8).max:\r\n",
    "                    df[col] = df[col].astype(np.int8)\r\n",
    "                elif c_min > np.iinfo(np.int16).min and c_max < np.iinfo(np.int16).max:\r\n",
    "                    df[col] = df[col].astype(np.int16)\r\n",
    "                elif c_min > np.iinfo(np.int32).min and c_max < np.iinfo(np.int32).max:\r\n",
    "                    df[col] = df[col].astype(np.int32)\r\n",
    "                elif c_min > np.iinfo(np.int64).min and c_max < np.iinfo(np.int64).max:\r\n",
    "                    df[col] = df[col].astype(np.int64)\r\n",
    "            else:\r\n",
    "                if c_min > np.finfo(np.float16).min and c_max < np.finfo(np.float16).max:\r\n",
    "                    df[col] = df[col].astype(np.float16)\r\n",
    "                elif c_min > np.finfo(np.float32).min and c_max < np.finfo(np.float32).max:\r\n",
    "                    df[col] = df[col].astype(np.float32)\r\n",
    "                else:\r\n",
    "                    df[col] = df[col].astype(np.float64)\r\n",
    "                    \r\n",
    "    end_mem = df.memory_usage().sum() / 1024**2\r\n",
    "    print('Memory usage after optimization is: {:.2f} MB'.format(end_mem))\r\n",
    "    print('Decreased by {:.1f}%'.format(100 * (start_mem - end_mem) / start_mem))\r\n",
    "    return df"
   ]
  },
  {
   "cell_type": "code",
   "execution_count": null,
   "metadata": {
    "collapsed": false
   },
   "outputs": [
    {
     "data": {
      "text/plain": [
       "'\\n读取数据集\\n'"
      ]
     },
     "execution_count": null,
     "metadata": {},
     "output_type": "execute_result"
    }
   ],
   "source": [
    "\"\"\"\r\n",
    "读取数据集\r\n",
    "\"\"\"\r\n",
    "test_data = pd.read_csv('./data_format1/test_format1.csv')\r\n",
    "train_data = pd.read_csv('./data_format1/train_format1.csv')\r\n",
    "train_data2 = pd.read_csv('./data_format2/train_format2.csv')\r\n",
    "\r\n",
    "user_info = pd.read_csv('./data_format1/user_info_format1.csv')\r\n",
    "user_log = pd.read_csv('./data_format1/user_log_format1.csv')"
   ]
  },
  {
   "cell_type": "code",
   "execution_count": null,
   "metadata": {
    "collapsed": false
   },
   "outputs": [],
   "source": [
    "train_data = reduce_mem_usage(train_data)\r\n",
    "test_data = reduce_mem_usage(test_data)\r\n",
    "train_data2 = reduce_mem_usage(train_data2)\r\n",
    "\r\n",
    "user_info = reduce_mem_usage(user_info)\r\n",
    "user_log = reduce_mem_usage(user_log)"
   ]
  },
  {
   "cell_type": "code",
   "execution_count": null,
   "metadata": {
    "collapsed": true
   },
   "outputs": [
    {
     "data": {
      "text/html": [
       "<div>\n",
       "<style scoped>\n",
       "    .dataframe tbody tr th:only-of-type {\n",
       "        vertical-align: middle;\n",
       "    }\n",
       "\n",
       "    .dataframe tbody tr th {\n",
       "        vertical-align: top;\n",
       "    }\n",
       "\n",
       "    .dataframe thead th {\n",
       "        text-align: right;\n",
       "    }\n",
       "</style>\n",
       "<table border=\"1\" class=\"dataframe\">\n",
       "  <thead>\n",
       "    <tr style=\"text-align: right;\">\n",
       "      <th></th>\n",
       "      <th>user_id</th>\n",
       "      <th>age_range</th>\n",
       "      <th>gender</th>\n",
       "      <th>merchant_id</th>\n",
       "      <th>label</th>\n",
       "      <th>activity_log</th>\n",
       "    </tr>\n",
       "  </thead>\n",
       "  <tbody>\n",
       "    <tr>\n",
       "      <th>0</th>\n",
       "      <td>34176</td>\n",
       "      <td>6.0</td>\n",
       "      <td>0.0</td>\n",
       "      <td>944</td>\n",
       "      <td>-1</td>\n",
       "      <td>408895:1505:7370:1107:0</td>\n",
       "    </tr>\n",
       "    <tr>\n",
       "      <th>1</th>\n",
       "      <td>34176</td>\n",
       "      <td>6.0</td>\n",
       "      <td>0.0</td>\n",
       "      <td>412</td>\n",
       "      <td>-1</td>\n",
       "      <td>17235:1604:4396:0818:0#954723:1604:4396:0818:0...</td>\n",
       "    </tr>\n",
       "    <tr>\n",
       "      <th>2</th>\n",
       "      <td>34176</td>\n",
       "      <td>6.0</td>\n",
       "      <td>0.0</td>\n",
       "      <td>1945</td>\n",
       "      <td>-1</td>\n",
       "      <td>231901:662:2758:0818:0#231901:662:2758:0818:0#...</td>\n",
       "    </tr>\n",
       "    <tr>\n",
       "      <th>3</th>\n",
       "      <td>34176</td>\n",
       "      <td>6.0</td>\n",
       "      <td>0.0</td>\n",
       "      <td>4752</td>\n",
       "      <td>-1</td>\n",
       "      <td>174142:821:6938:1027:0</td>\n",
       "    </tr>\n",
       "    <tr>\n",
       "      <th>4</th>\n",
       "      <td>34176</td>\n",
       "      <td>6.0</td>\n",
       "      <td>0.0</td>\n",
       "      <td>643</td>\n",
       "      <td>-1</td>\n",
       "      <td>716371:1505:968:1024:3</td>\n",
       "    </tr>\n",
       "  </tbody>\n",
       "</table>\n",
       "</div>"
      ],
      "text/plain": [
       "   user_id  age_range  gender  merchant_id  label  \\\n",
       "0    34176        6.0     0.0          944     -1   \n",
       "1    34176        6.0     0.0          412     -1   \n",
       "2    34176        6.0     0.0         1945     -1   \n",
       "3    34176        6.0     0.0         4752     -1   \n",
       "4    34176        6.0     0.0          643     -1   \n",
       "\n",
       "                                        activity_log  \n",
       "0                            408895:1505:7370:1107:0  \n",
       "1  17235:1604:4396:0818:0#954723:1604:4396:0818:0...  \n",
       "2  231901:662:2758:0818:0#231901:662:2758:0818:0#...  \n",
       "3                             174142:821:6938:1027:0  \n",
       "4                             716371:1505:968:1024:3  "
      ]
     },
     "execution_count": null,
     "metadata": {},
     "output_type": "execute_result"
    }
   ],
   "source": [
    "# train_data2.label.unique()\r\n",
    "train_data2.head(5)"
   ]
  },
  {
   "cell_type": "code",
   "execution_count": null,
   "metadata": {
    "collapsed": true
   },
   "outputs": [
    {
     "data": {
      "text/html": [
       "<div>\n",
       "<style scoped>\n",
       "    .dataframe tbody tr th:only-of-type {\n",
       "        vertical-align: middle;\n",
       "    }\n",
       "\n",
       "    .dataframe tbody tr th {\n",
       "        vertical-align: top;\n",
       "    }\n",
       "\n",
       "    .dataframe thead th {\n",
       "        text-align: right;\n",
       "    }\n",
       "</style>\n",
       "<table border=\"1\" class=\"dataframe\">\n",
       "  <thead>\n",
       "    <tr style=\"text-align: right;\">\n",
       "      <th></th>\n",
       "      <th>user_id</th>\n",
       "      <th>merchant_id</th>\n",
       "      <th>label</th>\n",
       "    </tr>\n",
       "  </thead>\n",
       "  <tbody>\n",
       "    <tr>\n",
       "      <th>0</th>\n",
       "      <td>34176</td>\n",
       "      <td>3906</td>\n",
       "      <td>0</td>\n",
       "    </tr>\n",
       "    <tr>\n",
       "      <th>1</th>\n",
       "      <td>34176</td>\n",
       "      <td>121</td>\n",
       "      <td>0</td>\n",
       "    </tr>\n",
       "    <tr>\n",
       "      <th>2</th>\n",
       "      <td>34176</td>\n",
       "      <td>4356</td>\n",
       "      <td>1</td>\n",
       "    </tr>\n",
       "    <tr>\n",
       "      <th>3</th>\n",
       "      <td>34176</td>\n",
       "      <td>2217</td>\n",
       "      <td>0</td>\n",
       "    </tr>\n",
       "    <tr>\n",
       "      <th>4</th>\n",
       "      <td>230784</td>\n",
       "      <td>4818</td>\n",
       "      <td>0</td>\n",
       "    </tr>\n",
       "  </tbody>\n",
       "</table>\n",
       "</div>"
      ],
      "text/plain": [
       "   user_id  merchant_id  label\n",
       "0    34176         3906      0\n",
       "1    34176          121      0\n",
       "2    34176         4356      1\n",
       "3    34176         2217      0\n",
       "4   230784         4818      0"
      ]
     },
     "execution_count": null,
     "metadata": {},
     "output_type": "execute_result"
    }
   ],
   "source": [
    "train_data.head(5)"
   ]
  },
  {
   "cell_type": "code",
   "execution_count": null,
   "metadata": {
    "collapsed": true
   },
   "outputs": [
    {
     "data": {
      "text/html": [
       "<div>\n",
       "<style scoped>\n",
       "    .dataframe tbody tr th:only-of-type {\n",
       "        vertical-align: middle;\n",
       "    }\n",
       "\n",
       "    .dataframe tbody tr th {\n",
       "        vertical-align: top;\n",
       "    }\n",
       "\n",
       "    .dataframe thead th {\n",
       "        text-align: right;\n",
       "    }\n",
       "</style>\n",
       "<table border=\"1\" class=\"dataframe\">\n",
       "  <thead>\n",
       "    <tr style=\"text-align: right;\">\n",
       "      <th></th>\n",
       "      <th>user_id</th>\n",
       "      <th>merchant_id</th>\n",
       "      <th>prob</th>\n",
       "    </tr>\n",
       "  </thead>\n",
       "  <tbody>\n",
       "    <tr>\n",
       "      <th>0</th>\n",
       "      <td>163968</td>\n",
       "      <td>4605</td>\n",
       "      <td>NaN</td>\n",
       "    </tr>\n",
       "    <tr>\n",
       "      <th>1</th>\n",
       "      <td>360576</td>\n",
       "      <td>1581</td>\n",
       "      <td>NaN</td>\n",
       "    </tr>\n",
       "    <tr>\n",
       "      <th>2</th>\n",
       "      <td>98688</td>\n",
       "      <td>1964</td>\n",
       "      <td>NaN</td>\n",
       "    </tr>\n",
       "    <tr>\n",
       "      <th>3</th>\n",
       "      <td>98688</td>\n",
       "      <td>3645</td>\n",
       "      <td>NaN</td>\n",
       "    </tr>\n",
       "    <tr>\n",
       "      <th>4</th>\n",
       "      <td>295296</td>\n",
       "      <td>3361</td>\n",
       "      <td>NaN</td>\n",
       "    </tr>\n",
       "  </tbody>\n",
       "</table>\n",
       "</div>"
      ],
      "text/plain": [
       "   user_id  merchant_id  prob\n",
       "0   163968         4605   NaN\n",
       "1   360576         1581   NaN\n",
       "2    98688         1964   NaN\n",
       "3    98688         3645   NaN\n",
       "4   295296         3361   NaN"
      ]
     },
     "execution_count": null,
     "metadata": {},
     "output_type": "execute_result"
    }
   ],
   "source": [
    "test_data.head(5)"
   ]
  },
  {
   "cell_type": "code",
   "execution_count": null,
   "metadata": {
    "collapsed": true
   },
   "outputs": [
    {
     "data": {
      "text/html": [
       "<div>\n",
       "<style scoped>\n",
       "    .dataframe tbody tr th:only-of-type {\n",
       "        vertical-align: middle;\n",
       "    }\n",
       "\n",
       "    .dataframe tbody tr th {\n",
       "        vertical-align: top;\n",
       "    }\n",
       "\n",
       "    .dataframe thead th {\n",
       "        text-align: right;\n",
       "    }\n",
       "</style>\n",
       "<table border=\"1\" class=\"dataframe\">\n",
       "  <thead>\n",
       "    <tr style=\"text-align: right;\">\n",
       "      <th></th>\n",
       "      <th>user_id</th>\n",
       "      <th>age_range</th>\n",
       "      <th>gender</th>\n",
       "    </tr>\n",
       "  </thead>\n",
       "  <tbody>\n",
       "    <tr>\n",
       "      <th>0</th>\n",
       "      <td>376517</td>\n",
       "      <td>6.0</td>\n",
       "      <td>1.0</td>\n",
       "    </tr>\n",
       "    <tr>\n",
       "      <th>1</th>\n",
       "      <td>234512</td>\n",
       "      <td>5.0</td>\n",
       "      <td>0.0</td>\n",
       "    </tr>\n",
       "    <tr>\n",
       "      <th>2</th>\n",
       "      <td>344532</td>\n",
       "      <td>5.0</td>\n",
       "      <td>0.0</td>\n",
       "    </tr>\n",
       "    <tr>\n",
       "      <th>3</th>\n",
       "      <td>186135</td>\n",
       "      <td>5.0</td>\n",
       "      <td>0.0</td>\n",
       "    </tr>\n",
       "    <tr>\n",
       "      <th>4</th>\n",
       "      <td>30230</td>\n",
       "      <td>5.0</td>\n",
       "      <td>0.0</td>\n",
       "    </tr>\n",
       "  </tbody>\n",
       "</table>\n",
       "</div>"
      ],
      "text/plain": [
       "   user_id  age_range  gender\n",
       "0   376517        6.0     1.0\n",
       "1   234512        5.0     0.0\n",
       "2   344532        5.0     0.0\n",
       "3   186135        5.0     0.0\n",
       "4    30230        5.0     0.0"
      ]
     },
     "execution_count": null,
     "metadata": {},
     "output_type": "execute_result"
    }
   ],
   "source": [
    "user_info.head(5)"
   ]
  },
  {
   "cell_type": "code",
   "execution_count": null,
   "metadata": {
    "collapsed": true
   },
   "outputs": [
    {
     "data": {
      "text/html": [
       "<div>\n",
       "<style scoped>\n",
       "    .dataframe tbody tr th:only-of-type {\n",
       "        vertical-align: middle;\n",
       "    }\n",
       "\n",
       "    .dataframe tbody tr th {\n",
       "        vertical-align: top;\n",
       "    }\n",
       "\n",
       "    .dataframe thead th {\n",
       "        text-align: right;\n",
       "    }\n",
       "</style>\n",
       "<table border=\"1\" class=\"dataframe\">\n",
       "  <thead>\n",
       "    <tr style=\"text-align: right;\">\n",
       "      <th></th>\n",
       "      <th>user_id</th>\n",
       "      <th>item_id</th>\n",
       "      <th>cat_id</th>\n",
       "      <th>seller_id</th>\n",
       "      <th>brand_id</th>\n",
       "      <th>time_stamp</th>\n",
       "      <th>action_type</th>\n",
       "    </tr>\n",
       "  </thead>\n",
       "  <tbody>\n",
       "    <tr>\n",
       "      <th>0</th>\n",
       "      <td>328862</td>\n",
       "      <td>323294</td>\n",
       "      <td>833</td>\n",
       "      <td>2882</td>\n",
       "      <td>2660.0</td>\n",
       "      <td>829</td>\n",
       "      <td>0</td>\n",
       "    </tr>\n",
       "    <tr>\n",
       "      <th>1</th>\n",
       "      <td>328862</td>\n",
       "      <td>844400</td>\n",
       "      <td>1271</td>\n",
       "      <td>2882</td>\n",
       "      <td>2660.0</td>\n",
       "      <td>829</td>\n",
       "      <td>0</td>\n",
       "    </tr>\n",
       "    <tr>\n",
       "      <th>2</th>\n",
       "      <td>328862</td>\n",
       "      <td>575153</td>\n",
       "      <td>1271</td>\n",
       "      <td>2882</td>\n",
       "      <td>2660.0</td>\n",
       "      <td>829</td>\n",
       "      <td>0</td>\n",
       "    </tr>\n",
       "    <tr>\n",
       "      <th>3</th>\n",
       "      <td>328862</td>\n",
       "      <td>996875</td>\n",
       "      <td>1271</td>\n",
       "      <td>2882</td>\n",
       "      <td>2660.0</td>\n",
       "      <td>829</td>\n",
       "      <td>0</td>\n",
       "    </tr>\n",
       "    <tr>\n",
       "      <th>4</th>\n",
       "      <td>328862</td>\n",
       "      <td>1086186</td>\n",
       "      <td>1271</td>\n",
       "      <td>1253</td>\n",
       "      <td>1049.0</td>\n",
       "      <td>829</td>\n",
       "      <td>0</td>\n",
       "    </tr>\n",
       "  </tbody>\n",
       "</table>\n",
       "</div>"
      ],
      "text/plain": [
       "   user_id  item_id  cat_id  seller_id  brand_id  time_stamp  action_type\n",
       "0   328862   323294     833       2882    2660.0         829            0\n",
       "1   328862   844400    1271       2882    2660.0         829            0\n",
       "2   328862   575153    1271       2882    2660.0         829            0\n",
       "3   328862   996875    1271       2882    2660.0         829            0\n",
       "4   328862  1086186    1271       1253    1049.0         829            0"
      ]
     },
     "execution_count": null,
     "metadata": {},
     "output_type": "execute_result"
    }
   ],
   "source": [
    "user_log.head(5)"
   ]
  },
  {
   "cell_type": "markdown",
   "metadata": {
    "collapsed": false
   },
   "source": [
    "### 单变量数据分析"
   ]
  },
  {
   "cell_type": "code",
   "execution_count": null,
   "metadata": {
    "collapsed": true
   },
   "outputs": [
    {
     "name": "stdout",
     "output_type": "stream",
     "text": [
      "<class 'pandas.core.frame.DataFrame'>\n",
      "RangeIndex: 424170 entries, 0 to 424169\n",
      "Data columns (total 3 columns):\n",
      " #   Column     Non-Null Count   Dtype  \n",
      "---  ------     --------------   -----  \n",
      " 0   user_id    424170 non-null  int32  \n",
      " 1   age_range  421953 non-null  float16\n",
      " 2   gender     417734 non-null  float16\n",
      "dtypes: float16(2), int32(1)\n",
      "memory usage: 3.2 MB\n"
     ]
    }
   ],
   "source": [
    "user_info.info()"
   ]
  },
  {
   "cell_type": "code",
   "execution_count": null,
   "metadata": {
    "collapsed": true
   },
   "outputs": [
    {
     "name": "stdout",
     "output_type": "stream",
     "text": [
      "<class 'pandas.core.frame.DataFrame'>\n",
      "RangeIndex: 54925330 entries, 0 to 54925329\n",
      "Data columns (total 7 columns):\n",
      " #   Column       Dtype  \n",
      "---  ------       -----  \n",
      " 0   user_id      int32  \n",
      " 1   item_id      int32  \n",
      " 2   cat_id       int16  \n",
      " 3   seller_id    int16  \n",
      " 4   brand_id     float16\n",
      " 5   time_stamp   int16  \n",
      " 6   action_type  int8   \n",
      "dtypes: float16(1), int16(3), int32(2), int8(1)\n",
      "memory usage: 890.5 MB\n"
     ]
    }
   ],
   "source": [
    "user_log.info()"
   ]
  },
  {
   "cell_type": "code",
   "execution_count": null,
   "metadata": {
    "collapsed": true
   },
   "outputs": [
    {
     "name": "stdout",
     "output_type": "stream",
     "text": [
      "<class 'pandas.core.frame.DataFrame'>\n",
      "RangeIndex: 260864 entries, 0 to 260863\n",
      "Data columns (total 3 columns):\n",
      " #   Column       Non-Null Count   Dtype\n",
      "---  ------       --------------   -----\n",
      " 0   user_id      260864 non-null  int32\n",
      " 1   merchant_id  260864 non-null  int16\n",
      " 2   label        260864 non-null  int8 \n",
      "dtypes: int16(1), int32(1), int8(1)\n",
      "memory usage: 1.7 MB\n"
     ]
    }
   ],
   "source": [
    "train_data.info()"
   ]
  },
  {
   "cell_type": "markdown",
   "metadata": {
    "collapsed": false
   },
   "source": [
    "### 缺失值"
   ]
  },
  {
   "cell_type": "code",
   "execution_count": null,
   "metadata": {
    "collapsed": true
   },
   "outputs": [
    {
     "data": {
      "text/plain": [
       "0.005226677982884221"
      ]
     },
     "execution_count": null,
     "metadata": {},
     "output_type": "execute_result"
    }
   ],
   "source": [
    "(user_info.shape[0]-user_info['age_range'].count())/user_info.shape[0] # 0.5% 缺失"
   ]
  },
  {
   "cell_type": "code",
   "execution_count": null,
   "metadata": {
    "collapsed": true
   },
   "outputs": [
    {
     "data": {
      "text/plain": [
       "user_id      95131\n",
       "age_range    92914\n",
       "gender       90664\n",
       "dtype: int64"
      ]
     },
     "execution_count": null,
     "metadata": {},
     "output_type": "execute_result"
    }
   ],
   "source": [
    "user_info[user_info['age_range'].isna() | (user_info['age_range'] == 0)].count()"
   ]
  },
  {
   "cell_type": "code",
   "execution_count": null,
   "metadata": {
    "collapsed": true
   },
   "outputs": [
    {
     "data": {
      "text/html": [
       "<div>\n",
       "<style scoped>\n",
       "    .dataframe tbody tr th:only-of-type {\n",
       "        vertical-align: middle;\n",
       "    }\n",
       "\n",
       "    .dataframe tbody tr th {\n",
       "        vertical-align: top;\n",
       "    }\n",
       "\n",
       "    .dataframe thead th {\n",
       "        text-align: right;\n",
       "    }\n",
       "</style>\n",
       "<table border=\"1\" class=\"dataframe\">\n",
       "  <thead>\n",
       "    <tr style=\"text-align: right;\">\n",
       "      <th></th>\n",
       "      <th>user_id</th>\n",
       "    </tr>\n",
       "    <tr>\n",
       "      <th>age_range</th>\n",
       "      <th></th>\n",
       "    </tr>\n",
       "  </thead>\n",
       "  <tbody>\n",
       "    <tr>\n",
       "      <th>0.0</th>\n",
       "      <td>92914</td>\n",
       "    </tr>\n",
       "    <tr>\n",
       "      <th>1.0</th>\n",
       "      <td>24</td>\n",
       "    </tr>\n",
       "    <tr>\n",
       "      <th>2.0</th>\n",
       "      <td>52871</td>\n",
       "    </tr>\n",
       "    <tr>\n",
       "      <th>3.0</th>\n",
       "      <td>111654</td>\n",
       "    </tr>\n",
       "    <tr>\n",
       "      <th>4.0</th>\n",
       "      <td>79991</td>\n",
       "    </tr>\n",
       "    <tr>\n",
       "      <th>5.0</th>\n",
       "      <td>40777</td>\n",
       "    </tr>\n",
       "    <tr>\n",
       "      <th>6.0</th>\n",
       "      <td>35464</td>\n",
       "    </tr>\n",
       "    <tr>\n",
       "      <th>7.0</th>\n",
       "      <td>6992</td>\n",
       "    </tr>\n",
       "    <tr>\n",
       "      <th>8.0</th>\n",
       "      <td>1266</td>\n",
       "    </tr>\n",
       "  </tbody>\n",
       "</table>\n",
       "</div>"
      ],
      "text/plain": [
       "           user_id\n",
       "age_range         \n",
       "0.0          92914\n",
       "1.0             24\n",
       "2.0          52871\n",
       "3.0         111654\n",
       "4.0          79991\n",
       "5.0          40777\n",
       "6.0          35464\n",
       "7.0           6992\n",
       "8.0           1266"
      ]
     },
     "execution_count": null,
     "metadata": {},
     "output_type": "execute_result"
    }
   ],
   "source": [
    "user_info.groupby(['age_range'])[['user_id']].count()"
   ]
  },
  {
   "cell_type": "code",
   "execution_count": null,
   "metadata": {
    "collapsed": true
   },
   "outputs": [
    {
     "data": {
      "text/plain": [
       "0.01517316170403376"
      ]
     },
     "execution_count": null,
     "metadata": {},
     "output_type": "execute_result"
    }
   ],
   "source": [
    "(user_info.shape[0]-user_info['gender'].count())/user_info.shape[0]"
   ]
  },
  {
   "cell_type": "code",
   "execution_count": null,
   "metadata": {
    "collapsed": true
   },
   "outputs": [
    {
     "data": {
      "text/plain": [
       "user_id      16862\n",
       "age_range    14664\n",
       "gender       10426\n",
       "dtype: int64"
      ]
     },
     "execution_count": null,
     "metadata": {},
     "output_type": "execute_result"
    }
   ],
   "source": [
    "user_info[user_info['gender'].isna() | (user_info['gender'] == 2)].count()"
   ]
  },
  {
   "cell_type": "code",
   "execution_count": null,
   "metadata": {
    "collapsed": true
   },
   "outputs": [
    {
     "data": {
      "text/html": [
       "<div>\n",
       "<style scoped>\n",
       "    .dataframe tbody tr th:only-of-type {\n",
       "        vertical-align: middle;\n",
       "    }\n",
       "\n",
       "    .dataframe tbody tr th {\n",
       "        vertical-align: top;\n",
       "    }\n",
       "\n",
       "    .dataframe thead th {\n",
       "        text-align: right;\n",
       "    }\n",
       "</style>\n",
       "<table border=\"1\" class=\"dataframe\">\n",
       "  <thead>\n",
       "    <tr style=\"text-align: right;\">\n",
       "      <th></th>\n",
       "      <th>user_id</th>\n",
       "    </tr>\n",
       "    <tr>\n",
       "      <th>gender</th>\n",
       "      <th></th>\n",
       "    </tr>\n",
       "  </thead>\n",
       "  <tbody>\n",
       "    <tr>\n",
       "      <th>0.0</th>\n",
       "      <td>285638</td>\n",
       "    </tr>\n",
       "    <tr>\n",
       "      <th>1.0</th>\n",
       "      <td>121670</td>\n",
       "    </tr>\n",
       "    <tr>\n",
       "      <th>2.0</th>\n",
       "      <td>10426</td>\n",
       "    </tr>\n",
       "  </tbody>\n",
       "</table>\n",
       "</div>"
      ],
      "text/plain": [
       "        user_id\n",
       "gender         \n",
       "0.0      285638\n",
       "1.0      121670\n",
       "2.0       10426"
      ]
     },
     "execution_count": null,
     "metadata": {},
     "output_type": "execute_result"
    }
   ],
   "source": [
    "user_info.groupby(['gender'])[['user_id']].count()"
   ]
  },
  {
   "cell_type": "code",
   "execution_count": null,
   "metadata": {
    "collapsed": true
   },
   "outputs": [
    {
     "data": {
      "text/plain": [
       "user_id      106330\n",
       "age_range    104113\n",
       "gender        99894\n",
       "dtype: int64"
      ]
     },
     "execution_count": null,
     "metadata": {},
     "output_type": "execute_result"
    }
   ],
   "source": [
    "user_info[user_info['age_range'].isna() | (user_info['age_range'] == 0) | user_info['gender'].isna() | (user_info['gender'] == 2)].count()"
   ]
  },
  {
   "cell_type": "markdown",
   "metadata": {
    "collapsed": false
   },
   "source": [
    "### 用户行为日志信息"
   ]
  },
  {
   "cell_type": "code",
   "execution_count": null,
   "metadata": {
    "collapsed": true
   },
   "outputs": [
    {
     "data": {
      "text/plain": [
       "user_id            0\n",
       "item_id            0\n",
       "cat_id             0\n",
       "seller_id          0\n",
       "brand_id       91015\n",
       "time_stamp         0\n",
       "action_type        0\n",
       "dtype: int64"
      ]
     },
     "execution_count": null,
     "metadata": {},
     "output_type": "execute_result"
    }
   ],
   "source": [
    "user_log.isna().sum()\r\n"
   ]
  },
  {
   "cell_type": "markdown",
   "metadata": {
    "collapsed": false
   },
   "source": [
    "### 观察数据分布"
   ]
  },
  {
   "cell_type": "code",
   "execution_count": null,
   "metadata": {
    "collapsed": true
   },
   "outputs": [
    {
     "data": {
      "text/html": [
       "<div>\n",
       "<style scoped>\n",
       "    .dataframe tbody tr th:only-of-type {\n",
       "        vertical-align: middle;\n",
       "    }\n",
       "\n",
       "    .dataframe tbody tr th {\n",
       "        vertical-align: top;\n",
       "    }\n",
       "\n",
       "    .dataframe thead th {\n",
       "        text-align: right;\n",
       "    }\n",
       "</style>\n",
       "<table border=\"1\" class=\"dataframe\">\n",
       "  <thead>\n",
       "    <tr style=\"text-align: right;\">\n",
       "      <th></th>\n",
       "      <th>user_id</th>\n",
       "      <th>age_range</th>\n",
       "      <th>gender</th>\n",
       "    </tr>\n",
       "  </thead>\n",
       "  <tbody>\n",
       "    <tr>\n",
       "      <th>count</th>\n",
       "      <td>424170.000000</td>\n",
       "      <td>421953.0</td>\n",
       "      <td>417734.0</td>\n",
       "    </tr>\n",
       "    <tr>\n",
       "      <th>mean</th>\n",
       "      <td>212085.500000</td>\n",
       "      <td>NaN</td>\n",
       "      <td>NaN</td>\n",
       "    </tr>\n",
       "    <tr>\n",
       "      <th>std</th>\n",
       "      <td>122447.476179</td>\n",
       "      <td>0.0</td>\n",
       "      <td>0.0</td>\n",
       "    </tr>\n",
       "    <tr>\n",
       "      <th>min</th>\n",
       "      <td>1.000000</td>\n",
       "      <td>0.0</td>\n",
       "      <td>0.0</td>\n",
       "    </tr>\n",
       "    <tr>\n",
       "      <th>25%</th>\n",
       "      <td>106043.250000</td>\n",
       "      <td>2.0</td>\n",
       "      <td>0.0</td>\n",
       "    </tr>\n",
       "    <tr>\n",
       "      <th>50%</th>\n",
       "      <td>212085.500000</td>\n",
       "      <td>3.0</td>\n",
       "      <td>0.0</td>\n",
       "    </tr>\n",
       "    <tr>\n",
       "      <th>75%</th>\n",
       "      <td>318127.750000</td>\n",
       "      <td>4.0</td>\n",
       "      <td>1.0</td>\n",
       "    </tr>\n",
       "    <tr>\n",
       "      <th>max</th>\n",
       "      <td>424170.000000</td>\n",
       "      <td>8.0</td>\n",
       "      <td>2.0</td>\n",
       "    </tr>\n",
       "  </tbody>\n",
       "</table>\n",
       "</div>"
      ],
      "text/plain": [
       "             user_id  age_range    gender\n",
       "count  424170.000000   421953.0  417734.0\n",
       "mean   212085.500000        NaN       NaN\n",
       "std    122447.476179        0.0       0.0\n",
       "min         1.000000        0.0       0.0\n",
       "25%    106043.250000        2.0       0.0\n",
       "50%    212085.500000        3.0       0.0\n",
       "75%    318127.750000        4.0       1.0\n",
       "max    424170.000000        8.0       2.0"
      ]
     },
     "execution_count": null,
     "metadata": {},
     "output_type": "execute_result"
    }
   ],
   "source": [
    "user_info.describe()\r\n"
   ]
  },
  {
   "cell_type": "code",
   "execution_count": null,
   "metadata": {
    "collapsed": true
   },
   "outputs": [
    {
     "data": {
      "text/html": [
       "<div>\n",
       "<style scoped>\n",
       "    .dataframe tbody tr th:only-of-type {\n",
       "        vertical-align: middle;\n",
       "    }\n",
       "\n",
       "    .dataframe tbody tr th {\n",
       "        vertical-align: top;\n",
       "    }\n",
       "\n",
       "    .dataframe thead th {\n",
       "        text-align: right;\n",
       "    }\n",
       "</style>\n",
       "<table border=\"1\" class=\"dataframe\">\n",
       "  <thead>\n",
       "    <tr style=\"text-align: right;\">\n",
       "      <th></th>\n",
       "      <th>user_id</th>\n",
       "      <th>item_id</th>\n",
       "      <th>cat_id</th>\n",
       "      <th>seller_id</th>\n",
       "      <th>brand_id</th>\n",
       "      <th>time_stamp</th>\n",
       "      <th>action_type</th>\n",
       "    </tr>\n",
       "  </thead>\n",
       "  <tbody>\n",
       "    <tr>\n",
       "      <th>count</th>\n",
       "      <td>5.492533e+07</td>\n",
       "      <td>5.492533e+07</td>\n",
       "      <td>5.492533e+07</td>\n",
       "      <td>5.492533e+07</td>\n",
       "      <td>54834315.0</td>\n",
       "      <td>5.492533e+07</td>\n",
       "      <td>5.492533e+07</td>\n",
       "    </tr>\n",
       "    <tr>\n",
       "      <th>mean</th>\n",
       "      <td>2.121568e+05</td>\n",
       "      <td>5.538613e+05</td>\n",
       "      <td>8.770308e+02</td>\n",
       "      <td>2.470941e+03</td>\n",
       "      <td>NaN</td>\n",
       "      <td>9.230953e+02</td>\n",
       "      <td>2.854458e-01</td>\n",
       "    </tr>\n",
       "    <tr>\n",
       "      <th>std</th>\n",
       "      <td>1.222872e+05</td>\n",
       "      <td>3.221459e+05</td>\n",
       "      <td>4.486269e+02</td>\n",
       "      <td>1.473310e+03</td>\n",
       "      <td>NaN</td>\n",
       "      <td>1.954305e+02</td>\n",
       "      <td>8.075806e-01</td>\n",
       "    </tr>\n",
       "    <tr>\n",
       "      <th>min</th>\n",
       "      <td>1.000000e+00</td>\n",
       "      <td>1.000000e+00</td>\n",
       "      <td>1.000000e+00</td>\n",
       "      <td>1.000000e+00</td>\n",
       "      <td>1.0</td>\n",
       "      <td>5.110000e+02</td>\n",
       "      <td>0.000000e+00</td>\n",
       "    </tr>\n",
       "    <tr>\n",
       "      <th>25%</th>\n",
       "      <td>1.063360e+05</td>\n",
       "      <td>2.731680e+05</td>\n",
       "      <td>5.550000e+02</td>\n",
       "      <td>1.151000e+03</td>\n",
       "      <td>2027.0</td>\n",
       "      <td>7.300000e+02</td>\n",
       "      <td>0.000000e+00</td>\n",
       "    </tr>\n",
       "    <tr>\n",
       "      <th>50%</th>\n",
       "      <td>2.126540e+05</td>\n",
       "      <td>5.555290e+05</td>\n",
       "      <td>8.210000e+02</td>\n",
       "      <td>2.459000e+03</td>\n",
       "      <td>4064.0</td>\n",
       "      <td>1.010000e+03</td>\n",
       "      <td>0.000000e+00</td>\n",
       "    </tr>\n",
       "    <tr>\n",
       "      <th>75%</th>\n",
       "      <td>3.177500e+05</td>\n",
       "      <td>8.306890e+05</td>\n",
       "      <td>1.252000e+03</td>\n",
       "      <td>3.760000e+03</td>\n",
       "      <td>6196.0</td>\n",
       "      <td>1.109000e+03</td>\n",
       "      <td>0.000000e+00</td>\n",
       "    </tr>\n",
       "    <tr>\n",
       "      <th>max</th>\n",
       "      <td>4.241700e+05</td>\n",
       "      <td>1.113166e+06</td>\n",
       "      <td>1.671000e+03</td>\n",
       "      <td>4.995000e+03</td>\n",
       "      <td>8480.0</td>\n",
       "      <td>1.112000e+03</td>\n",
       "      <td>3.000000e+00</td>\n",
       "    </tr>\n",
       "  </tbody>\n",
       "</table>\n",
       "</div>"
      ],
      "text/plain": [
       "            user_id       item_id        cat_id     seller_id    brand_id  \\\n",
       "count  5.492533e+07  5.492533e+07  5.492533e+07  5.492533e+07  54834315.0   \n",
       "mean   2.121568e+05  5.538613e+05  8.770308e+02  2.470941e+03         NaN   \n",
       "std    1.222872e+05  3.221459e+05  4.486269e+02  1.473310e+03         NaN   \n",
       "min    1.000000e+00  1.000000e+00  1.000000e+00  1.000000e+00         1.0   \n",
       "25%    1.063360e+05  2.731680e+05  5.550000e+02  1.151000e+03      2027.0   \n",
       "50%    2.126540e+05  5.555290e+05  8.210000e+02  2.459000e+03      4064.0   \n",
       "75%    3.177500e+05  8.306890e+05  1.252000e+03  3.760000e+03      6196.0   \n",
       "max    4.241700e+05  1.113166e+06  1.671000e+03  4.995000e+03      8480.0   \n",
       "\n",
       "         time_stamp   action_type  \n",
       "count  5.492533e+07  5.492533e+07  \n",
       "mean   9.230953e+02  2.854458e-01  \n",
       "std    1.954305e+02  8.075806e-01  \n",
       "min    5.110000e+02  0.000000e+00  \n",
       "25%    7.300000e+02  0.000000e+00  \n",
       "50%    1.010000e+03  0.000000e+00  \n",
       "75%    1.109000e+03  0.000000e+00  \n",
       "max    1.112000e+03  3.000000e+00  "
      ]
     },
     "execution_count": null,
     "metadata": {},
     "output_type": "execute_result"
    }
   ],
   "source": [
    "user_log.describe()\r\n"
   ]
  },
  {
   "cell_type": "markdown",
   "metadata": {
    "collapsed": false
   },
   "source": [
    "### 查看正负样本的分布"
   ]
  },
  {
   "cell_type": "code",
   "execution_count": null,
   "metadata": {
    "collapsed": true
   },
   "outputs": [
    {
     "name": "stdout",
     "output_type": "stream",
     "text": [
      "正负样本的数量：\n",
      " label\n",
      "0    244912\n",
      "1     15952\n",
      "Name: user_id, dtype: int64\n"
     ]
    },
    {
     "data": {
      "text/plain": [
       "<matplotlib.axes._subplots.AxesSubplot at 0x7f8eff522b50>"
      ]
     },
     "execution_count": null,
     "metadata": {},
     "output_type": "execute_result"
    },
    {
     "data": {
      "image/png": "[encoded data removed]",
      "text/plain": [
       "<Figure size 864x432 with 2 Axes>"
      ]
     },
     "metadata": {},
     "output_type": "display_data"
    }
   ],
   "source": [
    "label_gp = train_data.groupby('label')['user_id'].count()\r\n",
    "print('正负样本的数量：\\n',label_gp)\r\n",
    "_,axe = plt.subplots(1,2,figsize=(12,6))\r\n",
    "train_data.label.value_counts().plot(kind='pie',autopct='%1.1f%%',shadow=True,explode=[0,0.1],ax=axe[0])\r\n",
    "sns.countplot('label',data=train_data,ax=axe[1],)"
   ]
  },
  {
   "cell_type": "markdown",
   "metadata": {
    "collapsed": false
   },
   "source": [
    "样本的分布不均衡，需要采取一定的措施处理样本不均衡的问题：\n",
    "\n",
    "- 类似欠采样,将一份正样本和多分负样本组合成多份训练集,训练多个模型后求平均\n",
    "- 调整模型的权重"
   ]
  },
  {
   "cell_type": "markdown",
   "metadata": {
    "collapsed": false
   },
   "source": [
    "## 探查店铺、用户、性别以及年龄对复购的影响"
   ]
  },
  {
   "cell_type": "code",
   "execution_count": null,
   "metadata": {
    "collapsed": true
   },
   "outputs": [
    {
     "name": "stdout",
     "output_type": "stream",
     "text": [
      "选取店铺\n",
      "店铺\t购买次数\n",
      "4044    3379\n",
      "3828    3254\n",
      "4173    2542\n",
      "1102    2483\n",
      "4976    1925\n",
      "Name: merchant_id, dtype: int64\n"
     ]
    },
    {
     "data": {
      "image/png": "[encoded data removed]",
      "text/plain": [
       "<Figure size 576x432 with 1 Axes>"
      ]
     },
     "metadata": {},
     "output_type": "display_data"
    }
   ],
   "source": [
    "print('选取店铺\\n店铺\\t购买次数')\r\n",
    "print(train_data.merchant_id.value_counts().head(5))\r\n",
    "train_data_merchant = train_data.copy()\r\n",
    "train_data_merchant['TOP5'] = train_data_merchant['merchant_id'].map(lambda x: 1 if x in [4044,3828,4173,1102,4976] else 0)\r\n",
    "train_data_merchant = train_data_merchant[train_data_merchant['TOP5']==1]\r\n",
    "\r\n",
    "plt.figure(figsize=(8,6))\r\n",
    "plt.title('Merchant VS Label')\r\n",
    "ax = sns.countplot('merchant_id',hue='label',data=train_data_merchant)\r\n",
    "for p in ax.patches:\r\n",
    "    height = p.get_height()"
   ]
  },
  {
   "cell_type": "markdown",
   "metadata": {
    "collapsed": false
   },
   "source": [
    "### 查看店铺复购概率分布"
   ]
  },
  {
   "cell_type": "code",
   "execution_count": null,
   "metadata": {
    "collapsed": true
   },
   "outputs": [
    {
     "data": {
      "image/png": "[encoded data removed]",
      "text/plain": [
       "<Figure size 576x288 with 2 Axes>"
      ]
     },
     "metadata": {},
     "output_type": "display_data"
    }
   ],
   "source": [
    "merchant_repeat_buy = [ rate for rate in train_data.groupby(['merchant_id'])['label'].mean() if rate <= 1 and rate > 0] \r\n",
    "plt.figure(figsize=(8,4))\r\n",
    "\r\n",
    "ax=plt.subplot(1,2,1)\r\n",
    "sns.distplot(merchant_repeat_buy, fit=stats.norm)\r\n",
    "ax=plt.subplot(1,2,2)\r\n",
    "res = stats.probplot(merchant_repeat_buy, plot=plt)"
   ]
  },
  {
   "cell_type": "markdown",
   "metadata": {
    "collapsed": false
   },
   "source": [
    "### 查看用户大于一次复购概率分布"
   ]
  },
  {
   "cell_type": "code",
   "execution_count": null,
   "metadata": {
    "collapsed": true
   },
   "outputs": [
    {
     "data": {
      "image/png": "[encoded data removed]",
      "text/plain": [
       "<Figure size 576x432 with 2 Axes>"
      ]
     },
     "metadata": {},
     "output_type": "display_data"
    }
   ],
   "source": [
    "user_repeat_buy = [rate for rate in train_data.groupby(['user_id'])['label'].mean() if rate <= 1 and rate > 0] \r\n",
    "\r\n",
    "plt.figure(figsize=(8,6))\r\n",
    "\r\n",
    "ax=plt.subplot(1,2,1)\r\n",
    "sns.distplot(user_repeat_buy, fit=stats.norm)\r\n",
    "ax=plt.subplot(1,2,2)\r\n",
    "res = stats.probplot(user_repeat_buy, plot=plt)"
   ]
  },
  {
   "cell_type": "markdown",
   "metadata": {
    "collapsed": false
   },
   "source": [
    "可以看出，用户复购率很小，基本买一次为主"
   ]
  },
  {
   "cell_type": "markdown",
   "metadata": {
    "collapsed": false
   },
   "source": [
    "### 查看用户性别与复购的关系"
   ]
  },
  {
   "cell_type": "code",
   "execution_count": null,
   "metadata": {
    "collapsed": false
   },
   "outputs": [],
   "source": [
    "train_data_user_info = train_data.merge(user_info,on=['user_id'],how='left')"
   ]
  },
  {
   "cell_type": "code",
   "execution_count": null,
   "metadata": {
    "collapsed": true
   },
   "outputs": [
    {
     "data": {
      "image/png": "[encoded data removed]",
      "text/plain": [
       "<Figure size 576x576 with 1 Axes>"
      ]
     },
     "metadata": {},
     "output_type": "display_data"
    }
   ],
   "source": [
    "plt.figure(figsize=(8,8))\r\n",
    "plt.title('Gender VS Label')\r\n",
    "ax = sns.countplot('gender',hue='label',data=train_data_user_info)\r\n",
    "for p in ax.patches:\r\n",
    "    height = p.get_height()"
   ]
  },
  {
   "cell_type": "markdown",
   "metadata": {
    "collapsed": false
   },
   "source": [
    "### 查看用户性别复购的分布"
   ]
  },
  {
   "cell_type": "code",
   "execution_count": null,
   "metadata": {
    "collapsed": true
   },
   "outputs": [
    {
     "data": {
      "image/png": "[encoded data removed]",
      "text/plain": [
       "<Figure size 576x288 with 2 Axes>"
      ]
     },
     "metadata": {},
     "output_type": "display_data"
    }
   ],
   "source": [
    "repeat_buy = [rate for rate in train_data_user_info.groupby(['gender'])['label'].mean()] \r\n",
    "\r\n",
    "plt.figure(figsize=(8,4))\r\n",
    "\r\n",
    "ax=plt.subplot(1,2,1)\r\n",
    "sns.distplot(repeat_buy, fit=stats.norm)\r\n",
    "ax=plt.subplot(1,2,2)\r\n",
    "res = stats.probplot(repeat_buy, plot=plt)"
   ]
  },
  {
   "cell_type": "markdown",
   "metadata": {
    "collapsed": false
   },
   "source": [
    "男女的复购率不一样"
   ]
  },
  {
   "cell_type": "markdown",
   "metadata": {
    "collapsed": false
   },
   "source": [
    "### 查看用户年龄与复购的关系"
   ]
  },
  {
   "cell_type": "code",
   "execution_count": null,
   "metadata": {
    "collapsed": true
   },
   "outputs": [
    {
     "data": {
      "image/png": "[encoded data removed]",
      "text/plain": [
       "<Figure size 576x576 with 1 Axes>"
      ]
     },
     "metadata": {},
     "output_type": "display_data"
    }
   ],
   "source": [
    "plt.figure(figsize=(8,8))\r\n",
    "plt.title('Age VS Label')\r\n",
    "ax = sns.countplot('age_range',hue='label',data=train_data_user_info)"
   ]
  },
  {
   "cell_type": "markdown",
   "metadata": {
    "collapsed": false
   },
   "source": [
    "### 查看用户年龄复购的分布"
   ]
  },
  {
   "cell_type": "code",
   "execution_count": null,
   "metadata": {
    "collapsed": true
   },
   "outputs": [
    {
     "data": {
      "image/png": "[encoded data removed]",
      "text/plain": [
       "<Figure size 576x288 with 2 Axes>"
      ]
     },
     "metadata": {},
     "output_type": "display_data"
    }
   ],
   "source": [
    "repeat_buy = [rate for rate in train_data_user_info.groupby(['age_range'])['label'].mean()] \r\n",
    "\r\n",
    "plt.figure(figsize=(8,4))\r\n",
    "\r\n",
    "ax=plt.subplot(1,2,1)\r\n",
    "sns.distplot(repeat_buy, fit=stats.norm)\r\n",
    "ax=plt.subplot(1,2,2)\r\n",
    "res = stats.probplot(repeat_buy, plot=plt)"
   ]
  },
  {
   "cell_type": "markdown",
   "metadata": {
    "collapsed": false
   },
   "source": [
    "不同年龄段，复购概率不同"
   ]
  },
  {
   "cell_type": "markdown",
   "metadata": {
    "collapsed": false
   },
   "source": [
    "# 特征工程（实际）"
   ]
  },
  {
   "cell_type": "code",
   "execution_count": null,
   "metadata": {
    "collapsed": false
   },
   "outputs": [],
   "source": [
    "import numpy as np\r\n",
    "import pandas as pd\r\n",
    "import matplotlib.pyplot as plt\r\n",
    "import seaborn as sns\r\n",
    "from scipy import stats\r\n",
    "\r\n",
    "import gc\r\n",
    "from collections import Counter\r\n",
    "import copy\r\n",
    "\r\n",
    "import warnings\r\n",
    "warnings.filterwarnings(\"ignore\")\r\n",
    " \r\n",
    "%matplotlib inline"
   ]
  },
  {
   "cell_type": "markdown",
   "metadata": {
    "collapsed": false
   },
   "source": [
    "## 数据处理"
   ]
  },
  {
   "cell_type": "code",
   "execution_count": null,
   "metadata": {
    "collapsed": false
   },
   "outputs": [
    {
     "data": {
      "text/plain": [
       "24"
      ]
     },
     "execution_count": null,
     "metadata": {},
     "output_type": "execute_result"
    }
   ],
   "source": [
    "train_data['origin'] = 'train'\r\n",
    "test_data['origin'] = 'test'\r\n",
    "all_data = pd.concat([train_data, test_data], ignore_index=True, sort=False)\r\n",
    "all_data.drop(['prob'], axis=1, inplace=True)\r\n",
    "all_data = all_data.merge(user_info, on='user_id', how='left')\r\n",
    "\r\n",
    "\r\n",
    "user_log.rename(columns={'seller_id':'merchant_id'}, inplace=True)\r\n",
    "user_log['time_stamp'] = pd.to_datetime(user_log['time_stamp'], format='%H%M')\r\n",
    "\r\n",
    "\r\n",
    "del user_info, train_data\r\n",
    "gc.collect()"
   ]
  },
  {
   "cell_type": "code",
   "execution_count": null,
   "metadata": {
    "collapsed": false
   },
   "outputs": [],
   "source": [
    "#特征处理\r\n",
    "groups = user_log.groupby(['user_id'])\r\n",
    "temp = groups.size().reset_index().rename(columns={0:'u1'})\r\n",
    "all_data = all_data.merge(temp, on='user_id', how='left')\r\n",
    "\r\n",
    "temp = groups['item_id'].agg([('u2', 'nunique')]).reset_index()\r\n",
    "all_data = all_data.merge(temp, on='user_id', how='left')\r\n",
    "\r\n",
    "temp = groups['cat_id'].agg([('u3', 'nunique')]).reset_index()\r\n",
    "all_data = all_data.merge(temp, on='user_id', how='left')\r\n",
    "\r\n",
    "temp = groups['merchant_id'].agg([('u4', 'nunique')]).reset_index()\r\n",
    "all_data = all_data.merge(temp, on='user_id', how='left')\r\n",
    "\r\n",
    "temp = groups['brand_id'].agg([('u5', 'nunique')]).reset_index()\r\n",
    "all_data = all_data.merge(temp, on='user_id', how='left')\r\n",
    "\r\n",
    "temp = groups['time_stamp'].agg([('F_time', 'min'), ('L_time', 'max')]).reset_index()\r\n",
    "temp['u6'] = (temp['L_time'] - temp['F_time']).dt.seconds/3600\r\n",
    "all_data = all_data.merge(temp[['user_id', 'u6']], on='user_id', how='left')\r\n",
    "\r\n",
    "temp = groups['action_type'].value_counts().unstack().reset_index().rename(columns={0:'u7', 1:'u8', 2:'u9', 3:'u10'})\r\n",
    "all_data = all_data.merge(temp, on='user_id', how='left')\r\n",
    "\r\n",
    "temp = groups['time_stamp'].agg([('u11', 'nunique')]).reset_index()\r\n",
    "all_data = all_data.merge(temp, on='user_id', how='left')"
   ]
  },
  {
   "cell_type": "code",
   "execution_count": null,
   "metadata": {
    "collapsed": false
   },
   "outputs": [],
   "source": [
    "# 统计数据中最多的数据\r\n",
    "def most_n(x, n):\r\n",
    "    try:\r\n",
    "        return Counter(x.split(' ')).most_common(n)[n-1][0]\r\n",
    "    except:\r\n",
    "        return -1\r\n",
    "\r\n",
    "# 统计数据中最多数据的总数\r\n",
    "def most_n_cnt(x, n):\r\n",
    "    try:\r\n",
    "        return Counter(x.split(' ')).most_common(n)[n-1][1]\r\n",
    "    except:\r\n",
    "        return -1"
   ]
  },
  {
   "cell_type": "code",
   "execution_count": null,
   "metadata": {
    "collapsed": false
   },
   "outputs": [],
   "source": [
    "list_join_func = lambda x: \" \".join([str(i) for i in x])\r\n",
    "\r\n",
    "temp = groups['merchant_id'].agg([('p', list_join_func)]).reset_index()\r\n",
    "all_data = all_data.merge(temp, on='user_id', how='left')\r\n",
    "\r\n",
    "func = lambda x: most_n(x, 1)\r\n",
    "all_data['u13'] = all_data['p'].apply(func)\r\n",
    "\r\n",
    "func = lambda x: most_n_cnt(x, 1)\r\n",
    "all_data['u14'] = all_data['p'].apply(func)\r\n",
    "\r\n",
    "all_data.drop(['p'], axis=1, inplace=True)\r\n",
    "\r\n",
    "\r\n",
    "\r\n",
    "temp = groups['cat_id'].agg([('p', list_join_func)]).reset_index()\r\n",
    "all_data = all_data.merge(temp, on='user_id', how='left')\r\n",
    "\r\n",
    "func = lambda x: most_n(x, 1)\r\n",
    "all_data['u15'] = all_data['p'].apply(func)\r\n",
    "\r\n",
    "func = lambda x: most_n_cnt(x, 1)\r\n",
    "all_data['u16'] = all_data['p'].apply(func)\r\n",
    "\r\n",
    "all_data.drop(['p'], axis=1, inplace=True)\r\n",
    "\r\n",
    "\r\n",
    "\r\n",
    "temp = groups['brand_id'].agg([('p', list_join_func)]).reset_index()\r\n",
    "all_data = all_data.merge(temp, on='user_id', how='left')\r\n",
    "\r\n",
    "func = lambda x: most_n(x, 1)\r\n",
    "all_data['u17'] = all_data['p'].apply(func)\r\n",
    "\r\n",
    "func = lambda x: most_n_cnt(x, 1)\r\n",
    "all_data['u18'] = all_data['p'].apply(func)\r\n",
    "\r\n",
    "all_data.drop(['p'], axis=1, inplace=True)\r\n",
    "\r\n",
    "\r\n",
    "\r\n",
    "temp = groups['action_type'].agg([('p', list_join_func)]).reset_index()\r\n",
    "all_data = all_data.merge(temp, on='user_id', how='left')\r\n",
    "\r\n",
    "func = lambda x: most_n(x, 1)\r\n",
    "all_data['u19'] = all_data['p'].apply(func)\r\n",
    "\r\n",
    "func = lambda x: most_n_cnt(x, 1)\r\n",
    "all_data['u20'] = all_data['p'].apply(func)\r\n",
    "\r\n",
    "all_data.drop(['p'], axis=1, inplace=True)"
   ]
  },
  {
   "cell_type": "code",
   "execution_count": null,
   "metadata": {
    "collapsed": false
   },
   "outputs": [
    {
     "data": {
      "text/plain": [
       "Index(['user_id', 'merchant_id', 'label', 'origin', 'age_range', 'gender',\n",
       "       'u1', 'u2', 'u3', 'u4', 'u5', 'u6', 'u7', 'u8', 'u9', 'u10', 'u11',\n",
       "       'u13', 'u14', 'u15', 'u16', 'u17', 'u18', 'u19', 'u20'],\n",
       "      dtype='object')"
      ]
     },
     "execution_count": null,
     "metadata": {},
     "output_type": "execute_result"
    }
   ],
   "source": [
    "all_data.columns"
   ]
  },
  {
   "cell_type": "code",
   "execution_count": null,
   "metadata": {
    "collapsed": false
   },
   "outputs": [],
   "source": [
    "groups = user_log.groupby(['merchant_id'])\r\n",
    "temp = groups.size().reset_index().rename(columns={0:'m1'})\r\n",
    "all_data = all_data.merge(temp, on='merchant_id', how='left')\r\n",
    "\r\n",
    "temp = groups['user_id', 'item_id', 'cat_id', 'brand_id'].nunique().reset_index().rename(columns={'user_id':'m2','item_id':'m3', 'cat_id':'m4', 'brand_id':'m5'})\r\n",
    "all_data = all_data.merge(temp, on='merchant_id', how='left')\r\n",
    "\r\n",
    "temp = groups['action_type'].value_counts().unstack().reset_index().rename(columns={0:'m6', 1:'m7', 2:'m8', 3:'m9'})\r\n",
    "all_data = all_data.merge(temp, on='merchant_id', how='left')\r\n",
    "\r\n",
    "temp = train_data2[train_data2['label']==1].groupby(['merchant_id']).size().reset_index().rename(columns={0:'m10'})\r\n",
    "all_data = all_data.merge(temp, on='merchant_id', how='left')\r\n",
    "\r\n",
    "temp = train_data2[train_data2['label']==-1].groupby(['merchant_id']).size().reset_index().rename(columns={0:'m11'})\r\n",
    "all_data = all_data.merge(temp, on='merchant_id', how='left')"
   ]
  },
  {
   "cell_type": "code",
   "execution_count": null,
   "metadata": {
    "collapsed": false
   },
   "outputs": [
    {
     "data": {
      "text/plain": [
       "Index(['user_id', 'merchant_id', 'label', 'origin', 'age_range', 'gender',\n",
       "       'u1', 'u2', 'u3', 'u4', 'u5', 'u6', 'u7', 'u8', 'u9', 'u10', 'u11',\n",
       "       'u13', 'u14', 'u15', 'u16', 'u17', 'u18', 'u19', 'u20', 'm1', 'm2',\n",
       "       'm3', 'm4', 'm5', 'm6', 'm7', 'm8', 'm9', 'm10', 'm11'],\n",
       "      dtype='object')"
      ]
     },
     "execution_count": null,
     "metadata": {},
     "output_type": "execute_result"
    }
   ],
   "source": [
    "all_data.columns"
   ]
  },
  {
   "cell_type": "code",
   "execution_count": null,
   "metadata": {
    "collapsed": false
   },
   "outputs": [],
   "source": [
    "groups = user_log.groupby(['user_id', 'merchant_id'])\r\n",
    "\r\n",
    "temp = groups.size().reset_index().rename(columns={0:'um1'})\r\n",
    "all_data = all_data.merge(temp, on=['user_id', 'merchant_id'], how='left')\r\n",
    "\r\n",
    "temp = groups['item_id', 'cat_id', 'brand_id'].nunique().reset_index().rename(columns={ 'item_id':'um2', 'cat_id':'um3', 'brand_id':'um4'})\r\n",
    "all_data = all_data.merge(temp, on=['user_id', 'merchant_id'], how='left')\r\n",
    "\r\n",
    "temp = groups['action_type'].value_counts().unstack().reset_index().rename(columns={0:'um5',1:'um6',2:'um7',3:'um8'})\r\n",
    "all_data = all_data.merge(temp, on=['user_id', 'merchant_id'], how='left')\r\n",
    "\r\n",
    "temp = groups['time_stamp'].agg([('frist', 'min'), ('last', 'max')]).reset_index()\r\n",
    "temp['um9'] = (temp['last'] - temp['frist']).dt.seconds/3600\r\n",
    "temp.drop(['frist', 'last'], axis=1, inplace=True)\r\n",
    "all_data = all_data.merge(temp, on=['user_id', 'merchant_id'], how='left')\r\n",
    "\r\n",
    "\r\n",
    "all_data['r1'] = all_data['u9']/all_data['u7'] # 用户购买点击比\r\n",
    "all_data['r2'] = all_data['m8']/all_data['m6'] # 商家购买点击比\r\n",
    "all_data['r3'] = all_data['um7']/all_data['um5'] # 不同用户不同商家购买点击比"
   ]
  },
  {
   "cell_type": "code",
   "execution_count": null,
   "metadata": {
    "collapsed": false
   },
   "outputs": [],
   "source": [
    "temp = pd.get_dummies(all_data['age_range'], prefix='age')\r\n",
    "all_data = pd.concat([all_data, temp], axis=1)\r\n",
    "\r\n",
    "temp = pd.get_dummies(all_data['gender'], prefix='g')\r\n",
    "all_data = pd.concat([all_data, temp], axis=1)\r\n",
    "all_data.drop(['age_range', 'gender'], axis=1, inplace=True)"
   ]
  },
  {
   "cell_type": "code",
   "execution_count": null,
   "metadata": {
    "collapsed": false
   },
   "outputs": [
    {
     "data": {
      "text/plain": [
       "Index(['user_id', 'merchant_id', 'label', 'origin', 'u1', 'u2', 'u3', 'u4',\n",
       "       'u5', 'u6', 'u7', 'u8', 'u9', 'u10', 'u11', 'u13', 'u14', 'u15', 'u16',\n",
       "       'u17', 'u18', 'u19', 'u20', 'm1', 'm2', 'm3', 'm4', 'm5', 'm6', 'm7',\n",
       "       'm8', 'm9', 'm10', 'm11', 'um1', 'um2', 'um3', 'um4', 'um5', 'um6',\n",
       "       'um7', 'um8', 'um9', 'r1', 'r2', 'r3', 'age_0.0', 'age_1.0', 'age_2.0',\n",
       "       'age_3.0', 'age_4.0', 'age_5.0', 'age_6.0', 'age_7.0', 'age_8.0',\n",
       "       'g_0.0', 'g_1.0', 'g_2.0'],\n",
       "      dtype='object')"
      ]
     },
     "execution_count": null,
     "metadata": {},
     "output_type": "execute_result"
    }
   ],
   "source": [
    "all_data.columns"
   ]
  },
  {
   "cell_type": "code",
   "execution_count": null,
   "metadata": {
    "collapsed": false
   },
   "outputs": [
    {
     "data": {
      "text/plain": [
       "135"
      ]
     },
     "execution_count": null,
     "metadata": {},
     "output_type": "execute_result"
    }
   ],
   "source": [
    "train_data = all_data[all_data['origin'] == 'train'].drop(['origin'], axis=1)\r\n",
    "test = all_data[all_data['origin'] == 'test'].drop(['label', 'origin'], axis=1)\r\n",
    "train, target = train_data.drop(['label'], axis=1), train_data['label']\r\n",
    "\r\n",
    "del temp, all_data, groups\r\n",
    "gc.collect()"
   ]
  },
  {
   "cell_type": "code",
   "execution_count": null,
   "metadata": {
    "collapsed": false
   },
   "outputs": [],
   "source": [
    "train_data.to_csv('train1.csv',header=True,index=False)\r\n",
    "test.to_csv('test1.csv',header=True,index=False)"
   ]
  },
  {
   "cell_type": "markdown",
   "metadata": {
    "collapsed": false
   },
   "source": [
    "# 特征工程（演示）"
   ]
  },
  {
   "cell_type": "markdown",
   "metadata": {
    "collapsed": false
   },
   "source": [
    "## 数据处理"
   ]
  },
  {
   "cell_type": "code",
   "execution_count": null,
   "metadata": {
    "collapsed": true
   },
   "outputs": [
    {
     "data": {
      "text/plain": [
       "43"
      ]
     },
     "execution_count": null,
     "metadata": {},
     "output_type": "execute_result"
    }
   ],
   "source": [
    "all_data = train_data.append(test_data)\r\n",
    "all_data = all_data.merge(user_info,on=['user_id'],how='left')\r\n",
    "del train_data, test_data, user_info\r\n",
    "gc.collect()"
   ]
  },
  {
   "cell_type": "code",
   "execution_count": null,
   "metadata": {
    "collapsed": true
   },
   "outputs": [],
   "source": [
    "\"\"\"\r\n",
    "按时间排序\r\n",
    "\"\"\"\r\n",
    "user_log = user_log.sort_values(['user_id','time_stamp'])"
   ]
  },
  {
   "cell_type": "code",
   "execution_count": null,
   "metadata": {
    "collapsed": true
   },
   "outputs": [],
   "source": [
    "\"\"\"\r\n",
    "每个用户的逐个合并所有的item_id, cat_id,seller_id,brand_id,time_stamp, action_type字段\r\n",
    "\"\"\"\r\n",
    "\r\n",
    "list_join_func = lambda x: \" \".join([str(i) for i in x])\r\n",
    "\r\n",
    "\r\n",
    "agg_dict = {\r\n",
    "            'item_id' : list_join_func,\t\r\n",
    "            'cat_id' : list_join_func,\r\n",
    "            'seller_id' : list_join_func,\r\n",
    "            'brand_id' : list_join_func,\r\n",
    "            'time_stamp' : list_join_func,\r\n",
    "            'action_type' : list_join_func\r\n",
    "        }\r\n",
    "\r\n",
    "rename_dict = {\r\n",
    "            'item_id' : 'item_path',\r\n",
    "            'cat_id' : 'cat_path',\r\n",
    "            'seller_id' : 'seller_path',\r\n",
    "            'brand_id' : 'brand_path',\r\n",
    "            'time_stamp' : 'time_stamp_path',\r\n",
    "            'action_type' : 'action_type_path'\r\n",
    "        }\r\n",
    "\r\n",
    "def merge_list(df_ID, join_columns, df_data, agg_dict, rename_dict):\r\n",
    "    df_data = df_data.\\\r\n",
    "            groupby(join_columns).\\\r\n",
    "            agg(agg_dict).\\\r\n",
    "            reset_index().\\\r\n",
    "            rename(columns=rename_dict)\r\n",
    "\r\n",
    "    df_ID = df_ID.merge(df_data, on=join_columns, how=\"left\")\r\n",
    "    return df_ID\r\n",
    "\r\n",
    "all_data = merge_list(all_data, 'user_id', user_log, agg_dict, rename_dict)"
   ]
  },
  {
   "cell_type": "code",
   "execution_count": null,
   "metadata": {
    "collapsed": true
   },
   "outputs": [
    {
     "data": {
      "text/plain": [
       "20"
      ]
     },
     "execution_count": null,
     "metadata": {},
     "output_type": "execute_result"
    }
   ],
   "source": [
    "\"\"\"\r\n",
    "删除不需要的数据\r\n",
    "\"\"\"\r\n",
    "del user_log\r\n",
    "gc.collect()"
   ]
  },
  {
   "cell_type": "code",
   "execution_count": null,
   "metadata": {
    "collapsed": true
   },
   "outputs": [
    {
     "data": {
      "text/plain": [
       "(522341, 12)"
      ]
     },
     "execution_count": null,
     "metadata": {},
     "output_type": "execute_result"
    }
   ],
   "source": [
    "num_rows = None\r\n",
    "# num_rows = 2000  # 2000条测试代码使用\r\n",
    "if num_rows:\r\n",
    "    all_data_test = all_data.head(num_rows)\r\n",
    "else:\r\n",
    "    all_data_test = all_data\r\n",
    "\r\n",
    "all_data_test.shape"
   ]
  },
  {
   "cell_type": "markdown",
   "metadata": {
    "collapsed": false
   },
   "source": [
    "## 数据统计"
   ]
  },
  {
   "cell_type": "code",
   "execution_count": null,
   "metadata": {
    "collapsed": true
   },
   "outputs": [],
   "source": [
    "# 统计数据的总数\r\n",
    "def cnt_(x):\r\n",
    "    try:\r\n",
    "        return len(x.split(' '))\r\n",
    "    except:\r\n",
    "        return -1\r\n",
    "\r\n",
    "# 统计唯一数据总数\r\n",
    "def nunique_(x):\r\n",
    "    try:\r\n",
    "        return len(set(x.split(' ')))\r\n",
    "    except:\r\n",
    "        return -1\r\n",
    "\r\n",
    "# 统计数据最大值\r\n",
    "def max_(x):\r\n",
    "    try:\r\n",
    "        return np.max([int(i) for i in x.split(' ')])\r\n",
    "    except:\r\n",
    "        return -1\r\n",
    "\r\n",
    "# 统计数据最小值\r\n",
    "def min_(x):\r\n",
    "    try:\r\n",
    "        return np.min([int(i) for i in x.split(' ')])\r\n",
    "    except:\r\n",
    "        return -1  \r\n",
    "\r\n",
    "# 统计数据的标准差\r\n",
    "def std_(x):\r\n",
    "    try:\r\n",
    "        return np.std([float(i) for i in x.split(' ')])\r\n",
    "    except:\r\n",
    "        return -1 \r\n",
    "\r\n",
    "# 统计数据中top N的数据\r\n",
    "def most_n(x, n):\r\n",
    "    try:\r\n",
    "        return Counter(x.split(' ')).most_common(n)[n-1][0]\r\n",
    "    except:\r\n",
    "        return -1\r\n",
    "\r\n",
    "# 统计数据中top N数据的总数\r\n",
    "def most_n_cnt(x, n):\r\n",
    "    try:\r\n",
    "        return Counter(x.split(' ')).most_common(n)[n-1][1]\r\n",
    "    except:\r\n",
    "        return -1   "
   ]
  },
  {
   "cell_type": "code",
   "execution_count": null,
   "metadata": {
    "collapsed": true
   },
   "outputs": [],
   "source": [
    "def user_cnt(df_data, single_col, name):\r\n",
    "    df_data[name] = df_data[single_col].apply(cnt_)\r\n",
    "    return df_data\r\n",
    "\r\n",
    "def user_nunique(df_data, single_col, name):\r\n",
    "    df_data[name] = df_data[single_col].apply(nunique_)\r\n",
    "    return df_data\r\n",
    "    \r\n",
    "def user_max(df_data, single_col, name):\r\n",
    "    df_data[name] = df_data[single_col].apply(max_)\r\n",
    "    return df_data\r\n",
    "\r\n",
    "def user_min(df_data, single_col, name):\r\n",
    "    df_data[name] = df_data[single_col].apply(min_)\r\n",
    "    return df_data\r\n",
    "    \r\n",
    "def user_std(df_data, single_col, name):\r\n",
    "    df_data[name] = df_data[single_col].apply(std_)\r\n",
    "    return df_data\r\n",
    "\r\n",
    "def user_most_n(df_data, single_col, name, n=1):\r\n",
    "    func = lambda x: most_n(x, n)\r\n",
    "    df_data[name] = df_data[single_col].apply(func)\r\n",
    "    return df_data\r\n",
    "\r\n",
    "def user_most_n_cnt(df_data, single_col, name, n=1):\r\n",
    "    func = lambda x: most_n_cnt(x, n)\r\n",
    "    df_data[name] = df_data[single_col].apply(func)\r\n",
    "    return df_data\r\n"
   ]
  },
  {
   "cell_type": "markdown",
   "metadata": {
    "collapsed": false
   },
   "source": [
    "### 提取商铺的基本统计特征"
   ]
  },
  {
   "cell_type": "code",
   "execution_count": null,
   "metadata": {
    "collapsed": true
   },
   "outputs": [],
   "source": [
    "\"\"\"\r\n",
    "\t提取基本统计特征\r\n",
    "\"\"\"\r\n",
    "\r\n",
    "# 统计用户 点击、浏览、加购、购买行为\r\n",
    "# 总次数\r\n",
    "all_data_test = user_cnt(all_data_test,  'seller_path', 'user_cnt')\r\n",
    "# 不同店铺个数\r\n",
    "all_data_test = user_nunique(all_data_test,  'seller_path', 'seller_nunique')\r\n",
    "# 不同品类个数\r\n",
    "all_data_test = user_nunique(all_data_test,  'cat_path', 'cat_nunique')\r\n",
    "# 不同品牌个数\r\n",
    "all_data_test = user_nunique(all_data_test,  'brand_path', 'brand_nunique')\r\n",
    "# 不同商品个数\r\n",
    "all_data_test = user_nunique(all_data_test,  'item_path', 'item_nunique')\r\n",
    "# 活跃天数\r\n",
    "all_data_test = user_nunique(all_data_test,  'time_stamp_path', 'time_stamp_nunique')\r\n",
    "# 不用行为种数\r\n",
    "all_data_test = user_nunique(all_data_test,  'action_type_path', 'action_type_nunique')"
   ]
  },
  {
   "cell_type": "code",
   "execution_count": null,
   "metadata": {
    "collapsed": true
   },
   "outputs": [],
   "source": [
    "# 最晚时间\r\n",
    "all_data_test = user_max(all_data_test,  'action_type_path', 'time_stamp_max')\r\n",
    "# 最早时间\r\n",
    "all_data_test = user_min(all_data_test,  'action_type_path', 'time_stamp_min')\r\n",
    "# 活跃天数方差\r\n",
    "all_data_test = user_std(all_data_test,  'action_type_path', 'time_stamp_std')\r\n",
    "# 最早和最晚相差天数\r\n",
    "all_data_test['time_stamp_range'] = all_data_test['time_stamp_max'] - all_data_test['time_stamp_min']"
   ]
  },
  {
   "cell_type": "code",
   "execution_count": null,
   "metadata": {
    "collapsed": true
   },
   "outputs": [],
   "source": [
    "# 最晚时间\r\n",
    "all_data_test = user_max(all_data_test,  'action_type_path', 'time_stamp_max')\r\n",
    "# 最早时间\r\n",
    "all_data_test = user_min(all_data_test,  'action_type_path', 'time_stamp_min')\r\n",
    "# 活跃天数方差\r\n",
    "all_data_test = user_std(all_data_test,  'action_type_path', 'time_stamp_std')\r\n",
    "# 最早和最晚相差天数\r\n",
    "all_data_test['time_stamp_range'] = all_data_test['time_stamp_max'] - all_data_test['time_stamp_min']"
   ]
  },
  {
   "cell_type": "code",
   "execution_count": null,
   "metadata": {
    "collapsed": true
   },
   "outputs": [],
   "source": [
    "# 用户最喜欢的店铺\r\n",
    "all_data_test = user_most_n(all_data_test, 'seller_path', 'seller_most_1', n=1)\r\n",
    "# 最喜欢的类目\r\n",
    "all_data_test = user_most_n(all_data_test, 'cat_path', 'cat_most_1', n=1)\r\n",
    "# 最喜欢的品牌\r\n",
    "all_data_test = user_most_n(all_data_test, 'brand_path', 'brand_most_1', n=1)\r\n",
    "# 最常见的行为动作\r\n",
    "all_data_test = user_most_n(all_data_test, 'action_type_path', 'action_type_1', n=1)\r\n",
    "# ....."
   ]
  },
  {
   "cell_type": "code",
   "execution_count": null,
   "metadata": {
    "collapsed": true
   },
   "outputs": [],
   "source": [
    "# 用户最喜欢的店铺 行为次数\r\n",
    "all_data_test = user_most_n_cnt(all_data_test, 'seller_path', 'seller_most_1_cnt', n=1)\r\n",
    "# 最喜欢的类目 行为次数\r\n",
    "all_data_test = user_most_n_cnt(all_data_test, 'cat_path', 'cat_most_1_cnt', n=1)\r\n",
    "# 最喜欢的品牌 行为次数\r\n",
    "all_data_test = user_most_n_cnt(all_data_test, 'brand_path', 'brand_most_1_cnt', n=1)\r\n",
    "# 最常见的行为动作 行为次数\r\n",
    "all_data_test = user_most_n_cnt(all_data_test, 'action_type_path', 'action_type_1_cnt', n=1)\r\n",
    "# ....."
   ]
  },
  {
   "cell_type": "code",
   "execution_count": null,
   "metadata": {
    "collapsed": false
   },
   "outputs": [
    {
     "data": {
      "text/plain": [
       "(522341, 31)"
      ]
     },
     "execution_count": null,
     "metadata": {},
     "output_type": "execute_result"
    }
   ],
   "source": [
    "all_data_test.shape"
   ]
  },
  {
   "cell_type": "markdown",
   "metadata": {
    "collapsed": false
   },
   "source": [
    "### 分开统计用户的点击，加购，购买，收藏特征"
   ]
  },
  {
   "cell_type": "code",
   "execution_count": null,
   "metadata": {
    "collapsed": true
   },
   "outputs": [],
   "source": [
    "# 点击、加购、购买、收藏 分开统计\r\n",
    "\"\"\"\r\n",
    "统计基本特征函数  \r\n",
    "-- 根据不同行为的业务函数\r\n",
    "-- 提取不同特征\r\n",
    "\"\"\"\r\n",
    "def col_cnt_(df_data, columns_list, action_type):\r\n",
    "\ttry:\r\n",
    "\t    data_dict = {}\r\n",
    "\t    \r\n",
    "\t    col_list = copy.deepcopy(columns_list)\r\n",
    "\t    if action_type != None:\r\n",
    "\t        col_list += ['action_type_path']\r\n",
    "\r\n",
    "\t    for col in col_list:\r\n",
    "\t        data_dict[col] = df_data[col].split(' ')\r\n",
    "\r\n",
    "\t    path_len = len(data_dict[col])\r\n",
    "\t    \r\n",
    "\t    data_out = []\r\n",
    "\t    for i_ in range(path_len):\r\n",
    "\t        data_txt = ''\r\n",
    "\t        for col_ in columns_list:\r\n",
    "\t            if data_dict['action_type_path'][i_] == action_type:\r\n",
    "\t                data_txt += '_' + data_dict[col_][i_]\r\n",
    "\t        data_out.append(data_txt)\r\n",
    "\t    \r\n",
    "\t    return len(data_out)  \r\n",
    "\texcept:\r\n",
    "\t\treturn -1\r\n",
    "\r\n",
    "def col_nuique_(df_data, columns_list, action_type):\r\n",
    "\ttry:\r\n",
    "\t    data_dict = {}\r\n",
    "\t    \r\n",
    "\t    col_list = copy.deepcopy(columns_list)\r\n",
    "\t    if action_type != None:\r\n",
    "\t        col_list += ['action_type_path']\r\n",
    "\r\n",
    "\t    for col in col_list:\r\n",
    "\t        data_dict[col] = df_data[col].split(' ')\r\n",
    "\r\n",
    "\t    path_len = len(data_dict[col])\r\n",
    "\t    \r\n",
    "\t    data_out = []\r\n",
    "\t    for i_ in range(path_len):\r\n",
    "\t        data_txt = ''\r\n",
    "\t        for col_ in columns_list:\r\n",
    "\t            if data_dict['action_type_path'][i_] == action_type:\r\n",
    "\t                data_txt += '_' + data_dict[col_][i_]\r\n",
    "\t        data_out.append(data_txt)\r\n",
    "\r\n",
    "\t    return len(set(data_out))\r\n",
    "\texcept:\r\n",
    "\t\treturn -1\r\n",
    "    \r\n",
    "\r\n",
    "def user_col_cnt(df_data, columns_list, action_type, name):\r\n",
    "    df_data[name] = df_data.apply(lambda x: col_cnt_(x, columns_list, action_type), axis=1)\r\n",
    "    return df_data\r\n",
    "\r\n",
    "def user_col_nunique(df_data, columns_list, action_type, name):\r\n",
    "    df_data[name] = df_data.apply(lambda x: col_nuique_(x, columns_list, action_type), axis=1)\r\n",
    "    return df_data"
   ]
  },
  {
   "cell_type": "code",
   "execution_count": null,
   "metadata": {
    "collapsed": true
   },
   "outputs": [],
   "source": [
    "# 统计店铺被用户点击次数，加购次数，购买次数，收藏次数\r\n",
    "# 点击次数\r\n",
    "all_data_test = user_col_cnt(all_data_test,  ['seller_path'], '0', 'user_cnt_0')\r\n",
    "# 加购次数\r\n",
    "all_data_test = user_col_cnt(all_data_test,  ['seller_path'], '1', 'user_cnt_1')\r\n",
    "# 购买次数\r\n",
    "all_data_test = user_col_cnt(all_data_test,  ['seller_path'], '2', 'user_cnt_2')\r\n",
    "# 收藏次数\r\n",
    "all_data_test = user_col_cnt(all_data_test,  ['seller_path'], '3', 'user_cnt_3')\r\n",
    "\r\n",
    "\r\n",
    "# 不同店铺个数\r\n",
    "all_data_test = user_col_nunique(all_data_test,  ['seller_path'], '0', 'seller_nunique_0')\r\n",
    "# ...."
   ]
  },
  {
   "cell_type": "markdown",
   "metadata": {
    "collapsed": false
   },
   "source": [
    "## 组合特征"
   ]
  },
  {
   "cell_type": "code",
   "execution_count": null,
   "metadata": {
    "collapsed": true
   },
   "outputs": [],
   "source": [
    "# 点击次数\r\n",
    "all_data_test = user_col_cnt(all_data_test,  ['seller_path', 'item_path'], '0', 'user_cnt_0')\r\n",
    "\r\n",
    "# 不同店铺个数\r\n",
    "all_data_test = user_col_nunique(all_data_test,  ['seller_path', 'item_path'], '0', 'seller_nunique_0')\r\n",
    "# ...."
   ]
  },
  {
   "cell_type": "code",
   "execution_count": null,
   "metadata": {
    "collapsed": true
   },
   "outputs": [
    {
     "data": {
      "text/plain": [
       "Index(['user_id', 'merchant_id', 'label', 'prob', 'age_range', 'gender',\n",
       "       'item_path', 'cat_path', 'seller_path', 'brand_path', 'time_stamp_path',\n",
       "       'action_type_path', 'user_cnt', 'seller_nunique', 'cat_nunique',\n",
       "       'brand_nunique', 'item_nunique', 'time_stamp_nunique',\n",
       "       'action_type_nunique', 'time_stamp_max', 'time_stamp_min',\n",
       "       'time_stamp_std', 'time_stamp_range', 'seller_most_1', 'cat_most_1',\n",
       "       'brand_most_1', 'action_type_1', 'seller_most_1_cnt', 'cat_most_1_cnt',\n",
       "       'brand_most_1_cnt', 'action_type_1_cnt', 'user_cnt_0', 'user_cnt_1',\n",
       "       'user_cnt_2', 'user_cnt_3', 'seller_nunique_0'],\n",
       "      dtype='object')"
      ]
     },
     "execution_count": null,
     "metadata": {},
     "output_type": "execute_result"
    }
   ],
   "source": [
    "all_data_test.columns"
   ]
  },
  {
   "cell_type": "markdown",
   "metadata": {
    "collapsed": false
   },
   "source": [
    "## 利用countvector，tfidf提取特征"
   ]
  },
  {
   "cell_type": "code",
   "execution_count": null,
   "metadata": {
    "collapsed": true
   },
   "outputs": [],
   "source": [
    "from sklearn.feature_extraction.text import CountVectorizer, TfidfVectorizer, ENGLISH_STOP_WORDS\r\n",
    "from scipy import sparse\r\n",
    "# cntVec = CountVectorizer(stop_words=ENGLISH_STOP_WORDS, ngram_range=(1, 1), max_features=100)\r\n",
    "tfidfVec = TfidfVectorizer(stop_words=ENGLISH_STOP_WORDS, ngram_range=(1, 1), max_features=100)\r\n",
    "\r\n",
    "\r\n",
    "# columns_list = ['seller_path', 'cat_path', 'brand_path', 'action_type_path', 'item_path', 'time_stamp_path']\r\n",
    "columns_list = ['seller_path']\r\n",
    "for i, col in enumerate(columns_list):\r\n",
    "\ttfidfVec.fit(all_data_test[col])\r\n",
    "\tdata_ = tfidfVec.transform(all_data_test[col])\r\n",
    "\tif i == 0:\r\n",
    "\t\tdata_cat = data_\r\n",
    "\telse:\r\n",
    "\t\tdata_cat = sparse.hstack((data_cat, data_))"
   ]
  },
  {
   "cell_type": "code",
   "execution_count": null,
   "metadata": {
    "collapsed": true
   },
   "outputs": [],
   "source": [
    "df_tfidf = pd.DataFrame(data_cat.toarray())\r\n",
    "df_tfidf.columns = ['tfidf_' + str(i) for i in df_tfidf.columns]\r\n",
    "all_data_test = pd.concat([all_data_test, df_tfidf],axis=1)"
   ]
  },
  {
   "cell_type": "markdown",
   "metadata": {
    "collapsed": false
   },
   "source": [
    "## embeeding特征\n",
    "\n",
    "实际降低性能"
   ]
  },
  {
   "cell_type": "code",
   "execution_count": null,
   "metadata": {
    "collapsed": true
   },
   "outputs": [],
   "source": [
    "import gensim\r\n",
    "\r\n",
    "# Train Word2Vec model\r\n",
    "\r\n",
    "model = gensim.models.Word2Vec(all_data_test['seller_path'].apply(lambda x: x.split(' ')), vector_size=100, window=5, min_count=5, workers=4)\r\n",
    "# model.save(\"product2vec.model\")\r\n",
    "# model = gensim.models.Word2Vec.load(\"product2vec.model\")\r\n",
    "\r\n",
    "def mean_w2v_(x, model, size=100):\r\n",
    "    try:\r\n",
    "        i = 0\r\n",
    "        for word in x.split(' '):\r\n",
    "            if word in model.wv.vocab:\r\n",
    "                i += 1\r\n",
    "                if i == 1:\r\n",
    "                    vec = np.zeros(size)\r\n",
    "                vec += model.wv[word]\r\n",
    "        return vec / i \r\n",
    "    except:\r\n",
    "        return  np.zeros(size)\r\n",
    "\r\n",
    "\r\n",
    "def get_mean_w2v(df_data, columns, model, size):\r\n",
    "    data_array = []\r\n",
    "    for index, row in df_data.iterrows():\r\n",
    "        w2v = mean_w2v_(row[columns], model, size)\r\n",
    "        data_array.append(w2v)\r\n",
    "    return pd.DataFrame(data_array)\r\n",
    "\r\n",
    "df_embeeding = get_mean_w2v(all_data_test, 'seller_path', model, 100)\r\n",
    "df_embeeding.columns = ['embeeding_' + str(i) for i in df_embeeding.columns]"
   ]
  },
  {
   "cell_type": "code",
   "execution_count": null,
   "metadata": {
    "collapsed": false
   },
   "outputs": [],
   "source": [
    "all_data_test = pd.concat([all_data_test, df_embeeding],axis=1)"
   ]
  },
  {
   "cell_type": "markdown",
   "metadata": {
    "collapsed": false
   },
   "source": [
    "## stacking特征\n",
    "\n",
    "实际降低性能\n",
    "\n",
    "就是找一个分类器，基于数据预测一个伪标签概率，当做一个新的特征"
   ]
  },
  {
   "cell_type": "code",
   "execution_count": null,
   "metadata": {
    "collapsed": true
   },
   "outputs": [
    {
     "data": {
      "text/html": [
       "<style type='text/css'>\n",
       ".datatable table.frame { margin-bottom: 0; }\n",
       ".datatable table.frame thead { border-bottom: none; }\n",
       ".datatable table.frame tr.coltypes td {  color: #FFFFFF;  line-height: 6px;  padding: 0 0.5em;}\n",
       ".datatable .bool    { background: #DDDD99; }\n",
       ".datatable .object  { background: #565656; }\n",
       ".datatable .int     { background: #5D9E5D; }\n",
       ".datatable .float   { background: #4040CC; }\n",
       ".datatable .str     { background: #CC4040; }\n",
       ".datatable .row_index {  background: var(--jp-border-color3);  border-right: 1px solid var(--jp-border-color0);  color: var(--jp-ui-font-color3);  font-size: 9px;}\n",
       ".datatable .frame tr.coltypes .row_index {  background: var(--jp-border-color0);}\n",
       ".datatable th:nth-child(2) { padding-left: 12px; }\n",
       ".datatable .hellipsis {  color: var(--jp-cell-editor-border-color);}\n",
       ".datatable .vellipsis {  background: var(--jp-layout-color0);  color: var(--jp-cell-editor-border-color);}\n",
       ".datatable .na {  color: var(--jp-cell-editor-border-color);  font-size: 80%;}\n",
       ".datatable .footer { font-size: 9px; }\n",
       ".datatable .frame_dimensions {  background: var(--jp-border-color3);  border-top: 1px solid var(--jp-border-color0);  color: var(--jp-ui-font-color3);  display: inline-block;  opacity: 0.6;  padding: 1px 10px 1px 5px;}\n",
       "</style>\n"
      ],
      "text/plain": [
       "<IPython.core.display.HTML object>"
      ]
     },
     "metadata": {},
     "output_type": "display_data"
    }
   ],
   "source": [
    "from sklearn.model_selection import KFold\r\n",
    "import pandas as pd\r\n",
    "import numpy as np\r\n",
    "from scipy import sparse\r\n",
    "import xgboost\r\n",
    "import lightgbm\r\n",
    "from sklearn.ensemble import RandomForestClassifier,AdaBoostClassifier,GradientBoostingClassifier,ExtraTreesClassifier\r\n",
    "from sklearn.ensemble import RandomForestRegressor,AdaBoostRegressor,GradientBoostingRegressor,ExtraTreesRegressor\r\n",
    "from sklearn.linear_model import LinearRegression,LogisticRegression\r\n",
    "from sklearn.svm import LinearSVC,SVC\r\n",
    "from sklearn.neighbors import KNeighborsClassifier\r\n",
    "from sklearn.metrics import log_loss,mean_absolute_error,mean_squared_error\r\n",
    "from sklearn.naive_bayes import MultinomialNB,GaussianNB"
   ]
  },
  {
   "cell_type": "code",
   "execution_count": null,
   "metadata": {
    "collapsed": true
   },
   "outputs": [],
   "source": [
    "\"\"\"\r\n",
    "-- 回归\r\n",
    "-- stacking 回归特征\r\n",
    "\"\"\"\r\n",
    "def stacking_reg(clf,train_x,train_y,test_x,clf_name,kf,label_split=None):\r\n",
    "    train=np.zeros((train_x.shape[0],1))\r\n",
    "    test=np.zeros((test_x.shape[0],1))\r\n",
    "    test_pre=np.empty((folds,test_x.shape[0],1))\r\n",
    "    cv_scores=[]\r\n",
    "    for i,(train_index,test_index) in enumerate(kf.split(train_x,label_split)):       \r\n",
    "        tr_x=train_x[train_index]\r\n",
    "        tr_y=train_y[train_index]\r\n",
    "        te_x=train_x[test_index]\r\n",
    "        te_y = train_y[test_index]\r\n",
    "        if clf_name in [\"rf\",\"ada\",\"gb\",\"et\",\"lr\"]:\r\n",
    "            clf.fit(tr_x,tr_y)\r\n",
    "            pre=clf.predict(te_x).reshape(-1,1)\r\n",
    "            train[test_index]=pre\r\n",
    "            test_pre[i,:]=clf.predict(test_x).reshape(-1,1)\r\n",
    "            cv_scores.append(mean_squared_error(te_y, pre))\r\n",
    "        elif clf_name in [\"xgb\"]:\r\n",
    "            train_matrix = clf.DMatrix(tr_x, label=tr_y, missing=-1)\r\n",
    "            test_matrix = clf.DMatrix(te_x, label=te_y, missing=-1)\r\n",
    "            z = clf.DMatrix(test_x, missing=-1)\r\n",
    "            params = {'booster': 'gbtree',\r\n",
    "                      'eval_metric': 'rmse',\r\n",
    "                      'gamma': 1,\r\n",
    "                      'min_child_weight': 1.5,\r\n",
    "                      'max_depth': 5,\r\n",
    "                      'lambda': 10,\r\n",
    "                      'subsample': 0.7,\r\n",
    "                      'colsample_bytree': 0.7,\r\n",
    "                      'colsample_bylevel': 0.7,\r\n",
    "                      'eta': 0.03,\r\n",
    "                      'tree_method': 'exact',\r\n",
    "                      'seed': 2017,\r\n",
    "                      'nthread': 12\r\n",
    "                      }\r\n",
    "            num_round = 10000\r\n",
    "            early_stopping_rounds = 100\r\n",
    "            watchlist = [(train_matrix, 'train'),\r\n",
    "                         (test_matrix, 'eval')\r\n",
    "                         ]\r\n",
    "            if test_matrix:\r\n",
    "                model = clf.train(params, train_matrix, num_boost_round=num_round,evals=watchlist,\r\n",
    "                                  early_stopping_rounds=early_stopping_rounds\r\n",
    "                                  )\r\n",
    "                pre= model.predict(test_matrix,ntree_limit=model.best_ntree_limit).reshape(-1,1)\r\n",
    "                train[test_index]=pre\r\n",
    "                test_pre[i, :]= model.predict(z, ntree_limit=model.best_ntree_limit).reshape(-1,1)\r\n",
    "                cv_scores.append(mean_squared_error(te_y, pre))\r\n",
    "\r\n",
    "        elif clf_name in [\"lgb\"]:\r\n",
    "            train_matrix = clf.Dataset(tr_x, label=tr_y)\r\n",
    "            test_matrix = clf.Dataset(te_x, label=te_y)\r\n",
    "            params = {\r\n",
    "                      'boosting_type': 'gbdt',\r\n",
    "                      'objective': 'regression_l2',\r\n",
    "                      'metric': 'mse',\r\n",
    "                      'min_child_weight': 1.5,\r\n",
    "                      'num_leaves': 2**5,\r\n",
    "                      'lambda_l2': 10,\r\n",
    "                      'subsample': 0.7,\r\n",
    "                      'colsample_bytree': 0.7,\r\n",
    "                      'colsample_bylevel': 0.7,\r\n",
    "                      'learning_rate': 0.03,\r\n",
    "                      'tree_method': 'exact',\r\n",
    "                      'seed': 2017,\r\n",
    "                      'nthread': 12,\r\n",
    "                      'silent': True,\r\n",
    "                      }\r\n",
    "            num_round = 10000\r\n",
    "            early_stopping_rounds = 100\r\n",
    "            if test_matrix:\r\n",
    "                model = clf.train(params, train_matrix,num_round,valid_sets=test_matrix,\r\n",
    "                                  early_stopping_rounds=early_stopping_rounds\r\n",
    "                                  )\r\n",
    "                pre= model.predict(te_x,num_iteration=model.best_iteration).reshape(-1,1)\r\n",
    "                train[test_index]=pre\r\n",
    "                test_pre[i, :]= model.predict(test_x, num_iteration=model.best_iteration).reshape(-1,1)\r\n",
    "                cv_scores.append(mean_squared_error(te_y, pre))\r\n",
    "        else:\r\n",
    "            raise IOError(\"Please add new clf.\")\r\n",
    "        print(\"%s now score is:\"%clf_name,cv_scores)\r\n",
    "    test[:]=test_pre.mean(axis=0)\r\n",
    "    print(\"%s_score_list:\"%clf_name,cv_scores)\r\n",
    "    print(\"%s_score_mean:\"%clf_name,np.mean(cv_scores))\r\n",
    "    return train.reshape(-1,1),test.reshape(-1,1)\r\n",
    "\r\n",
    "def rf_reg(x_train, y_train, x_valid, kf, label_split=None):\r\n",
    "    randomforest = RandomForestRegressor(n_estimators=600, max_depth=20, n_jobs=-1, random_state=2017, max_features=\"auto\",verbose=1)\r\n",
    "    rf_train, rf_test = stacking_reg(randomforest, x_train, y_train, x_valid, \"rf\", kf, label_split=label_split)\r\n",
    "    return rf_train, rf_test,\"rf_reg\"\r\n",
    "\r\n",
    "def ada_reg(x_train, y_train, x_valid, kf, label_split=None):\r\n",
    "    adaboost = AdaBoostRegressor(n_estimators=30, random_state=2017, learning_rate=0.01)\r\n",
    "    ada_train, ada_test = stacking_reg(adaboost, x_train, y_train, x_valid, \"ada\", kf, label_split=label_split)\r\n",
    "    return ada_train, ada_test,\"ada_reg\"\r\n",
    "\r\n",
    "def gb_reg(x_train, y_train, x_valid, kf, label_split=None):\r\n",
    "    gbdt = GradientBoostingRegressor(learning_rate=0.04, n_estimators=100, subsample=0.8, random_state=2017,max_depth=5,verbose=1)\r\n",
    "    gbdt_train, gbdt_test = stacking_reg(gbdt, x_train, y_train, x_valid, \"gb\", kf, label_split=label_split)\r\n",
    "    return gbdt_train, gbdt_test,\"gb_reg\"\r\n",
    "\r\n",
    "def et_reg(x_train, y_train, x_valid, kf, label_split=None):\r\n",
    "    extratree = ExtraTreesRegressor(n_estimators=600, max_depth=35, max_features=\"auto\", n_jobs=-1, random_state=2017,verbose=1)\r\n",
    "    et_train, et_test = stacking_reg(extratree, x_train, y_train, x_valid, \"et\", kf, label_split=label_split)\r\n",
    "    return et_train, et_test,\"et_reg\"\r\n",
    "\r\n",
    "def lr_reg(x_train, y_train, x_valid, kf, label_split=None):\r\n",
    "    lr_reg=LinearRegression(n_jobs=-1)\r\n",
    "    lr_train, lr_test = stacking_reg(lr_reg, x_train, y_train, x_valid, \"lr\", kf, label_split=label_split)\r\n",
    "    return lr_train, lr_test, \"lr_reg\"\r\n",
    "\r\n",
    "def xgb_reg(x_train, y_train, x_valid, kf, label_split=None):\r\n",
    "    xgb_train, xgb_test = stacking_reg(xgboost, x_train, y_train, x_valid, \"xgb\", kf, label_split=label_split)\r\n",
    "    return xgb_train, xgb_test,\"xgb_reg\"\r\n",
    "\r\n",
    "def lgb_reg(x_train, y_train, x_valid, kf, label_split=None):\r\n",
    "    lgb_train, lgb_test = stacking_reg(lightgbm, x_train, y_train, x_valid, \"lgb\", kf, label_split=label_split)\r\n",
    "    return lgb_train, lgb_test,\"lgb_reg\""
   ]
  },
  {
   "cell_type": "code",
   "execution_count": null,
   "metadata": {
    "collapsed": true
   },
   "outputs": [],
   "source": [
    "\"\"\"\r\n",
    "-- 分类\r\n",
    "-- stacking 分类特征\r\n",
    "\"\"\"\r\n",
    "def stacking_clf(clf,train_x,train_y,test_x,clf_name,kf,label_split=None):\r\n",
    "    train=np.zeros((train_x.shape[0],1))\r\n",
    "    test=np.zeros((test_x.shape[0],1))\r\n",
    "    test_pre=np.empty((folds,test_x.shape[0],1))\r\n",
    "    cv_scores=[]\r\n",
    "    for i,(train_index,test_index) in enumerate(kf.split(train_x,label_split)):       \r\n",
    "        tr_x=train_x[train_index]\r\n",
    "        tr_y=train_y[train_index]\r\n",
    "        te_x=train_x[test_index]\r\n",
    "        te_y = train_y[test_index]\r\n",
    "\r\n",
    "        if clf_name in [\"rf\",\"ada\",\"gb\",\"et\",\"lr\",\"knn\",\"gnb\"]:\r\n",
    "            clf.fit(tr_x,tr_y)\r\n",
    "            pre=clf.predict_proba(te_x)\r\n",
    "            \r\n",
    "            train[test_index]=pre[:,0].reshape(-1,1)\r\n",
    "            test_pre[i,:]=clf.predict_proba(test_x)[:,0].reshape(-1,1)\r\n",
    "            \r\n",
    "            cv_scores.append(log_loss(te_y, pre[:,0].reshape(-1,1)))\r\n",
    "        elif clf_name in [\"xgb\"]:\r\n",
    "            train_matrix = clf.DMatrix(tr_x, label=tr_y, missing=-1)\r\n",
    "            test_matrix = clf.DMatrix(te_x, label=te_y, missing=-1)\r\n",
    "            z = clf.DMatrix(test_x, missing=-1)\r\n",
    "            params = {'booster': 'gbtree',\r\n",
    "                      'objective': 'multi:softprob',\r\n",
    "                      'eval_metric': 'mlogloss',\r\n",
    "                      'gamma': 1,\r\n",
    "                      'min_child_weight': 1.5,\r\n",
    "                      'max_depth': 5,\r\n",
    "                      'lambda': 10,\r\n",
    "                      'subsample': 0.7,\r\n",
    "                      'colsample_bytree': 0.7,\r\n",
    "                      'colsample_bylevel': 0.7,\r\n",
    "                      'eta': 0.03,\r\n",
    "                      'tree_method': 'exact',\r\n",
    "                      'seed': 2017,\r\n",
    "                      \"num_class\": 2\r\n",
    "                      }\r\n",
    "\r\n",
    "            num_round = 10000\r\n",
    "            early_stopping_rounds = 100\r\n",
    "            watchlist = [(train_matrix, 'train'),\r\n",
    "                         (test_matrix, 'eval')\r\n",
    "                         ]\r\n",
    "            if test_matrix:\r\n",
    "                model = clf.train(params, train_matrix, num_boost_round=num_round,evals=watchlist,\r\n",
    "                                  early_stopping_rounds=early_stopping_rounds\r\n",
    "                                  )\r\n",
    "                pre= model.predict(test_matrix,ntree_limit=model.best_ntree_limit)\r\n",
    "                train[test_index]=pre[:,0].reshape(-1,1)\r\n",
    "                test_pre[i, :]= model.predict(z, ntree_limit=model.best_ntree_limit)[:,0].reshape(-1,1)\r\n",
    "                cv_scores.append(log_loss(te_y, pre[:,0].reshape(-1,1)))\r\n",
    "        elif clf_name in [\"lgb\"]:\r\n",
    "            train_matrix = clf.Dataset(tr_x, label=tr_y)\r\n",
    "            test_matrix = clf.Dataset(te_x, label=te_y)\r\n",
    "            params = {\r\n",
    "                      'boosting_type': 'gbdt',\r\n",
    "                      #'boosting_type': 'dart',\r\n",
    "                      'objective': 'multiclass',\r\n",
    "                      'metric': 'multi_logloss',\r\n",
    "                      'min_child_weight': 1.5,\r\n",
    "                      'num_leaves': 2**5,\r\n",
    "                      'lambda_l2': 10,\r\n",
    "                      'subsample': 0.7,\r\n",
    "                      'colsample_bytree': 0.7,\r\n",
    "                      'colsample_bylevel': 0.7,\r\n",
    "                      'learning_rate': 0.03,\r\n",
    "                      'tree_method': 'exact',\r\n",
    "                      'seed': 2017,\r\n",
    "                      \"num_class\": 2,\r\n",
    "                      'silent': True,\r\n",
    "                      }\r\n",
    "            num_round = 10000\r\n",
    "            early_stopping_rounds = 100\r\n",
    "            if test_matrix:\r\n",
    "                model = clf.train(params, train_matrix,num_round,valid_sets=test_matrix,\r\n",
    "                                  early_stopping_rounds=early_stopping_rounds\r\n",
    "                                  )\r\n",
    "                pre= model.predict(te_x,num_iteration=model.best_iteration)\r\n",
    "                train[test_index]=pre[:,0].reshape(-1,1)\r\n",
    "                test_pre[i, :]= model.predict(test_x, num_iteration=model.best_iteration)[:,0].reshape(-1,1)\r\n",
    "                cv_scores.append(log_loss(te_y, pre[:,0].reshape(-1,1)))\r\n",
    "        else:\r\n",
    "            raise IOError(\"Please add new clf.\")\r\n",
    "        print(\"%s now score is:\"%clf_name,cv_scores)\r\n",
    "    test[:]=test_pre.mean(axis=0)\r\n",
    "    print(\"%s_score_list:\"%clf_name,cv_scores)\r\n",
    "    print(\"%s_score_mean:\"%clf_name,np.mean(cv_scores))\r\n",
    "    return train.reshape(-1,1),test.reshape(-1,1)\r\n",
    "\r\n",
    "def rf_clf(x_train, y_train, x_valid, kf, label_split=None):\r\n",
    "    randomforest = RandomForestClassifier(n_estimators=1200, max_depth=20, n_jobs=-1, random_state=2017, max_features=\"auto\",verbose=1)\r\n",
    "    rf_train, rf_test = stacking_clf(randomforest, x_train, y_train, x_valid, \"rf\", kf, label_split=label_split)\r\n",
    "    return rf_train, rf_test,\"rf\"\r\n",
    "\r\n",
    "def ada_clf(x_train, y_train, x_valid, kf, label_split=None):\r\n",
    "    adaboost = AdaBoostClassifier(n_estimators=50, random_state=2017, learning_rate=0.01)\r\n",
    "    ada_train, ada_test = stacking_clf(adaboost, x_train, y_train, x_valid, \"ada\", kf, label_split=label_split)\r\n",
    "    return ada_train, ada_test,\"ada\"\r\n",
    "\r\n",
    "def gb_clf(x_train, y_train, x_valid, kf, label_split=None):\r\n",
    "    gbdt = GradientBoostingClassifier(learning_rate=0.04, n_estimators=100, subsample=0.8, random_state=2017,max_depth=5,verbose=1)\r\n",
    "    gbdt_train, gbdt_test = stacking_clf(gbdt, x_train, y_train, x_valid, \"gb\", kf, label_split=label_split)\r\n",
    "    return gbdt_train, gbdt_test,\"gb\"\r\n",
    "\r\n",
    "def et_clf(x_train, y_train, x_valid, kf, label_split=None):\r\n",
    "    extratree = ExtraTreesClassifier(n_estimators=1200, max_depth=35, max_features=\"auto\", n_jobs=-1, random_state=2017,verbose=1)\r\n",
    "    et_train, et_test = stacking_clf(extratree, x_train, y_train, x_valid, \"et\", kf, label_split=label_split)\r\n",
    "    return et_train, et_test,\"et\"\r\n",
    "\r\n",
    "def xgb_clf(x_train, y_train, x_valid, kf, label_split=None):\r\n",
    "    xgb_train, xgb_test = stacking_clf(xgboost, x_train, y_train, x_valid, \"xgb\", kf, label_split=label_split)\r\n",
    "    return xgb_train, xgb_test,\"xgb\"\r\n",
    "\r\n",
    "def lgb_clf(x_train, y_train, x_valid, kf, label_split=None):\r\n",
    "    xgb_train, xgb_test = stacking_clf(lightgbm, x_train, y_train, x_valid, \"lgb\", kf, label_split=label_split)\r\n",
    "    return xgb_train, xgb_test,\"lgb\"\r\n",
    "\r\n",
    "def gnb_clf(x_train, y_train, x_valid, kf, label_split=None):\r\n",
    "    gnb=GaussianNB()\r\n",
    "    gnb_train, gnb_test = stacking_clf(gnb, x_train, y_train, x_valid, \"gnb\", kf, label_split=label_split)\r\n",
    "    return gnb_train, gnb_test,\"gnb\"\r\n",
    "\r\n",
    "def lr_clf(x_train, y_train, x_valid, kf, label_split=None):\r\n",
    "    logisticregression=LogisticRegression(n_jobs=-1,random_state=2017,C=0.1,max_iter=200)\r\n",
    "    lr_train, lr_test = stacking_clf(logisticregression, x_train, y_train, x_valid, \"lr\", kf, label_split=label_split)\r\n",
    "    return lr_train, lr_test, \"lr\"\r\n",
    "\r\n",
    "def knn_clf(x_train, y_train, x_valid, kf, label_split=None):\r\n",
    "    kneighbors=KNeighborsClassifier(n_neighbors=200,n_jobs=-1)\r\n",
    "    knn_train, knn_test = stacking_clf(kneighbors, x_train, y_train, x_valid, \"lr\", kf, label_split=label_split)\r\n",
    "    return knn_train, knn_test, \"knn\""
   ]
  },
  {
   "cell_type": "code",
   "execution_count": null,
   "metadata": {
    "collapsed": true
   },
   "outputs": [],
   "source": [
    "# 获取训练和验证数据(为stacking特征做准备)\r\n",
    "features_columns = [c for c in all_data_test.columns if c not in ['label', 'prob', 'seller_path', 'cat_path', 'brand_path', 'action_type_path', 'item_path', 'time_stamp_path']]\r\n",
    "x_train = all_data_test[~all_data_test['label'].isna()][features_columns].values\r\n",
    "y_train = all_data_test[~all_data_test['label'].isna()]['label'].values\r\n",
    "x_valid = all_data_test[all_data_test['label'].isna()][features_columns].values"
   ]
  },
  {
   "cell_type": "code",
   "execution_count": null,
   "metadata": {
    "collapsed": true
   },
   "outputs": [],
   "source": [
    "def get_matrix(data):\r\n",
    "    where_are_nan = np.isnan(data)\r\n",
    "    where_are_inf = np.isinf(data)\r\n",
    "    data[where_are_nan] = 0\r\n",
    "    data[where_are_inf] = 0\r\n",
    "    return data"
   ]
  },
  {
   "cell_type": "code",
   "execution_count": null,
   "metadata": {
    "collapsed": true
   },
   "outputs": [],
   "source": [
    "x_train = np.float_(get_matrix(np.float_(x_train)))\r\n",
    "y_train = np.int_(y_train)\r\n",
    "x_valid = np.float_(get_matrix(np.float_(x_valid)))"
   ]
  },
  {
   "cell_type": "code",
   "execution_count": null,
   "metadata": {
    "collapsed": true
   },
   "outputs": [
    {
     "name": "stdout",
     "output_type": "stream",
     "text": [
      "(260864, 228)\n",
      "(260864,)\n",
      "(261477, 228)\n"
     ]
    }
   ],
   "source": [
    "print(x_train.shape)\r\n",
    "print(y_train.shape)\r\n",
    "print(x_valid.shape)"
   ]
  },
  {
   "cell_type": "code",
   "execution_count": null,
   "metadata": {
    "collapsed": true
   },
   "outputs": [
    {
     "name": "stdout",
     "output_type": "stream",
     "text": [
      "[0]\ttrain-mlogloss:0.67036\teval-mlogloss:0.67034\n",
      "[1]\ttrain-mlogloss:0.64895\teval-mlogloss:0.64889\n",
      "[2]\ttrain-mlogloss:0.62875\teval-mlogloss:0.62866\n",
      "[3]\ttrain-mlogloss:0.60964\teval-mlogloss:0.60956\n",
      "[4]\ttrain-mlogloss:0.59161\teval-mlogloss:0.59151\n",
      "[5]\ttrain-mlogloss:0.57458\teval-mlogloss:0.57444\n",
      "[6]\ttrain-mlogloss:0.55841\teval-mlogloss:0.55827\n",
      "[7]\ttrain-mlogloss:0.54308\teval-mlogloss:0.54294\n",
      "[8]\ttrain-mlogloss:0.52855\teval-mlogloss:0.52838\n",
      "[9]\ttrain-mlogloss:0.51475\teval-mlogloss:0.51458\n",
      "[10]\ttrain-mlogloss:0.50165\teval-mlogloss:0.50146\n",
      "[11]\ttrain-mlogloss:0.48919\teval-mlogloss:0.48898\n",
      "[12]\ttrain-mlogloss:0.47734\teval-mlogloss:0.47713\n",
      "[13]\ttrain-mlogloss:0.46605\teval-mlogloss:0.46582\n",
      "[14]\ttrain-mlogloss:0.45531\teval-mlogloss:0.45508\n",
      "[15]\ttrain-mlogloss:0.44508\teval-mlogloss:0.44483\n",
      "[16]\ttrain-mlogloss:0.43532\teval-mlogloss:0.43507\n",
      "[17]\ttrain-mlogloss:0.42602\teval-mlogloss:0.42575\n",
      "[18]\ttrain-mlogloss:0.41714\teval-mlogloss:0.41688\n",
      "[19]\ttrain-mlogloss:0.40869\teval-mlogloss:0.40842\n",
      "[20]\ttrain-mlogloss:0.40063\teval-mlogloss:0.40035\n",
      "[21]\ttrain-mlogloss:0.39292\teval-mlogloss:0.39263\n",
      "[22]\ttrain-mlogloss:0.38556\teval-mlogloss:0.38526\n",
      "[23]\ttrain-mlogloss:0.37852\teval-mlogloss:0.37822\n",
      "[24]\ttrain-mlogloss:0.37180\teval-mlogloss:0.37149\n",
      "[25]\ttrain-mlogloss:0.36538\teval-mlogloss:0.36506\n",
      "[26]\ttrain-mlogloss:0.35924\teval-mlogloss:0.35892\n",
      "[27]\ttrain-mlogloss:0.35337\teval-mlogloss:0.35305\n",
      "[28]\ttrain-mlogloss:0.34777\teval-mlogloss:0.34744\n",
      "[29]\ttrain-mlogloss:0.34241\teval-mlogloss:0.34208\n",
      "[30]\ttrain-mlogloss:0.33729\teval-mlogloss:0.33695\n",
      "[31]\ttrain-mlogloss:0.33237\teval-mlogloss:0.33203\n",
      "[32]\ttrain-mlogloss:0.32769\teval-mlogloss:0.32735\n",
      "[33]\ttrain-mlogloss:0.32320\teval-mlogloss:0.32286\n",
      "[34]\ttrain-mlogloss:0.31890\teval-mlogloss:0.31857\n",
      "[35]\ttrain-mlogloss:0.31480\teval-mlogloss:0.31447\n",
      "[36]\ttrain-mlogloss:0.31088\teval-mlogloss:0.31055\n",
      "[37]\ttrain-mlogloss:0.30712\teval-mlogloss:0.30678\n",
      "[38]\ttrain-mlogloss:0.30351\teval-mlogloss:0.30318\n",
      "[39]\ttrain-mlogloss:0.30007\teval-mlogloss:0.29974\n",
      "[40]\ttrain-mlogloss:0.29677\teval-mlogloss:0.29645\n",
      "[41]\ttrain-mlogloss:0.29363\teval-mlogloss:0.29331\n",
      "[42]\ttrain-mlogloss:0.29062\teval-mlogloss:0.29029\n",
      "[43]\ttrain-mlogloss:0.28772\teval-mlogloss:0.28740\n",
      "[44]\ttrain-mlogloss:0.28496\teval-mlogloss:0.28464\n",
      "[45]\ttrain-mlogloss:0.28232\teval-mlogloss:0.28200\n",
      "[46]\ttrain-mlogloss:0.27979\teval-mlogloss:0.27948\n",
      "[47]\ttrain-mlogloss:0.27737\teval-mlogloss:0.27705\n",
      "[48]\ttrain-mlogloss:0.27505\teval-mlogloss:0.27474\n",
      "[49]\ttrain-mlogloss:0.27283\teval-mlogloss:0.27253\n",
      "[50]\ttrain-mlogloss:0.27070\teval-mlogloss:0.27041\n",
      "[51]\ttrain-mlogloss:0.26868\teval-mlogloss:0.26839\n",
      "[52]\ttrain-mlogloss:0.26672\teval-mlogloss:0.26645\n",
      "[53]\ttrain-mlogloss:0.26487\teval-mlogloss:0.26459\n",
      "[54]\ttrain-mlogloss:0.26310\teval-mlogloss:0.26282\n",
      "[55]\ttrain-mlogloss:0.26139\teval-mlogloss:0.26113\n",
      "[56]\ttrain-mlogloss:0.25977\teval-mlogloss:0.25951\n",
      "[57]\ttrain-mlogloss:0.25822\teval-mlogloss:0.25797\n",
      "[58]\ttrain-mlogloss:0.25673\teval-mlogloss:0.25649\n",
      "[59]\ttrain-mlogloss:0.25530\teval-mlogloss:0.25507\n",
      "[60]\ttrain-mlogloss:0.25395\teval-mlogloss:0.25372\n",
      "[61]\ttrain-mlogloss:0.25264\teval-mlogloss:0.25242\n",
      "[62]\ttrain-mlogloss:0.25139\teval-mlogloss:0.25118\n",
      "[63]\ttrain-mlogloss:0.25021\teval-mlogloss:0.25002\n",
      "[64]\ttrain-mlogloss:0.24907\teval-mlogloss:0.24888\n",
      "[65]\ttrain-mlogloss:0.24799\teval-mlogloss:0.24782\n",
      "[66]\ttrain-mlogloss:0.24695\teval-mlogloss:0.24678\n",
      "[67]\ttrain-mlogloss:0.24595\teval-mlogloss:0.24579\n",
      "[68]\ttrain-mlogloss:0.24502\teval-mlogloss:0.24486\n",
      "[69]\ttrain-mlogloss:0.24410\teval-mlogloss:0.24396\n",
      "[70]\ttrain-mlogloss:0.24323\teval-mlogloss:0.24310\n",
      "[71]\ttrain-mlogloss:0.24242\teval-mlogloss:0.24230\n",
      "[72]\ttrain-mlogloss:0.24162\teval-mlogloss:0.24152\n",
      "[73]\ttrain-mlogloss:0.24086\teval-mlogloss:0.24077\n",
      "[74]\ttrain-mlogloss:0.24014\teval-mlogloss:0.24006\n",
      "[75]\ttrain-mlogloss:0.23945\teval-mlogloss:0.23939\n",
      "[76]\ttrain-mlogloss:0.23879\teval-mlogloss:0.23874\n",
      "[77]\ttrain-mlogloss:0.23816\teval-mlogloss:0.23812\n",
      "[78]\ttrain-mlogloss:0.23755\teval-mlogloss:0.23752\n",
      "[79]\ttrain-mlogloss:0.23697\teval-mlogloss:0.23696\n",
      "[80]\ttrain-mlogloss:0.23642\teval-mlogloss:0.23642\n",
      "[81]\ttrain-mlogloss:0.23590\teval-mlogloss:0.23591\n",
      "[82]\ttrain-mlogloss:0.23539\teval-mlogloss:0.23542\n",
      "[83]\ttrain-mlogloss:0.23492\teval-mlogloss:0.23496\n",
      "[84]\ttrain-mlogloss:0.23446\teval-mlogloss:0.23451\n",
      "[85]\ttrain-mlogloss:0.23402\teval-mlogloss:0.23409\n",
      "[86]\ttrain-mlogloss:0.23361\teval-mlogloss:0.23369\n",
      "[87]\ttrain-mlogloss:0.23322\teval-mlogloss:0.23331\n",
      "[88]\ttrain-mlogloss:0.23283\teval-mlogloss:0.23294\n",
      "[89]\ttrain-mlogloss:0.23246\teval-mlogloss:0.23258\n",
      "[90]\ttrain-mlogloss:0.23211\teval-mlogloss:0.23225\n",
      "[91]\ttrain-mlogloss:0.23179\teval-mlogloss:0.23194\n",
      "[92]\ttrain-mlogloss:0.23147\teval-mlogloss:0.23164\n",
      "[93]\ttrain-mlogloss:0.23116\teval-mlogloss:0.23134\n",
      "[94]\ttrain-mlogloss:0.23086\teval-mlogloss:0.23106\n",
      "[95]\ttrain-mlogloss:0.23059\teval-mlogloss:0.23080\n",
      "[96]\ttrain-mlogloss:0.23033\teval-mlogloss:0.23056\n",
      "[97]\ttrain-mlogloss:0.23007\teval-mlogloss:0.23031\n",
      "[98]\ttrain-mlogloss:0.22983\teval-mlogloss:0.23008\n",
      "[99]\ttrain-mlogloss:0.22959\teval-mlogloss:0.22985\n",
      "[100]\ttrain-mlogloss:0.22937\teval-mlogloss:0.22965\n",
      "[101]\ttrain-mlogloss:0.22915\teval-mlogloss:0.22945\n",
      "[102]\ttrain-mlogloss:0.22894\teval-mlogloss:0.22925\n",
      "[103]\ttrain-mlogloss:0.22874\teval-mlogloss:0.22907\n",
      "[104]\ttrain-mlogloss:0.22855\teval-mlogloss:0.22890\n",
      "[105]\ttrain-mlogloss:0.22838\teval-mlogloss:0.22874\n",
      "[106]\ttrain-mlogloss:0.22819\teval-mlogloss:0.22858\n",
      "[107]\ttrain-mlogloss:0.22802\teval-mlogloss:0.22842\n",
      "[108]\ttrain-mlogloss:0.22786\teval-mlogloss:0.22828\n",
      "[109]\ttrain-mlogloss:0.22771\teval-mlogloss:0.22815\n",
      "[110]\ttrain-mlogloss:0.22757\teval-mlogloss:0.22803\n",
      "[111]\ttrain-mlogloss:0.22743\teval-mlogloss:0.22790\n",
      "[112]\ttrain-mlogloss:0.22730\teval-mlogloss:0.22779\n",
      "[113]\ttrain-mlogloss:0.22716\teval-mlogloss:0.22767\n",
      "[114]\ttrain-mlogloss:0.22703\teval-mlogloss:0.22756\n",
      "[115]\ttrain-mlogloss:0.22690\teval-mlogloss:0.22745\n",
      "[116]\ttrain-mlogloss:0.22679\teval-mlogloss:0.22737\n",
      "[117]\ttrain-mlogloss:0.22668\teval-mlogloss:0.22727\n",
      "[118]\ttrain-mlogloss:0.22657\teval-mlogloss:0.22718\n",
      "[119]\ttrain-mlogloss:0.22648\teval-mlogloss:0.22710\n",
      "[120]\ttrain-mlogloss:0.22637\teval-mlogloss:0.22701\n",
      "[121]\ttrain-mlogloss:0.22628\teval-mlogloss:0.22693\n",
      "[122]\ttrain-mlogloss:0.22619\teval-mlogloss:0.22686\n",
      "[123]\ttrain-mlogloss:0.22609\teval-mlogloss:0.22678\n",
      "[124]\ttrain-mlogloss:0.22601\teval-mlogloss:0.22671\n",
      "[125]\ttrain-mlogloss:0.22593\teval-mlogloss:0.22665\n",
      "[126]\ttrain-mlogloss:0.22584\teval-mlogloss:0.22658\n",
      "[127]\ttrain-mlogloss:0.22576\teval-mlogloss:0.22652\n",
      "[128]\ttrain-mlogloss:0.22569\teval-mlogloss:0.22647\n",
      "[129]\ttrain-mlogloss:0.22561\teval-mlogloss:0.22642\n",
      "[130]\ttrain-mlogloss:0.22555\teval-mlogloss:0.22636\n",
      "[131]\ttrain-mlogloss:0.22547\teval-mlogloss:0.22631\n",
      "[132]\ttrain-mlogloss:0.22541\teval-mlogloss:0.22627\n",
      "[133]\ttrain-mlogloss:0.22534\teval-mlogloss:0.22623\n",
      "[134]\ttrain-mlogloss:0.22528\teval-mlogloss:0.22618\n",
      "[135]\ttrain-mlogloss:0.22521\teval-mlogloss:0.22613\n",
      "[136]\ttrain-mlogloss:0.22514\teval-mlogloss:0.22608\n",
      "[137]\ttrain-mlogloss:0.22509\teval-mlogloss:0.22605\n",
      "[138]\ttrain-mlogloss:0.22504\teval-mlogloss:0.22602\n",
      "[139]\ttrain-mlogloss:0.22499\teval-mlogloss:0.22598\n",
      "[140]\ttrain-mlogloss:0.22493\teval-mlogloss:0.22595\n",
      "[141]\ttrain-mlogloss:0.22488\teval-mlogloss:0.22592\n",
      "[142]\ttrain-mlogloss:0.22484\teval-mlogloss:0.22589\n",
      "[143]\ttrain-mlogloss:0.22477\teval-mlogloss:0.22585\n",
      "[144]\ttrain-mlogloss:0.22473\teval-mlogloss:0.22582\n"
     ]
    }
   ],
   "source": [
    "from sklearn.model_selection import KFold\r\n",
    "\r\n",
    "folds = 5\r\n",
    "seed = 1\r\n",
    "kf = KFold(n_splits=5, shuffle=True, random_state=0)\r\n",
    "\r\n",
    "# clf_list = [lgb_clf, xgb_clf, lgb_reg, xgb_reg]\r\n",
    "# clf_list_col = ['lgb_clf', 'xgb_clf', 'lgb_reg', 'xgb_reg']\r\n",
    "\r\n",
    "# clf_list = [lgb_clf, xgb_clf]\r\n",
    "# clf_list_col = ['lgb_clf', 'xgb_clf']\r\n",
    "\r\n",
    "clf_list =[xgb_clf]\r\n",
    "clf_list_col = ['xgb_clf']\r\n",
    "\r\n",
    "\r\n",
    "clf_list = clf_list\r\n",
    "column_list = []\r\n",
    "train_data_list=[]\r\n",
    "test_data_list=[]\r\n",
    "\r\n",
    "for clf in clf_list:\r\n",
    "    train_data,test_data,clf_name=clf(x_train, y_train, x_valid, kf, label_split=None)\r\n",
    "    train_data_list.append(train_data)\r\n",
    "    test_data_list.append(test_data)"
   ]
  },
  {
   "cell_type": "code",
   "execution_count": null,
   "metadata": {
    "collapsed": true
   },
   "outputs": [],
   "source": [
    "train_stacking = np.concatenate(train_data_list, axis=1)\r\n",
    "test_stacking = np.concatenate(test_data_list, axis=1)"
   ]
  },
  {
   "cell_type": "code",
   "execution_count": null,
   "metadata": {
    "collapsed": true
   },
   "outputs": [],
   "source": [
    "# # 合并所有特征\r\n",
    "train = np.concatenate([x_train, train_stacking], axis=1)\r\n",
    "test = np.concatenate([x_valid, test_stacking], axis=1)"
   ]
  },
  {
   "cell_type": "code",
   "execution_count": null,
   "metadata": {
    "collapsed": true
   },
   "outputs": [],
   "source": [
    "# clf_list_col = ['lgb_clf']\r\n",
    "\r\n",
    "df_train_all = pd.DataFrame(train)\r\n",
    "df_train_all.columns = features_columns + clf_list_col\r\n",
    "\r\n",
    "df_test_all = pd.DataFrame(test)\r\n",
    "df_test_all.columns = features_columns + clf_list_col"
   ]
  },
  {
   "cell_type": "code",
   "execution_count": null,
   "metadata": {
    "collapsed": true
   },
   "outputs": [],
   "source": [
    "df_train_all['user_id'] = all_data_test[~all_data_test['label'].isna()]['user_id']\r\n",
    "df_train_all['label'] = all_data_test[~all_data_test['label'].isna()]['label']\r\n",
    "df_test_all['user_id'] = df_test_all['user_id'].apply(int)"
   ]
  },
  {
   "cell_type": "code",
   "execution_count": null,
   "metadata": {
    "collapsed": true
   },
   "outputs": [
    {
     "data": {
      "text/plain": [
       "0         163968\n",
       "1         360576\n",
       "2          98688\n",
       "3          98688\n",
       "4         295296\n",
       "           ...  \n",
       "261472    228479\n",
       "261473     97919\n",
       "261474     97919\n",
       "261475     32639\n",
       "261476     32639\n",
       "Name: user_id, Length: 261477, dtype: int64"
      ]
     },
     "execution_count": null,
     "metadata": {},
     "output_type": "execute_result"
    }
   ],
   "source": [
    "df_test_all['user_id']"
   ]
  },
  {
   "cell_type": "code",
   "execution_count": null,
   "metadata": {
    "collapsed": false
   },
   "outputs": [
    {
     "data": {
      "text/plain": [
       "(261477, 229)"
      ]
     },
     "execution_count": null,
     "metadata": {},
     "output_type": "execute_result"
    }
   ],
   "source": [
    "df_test_all.shape"
   ]
  },
  {
   "cell_type": "code",
   "execution_count": null,
   "metadata": {
    "collapsed": true
   },
   "outputs": [
    {
     "data": {
      "text/html": [
       "<div>\n",
       "<style scoped>\n",
       "    .dataframe tbody tr th:only-of-type {\n",
       "        vertical-align: middle;\n",
       "    }\n",
       "\n",
       "    .dataframe tbody tr th {\n",
       "        vertical-align: top;\n",
       "    }\n",
       "\n",
       "    .dataframe thead th {\n",
       "        text-align: right;\n",
       "    }\n",
       "</style>\n",
       "<table border=\"1\" class=\"dataframe\">\n",
       "  <thead>\n",
       "    <tr style=\"text-align: right;\">\n",
       "      <th></th>\n",
       "      <th>user_id</th>\n",
       "      <th>merchant_id</th>\n",
       "      <th>age_range</th>\n",
       "      <th>gender</th>\n",
       "      <th>user_cnt</th>\n",
       "      <th>seller_nunique</th>\n",
       "      <th>cat_nunique</th>\n",
       "      <th>brand_nunique</th>\n",
       "      <th>item_nunique</th>\n",
       "      <th>time_stamp_nunique</th>\n",
       "      <th>...</th>\n",
       "      <th>embeeding_91</th>\n",
       "      <th>embeeding_92</th>\n",
       "      <th>embeeding_93</th>\n",
       "      <th>embeeding_94</th>\n",
       "      <th>embeeding_95</th>\n",
       "      <th>embeeding_96</th>\n",
       "      <th>embeeding_97</th>\n",
       "      <th>embeeding_98</th>\n",
       "      <th>embeeding_99</th>\n",
       "      <th>lgb_clf</th>\n",
       "    </tr>\n",
       "  </thead>\n",
       "  <tbody>\n",
       "    <tr>\n",
       "      <th>0</th>\n",
       "      <td>163968</td>\n",
       "      <td>4605.0</td>\n",
       "      <td>0.0</td>\n",
       "      <td>0.0</td>\n",
       "      <td>81.0</td>\n",
       "      <td>21.0</td>\n",
       "      <td>21.0</td>\n",
       "      <td>22.0</td>\n",
       "      <td>34.0</td>\n",
       "      <td>26.0</td>\n",
       "      <td>...</td>\n",
       "      <td>0.0</td>\n",
       "      <td>0.0</td>\n",
       "      <td>0.0</td>\n",
       "      <td>0.0</td>\n",
       "      <td>0.0</td>\n",
       "      <td>0.0</td>\n",
       "      <td>0.0</td>\n",
       "      <td>0.0</td>\n",
       "      <td>0.0</td>\n",
       "      <td>0.912149</td>\n",
       "    </tr>\n",
       "    <tr>\n",
       "      <th>1</th>\n",
       "      <td>360576</td>\n",
       "      <td>1581.0</td>\n",
       "      <td>2.0</td>\n",
       "      <td>2.0</td>\n",
       "      <td>77.0</td>\n",
       "      <td>37.0</td>\n",
       "      <td>27.0</td>\n",
       "      <td>37.0</td>\n",
       "      <td>65.0</td>\n",
       "      <td>22.0</td>\n",
       "      <td>...</td>\n",
       "      <td>0.0</td>\n",
       "      <td>0.0</td>\n",
       "      <td>0.0</td>\n",
       "      <td>0.0</td>\n",
       "      <td>0.0</td>\n",
       "      <td>0.0</td>\n",
       "      <td>0.0</td>\n",
       "      <td>0.0</td>\n",
       "      <td>0.0</td>\n",
       "      <td>0.954047</td>\n",
       "    </tr>\n",
       "    <tr>\n",
       "      <th>2</th>\n",
       "      <td>98688</td>\n",
       "      <td>1964.0</td>\n",
       "      <td>6.0</td>\n",
       "      <td>0.0</td>\n",
       "      <td>56.0</td>\n",
       "      <td>22.0</td>\n",
       "      <td>18.0</td>\n",
       "      <td>21.0</td>\n",
       "      <td>25.0</td>\n",
       "      <td>10.0</td>\n",
       "      <td>...</td>\n",
       "      <td>0.0</td>\n",
       "      <td>0.0</td>\n",
       "      <td>0.0</td>\n",
       "      <td>0.0</td>\n",
       "      <td>0.0</td>\n",
       "      <td>0.0</td>\n",
       "      <td>0.0</td>\n",
       "      <td>0.0</td>\n",
       "      <td>0.0</td>\n",
       "      <td>0.948461</td>\n",
       "    </tr>\n",
       "    <tr>\n",
       "      <th>3</th>\n",
       "      <td>98688</td>\n",
       "      <td>3645.0</td>\n",
       "      <td>6.0</td>\n",
       "      <td>0.0</td>\n",
       "      <td>56.0</td>\n",
       "      <td>22.0</td>\n",
       "      <td>18.0</td>\n",
       "      <td>21.0</td>\n",
       "      <td>25.0</td>\n",
       "      <td>10.0</td>\n",
       "      <td>...</td>\n",
       "      <td>0.0</td>\n",
       "      <td>0.0</td>\n",
       "      <td>0.0</td>\n",
       "      <td>0.0</td>\n",
       "      <td>0.0</td>\n",
       "      <td>0.0</td>\n",
       "      <td>0.0</td>\n",
       "      <td>0.0</td>\n",
       "      <td>0.0</td>\n",
       "      <td>0.947816</td>\n",
       "    </tr>\n",
       "    <tr>\n",
       "      <th>4</th>\n",
       "      <td>295296</td>\n",
       "      <td>3361.0</td>\n",
       "      <td>2.0</td>\n",
       "      <td>1.0</td>\n",
       "      <td>176.0</td>\n",
       "      <td>56.0</td>\n",
       "      <td>32.0</td>\n",
       "      <td>46.0</td>\n",
       "      <td>85.0</td>\n",
       "      <td>33.0</td>\n",
       "      <td>...</td>\n",
       "      <td>0.0</td>\n",
       "      <td>0.0</td>\n",
       "      <td>0.0</td>\n",
       "      <td>0.0</td>\n",
       "      <td>0.0</td>\n",
       "      <td>0.0</td>\n",
       "      <td>0.0</td>\n",
       "      <td>0.0</td>\n",
       "      <td>0.0</td>\n",
       "      <td>0.939132</td>\n",
       "    </tr>\n",
       "  </tbody>\n",
       "</table>\n",
       "<p>5 rows × 229 columns</p>\n",
       "</div>"
      ],
      "text/plain": [
       "   user_id  merchant_id  age_range  gender  user_cnt  seller_nunique  \\\n",
       "0   163968       4605.0        0.0     0.0      81.0            21.0   \n",
       "1   360576       1581.0        2.0     2.0      77.0            37.0   \n",
       "2    98688       1964.0        6.0     0.0      56.0            22.0   \n",
       "3    98688       3645.0        6.0     0.0      56.0            22.0   \n",
       "4   295296       3361.0        2.0     1.0     176.0            56.0   \n",
       "\n",
       "   cat_nunique  brand_nunique  item_nunique  time_stamp_nunique  ...  \\\n",
       "0         21.0           22.0          34.0                26.0  ...   \n",
       "1         27.0           37.0          65.0                22.0  ...   \n",
       "2         18.0           21.0          25.0                10.0  ...   \n",
       "3         18.0           21.0          25.0                10.0  ...   \n",
       "4         32.0           46.0          85.0                33.0  ...   \n",
       "\n",
       "   embeeding_91  embeeding_92  embeeding_93  embeeding_94  embeeding_95  \\\n",
       "0           0.0           0.0           0.0           0.0           0.0   \n",
       "1           0.0           0.0           0.0           0.0           0.0   \n",
       "2           0.0           0.0           0.0           0.0           0.0   \n",
       "3           0.0           0.0           0.0           0.0           0.0   \n",
       "4           0.0           0.0           0.0           0.0           0.0   \n",
       "\n",
       "   embeeding_96  embeeding_97  embeeding_98  embeeding_99   lgb_clf  \n",
       "0           0.0           0.0           0.0           0.0  0.912149  \n",
       "1           0.0           0.0           0.0           0.0  0.954047  \n",
       "2           0.0           0.0           0.0           0.0  0.948461  \n",
       "3           0.0           0.0           0.0           0.0  0.947816  \n",
       "4           0.0           0.0           0.0           0.0  0.939132  \n",
       "\n",
       "[5 rows x 229 columns]"
      ]
     },
     "execution_count": null,
     "metadata": {},
     "output_type": "execute_result"
    }
   ],
   "source": [
    "df_test_all.head(5)"
   ]
  },
  {
   "cell_type": "code",
   "execution_count": null,
   "metadata": {
    "collapsed": false
   },
   "outputs": [],
   "source": [
    "df_train_all.to_csv('train_all.csv',header=True,index=False)\r\n",
    "df_test_all.to_csv('test_all.csv',header=True,index=False)"
   ]
  },
  {
   "cell_type": "code",
   "execution_count": null,
   "metadata": {
    "collapsed": false
   },
   "outputs": [],
   "source": []
  },
  {
   "cell_type": "markdown",
   "metadata": {
    "collapsed": false
   },
   "source": [
    "# 特征选择（演示）"
   ]
  },
  {
   "cell_type": "markdown",
   "metadata": {
    "collapsed": false
   },
   "source": [
    "要使用特征选择技术的关键假设是：训练数据包含许多冗余 或无关 的特征，因而移除这些特征并不会导致丢失信息。 冗余 或无关 特征是两个不同的概念。如果一个特征本身有用，但如果这个特征与另一个有用特征强相关，且那个特征也出现在数据中，那么这个特征可能就变得多余。\n",
    "\n",
    "特征选择技术与特征提取有所不同。特征提取是从原有特征的功能中创造新的特征，而特征选择则只返回原有特征中的子集。 特征选择技术的常常用于许多特征但样本（即数据点）相对较少的领域。特征选择应用的典型用例包括：解析书面文本和微阵列数据，这些场景下特征成千上万，但样本只有几十到几百个。"
   ]
  },
  {
   "cell_type": "code",
   "execution_count": null,
   "metadata": {
    "collapsed": true
   },
   "outputs": [],
   "source": [
    "train_data = pd.read_csv('train_all.csv',nrows=10000)\r\n",
    "test_data = pd.read_csv('test_all.csv',nrows=100)"
   ]
  },
  {
   "cell_type": "code",
   "execution_count": null,
   "metadata": {
    "collapsed": true
   },
   "outputs": [],
   "source": [
    "features_columns = [col for col in train_data.columns if col not in ['user_id','label']]\r\n",
    "train = train_data[features_columns].values\r\n",
    "test = test_data[features_columns].values\r\n",
    "target =train_data['label'].values"
   ]
  },
  {
   "cell_type": "code",
   "execution_count": null,
   "metadata": {
    "collapsed": true
   },
   "outputs": [],
   "source": [
    "from sklearn.impute import SimpleImputer\r\n",
    "\r\n",
    "imputer = SimpleImputer(strategy=\"median\")\r\n",
    "imputer = imputer.fit(train)\r\n",
    "train_imputer = imputer.transform(train)\r\n",
    "test_imputer = imputer.transform(test)"
   ]
  },
  {
   "cell_type": "code",
   "execution_count": null,
   "metadata": {
    "collapsed": true
   },
   "outputs": [],
   "source": [
    "from sklearn.model_selection import cross_val_score\r\n",
    "from sklearn.ensemble import RandomForestClassifier\r\n",
    "\r\n",
    "def feature_selection(train, train_sel, target):\r\n",
    "    clf = RandomForestClassifier(n_estimators=100, max_depth=2, random_state=0, n_jobs=-1)\r\n",
    "    \r\n",
    "    scores = cross_val_score(clf, train, target, cv=5)\r\n",
    "    scores_sel = cross_val_score(clf, train_sel, target, cv=5)\r\n",
    "    \r\n",
    "    print(\"No Select Accuracy: %0.6f (+/- %0.6f)\" % (scores.mean(), scores.std() * 2))     \r\n",
    "    print(\"Features Select Accuracy: %0.6f (+/- %0.6f)\" % (scores_sel.mean(), scores_sel.std() * 2))"
   ]
  },
  {
   "cell_type": "markdown",
   "metadata": {
    "collapsed": false
   },
   "source": [
    "## 删除方差较小的要素\n",
    "VarianceThreshold是一种简单的基线特征选择方法。它会删除方差不符合某个阈值的所有要素。默认情况下，它会删除所有零方差要素，即在所有样本中具有相同值的要素。"
   ]
  },
  {
   "cell_type": "code",
   "execution_count": null,
   "metadata": {
    "collapsed": true
   },
   "outputs": [
    {
     "name": "stdout",
     "output_type": "stream",
     "text": [
      "训练数据未特征筛选维度 (60000, 228)\n",
      "训练数据特征筛选维度后 (60000, 24)\n",
      "No Select Accuracy: 0.939417 (+/- 0.000000)\n",
      "Features Select Accuracy: 0.939417 (+/- 0.000000)\n"
     ]
    }
   ],
   "source": [
    "from sklearn.feature_selection import VarianceThreshold\r\n",
    "\r\n",
    "sel = VarianceThreshold(threshold=(.8 * (1 - .8)))\r\n",
    "sel = sel.fit(train)\r\n",
    "\r\n",
    "train_sel = sel.transform(train)\r\n",
    "test_sel = sel.transform(test)\r\n",
    "print('训练数据未特征筛选维度', train.shape)\r\n",
    "print('训练数据特征筛选维度后', train_sel.shape)\r\n",
    "\r\n",
    "feature_selection(train, train_sel, target)"
   ]
  },
  {
   "cell_type": "markdown",
   "metadata": {
    "collapsed": false
   },
   "source": [
    "## 单变量特征选择\n",
    "通过基于单变量统计检验选择最佳特征。"
   ]
  },
  {
   "cell_type": "code",
   "execution_count": null,
   "metadata": {
    "collapsed": true
   },
   "outputs": [
    {
     "name": "stdout",
     "output_type": "stream",
     "text": [
      "训练数据未特征筛选维度 (60000, 228)\n",
      "训练数据特征筛选维度后 (60000, 20)\n",
      "No Select Accuracy: 0.939417 (+/- 0.000000)\n",
      "Features Select Accuracy: 0.939417 (+/- 0.000000)\n"
     ]
    }
   ],
   "source": [
    "from sklearn.feature_selection import SelectKBest\r\n",
    "# from sklearn.feature_selection import chi2\r\n",
    "from sklearn.feature_selection import mutual_info_classif\r\n",
    "\r\n",
    "sel = SelectKBest(mutual_info_classif, k=20)\r\n",
    "sel = sel.fit(train, target)\r\n",
    "train_sel = sel.transform(train)\r\n",
    "test_sel = sel.transform(test)\r\n",
    "print('训练数据未特征筛选维度', train.shape)\r\n",
    "print('训练数据特征筛选维度后', train_sel.shape)\r\n",
    "\r\n",
    "\r\n",
    "feature_selection(train, train_sel, target)"
   ]
  },
  {
   "cell_type": "markdown",
   "metadata": {
    "collapsed": false
   },
   "source": [
    "## 递归功能消除\n",
    "选定模型拟合，进行递归拟合，每次把评分低得特征去除"
   ]
  },
  {
   "cell_type": "code",
   "execution_count": null,
   "metadata": {
    "collapsed": true
   },
   "outputs": [
    {
     "name": "stdout",
     "output_type": "stream",
     "text": [
      "训练数据未特征筛选维度 (10000, 228)\n",
      "训练数据特征筛选维度后 (10000, 1)\n",
      "No Select Accuracy: 0.936500 (+/- 0.000000)\n",
      "Features Select Accuracy: 0.936400 (+/- 0.000400)\n"
     ]
    }
   ],
   "source": [
    "from sklearn.feature_selection import RFECV\r\n",
    "from sklearn.ensemble import RandomForestClassifier\r\n",
    "\r\n",
    "clf = RandomForestClassifier(n_estimators=10, max_depth=2, random_state=0, n_jobs=-1)\r\n",
    "selector = RFECV(clf, step=1, cv=2)\r\n",
    "selector = selector.fit(train, target)\r\n",
    "# print(selector.support_)\r\n",
    "# print(selector.ranking_)\r\n",
    "\r\n",
    "train_sel = selector.transform(train)\r\n",
    "test_sel = sel.transform(test)\r\n",
    "print('训练数据未特征筛选维度', train.shape)\r\n",
    "print('训练数据特征筛选维度后', train_sel.shape)\r\n",
    "\r\n",
    "\r\n",
    "feature_selection(train, train_sel, target)"
   ]
  },
  {
   "cell_type": "markdown",
   "metadata": {
    "collapsed": false
   },
   "source": [
    "## 使用模型选择特征\n",
    "使用LR拟合的参数进行变量选择（L2范数进行特征选择）\n",
    "LR模型采用拟合参数形式进行变量选择，筛选对回归目标影响大的"
   ]
  },
  {
   "cell_type": "code",
   "execution_count": null,
   "metadata": {
    "collapsed": true
   },
   "outputs": [
    {
     "name": "stdout",
     "output_type": "stream",
     "text": [
      "训练数据未特征筛选维度 (10000, 228)\n",
      "训练数据特征筛选维度后 (10000, 18)\n",
      "No Select Accuracy: 0.936500 (+/- 0.000000)\n",
      "Features Select Accuracy: 0.936500 (+/- 0.000000)\n"
     ]
    }
   ],
   "source": [
    "from sklearn.feature_selection import SelectFromModel\r\n",
    "from sklearn.linear_model import LogisticRegression\r\n",
    "from sklearn.preprocessing import Normalizer\r\n",
    "\r\n",
    "normalizer = Normalizer()\r\n",
    "normalizer = normalizer.fit(train)  \r\n",
    "\r\n",
    "train_norm = normalizer.transform(train)                            \r\n",
    "test_norm = normalizer.transform(test)\r\n",
    "\r\n",
    "LR = LogisticRegression(penalty='l2',C=5)\r\n",
    "LR = LR.fit(train_norm, target)\r\n",
    "model = SelectFromModel(LR, prefit=True)\r\n",
    "train_sel = model.transform(train)\r\n",
    "test_sel = model.transform(test)\r\n",
    "print('训练数据未特征筛选维度', train.shape)\r\n",
    "print('训练数据特征筛选维度后', train_sel.shape)\r\n",
    "\r\n",
    "feature_selection(train, train_sel, target)"
   ]
  },
  {
   "cell_type": "code",
   "execution_count": null,
   "metadata": {
    "collapsed": true
   },
   "outputs": [
    {
     "data": {
      "text/plain": [
       "array([ 4.98544394e-01,  1.55039652e-03, -2.33976901e-02,  6.75208333e-01,\n",
       "       -1.53530096e+00, -2.09861614e-01, -1.48231070e+00,  1.56222072e+00,\n",
       "        3.18280309e-01, -9.46221957e-03])"
      ]
     },
     "execution_count": null,
     "metadata": {},
     "output_type": "execute_result"
    }
   ],
   "source": [
    "LR.coef_[0][:10]"
   ]
  },
  {
   "cell_type": "markdown",
   "metadata": {
    "collapsed": false
   },
   "source": [
    "## 使用LR拟合的参数进行变量选择（L1范数进行特征选择）"
   ]
  },
  {
   "cell_type": "code",
   "execution_count": null,
   "metadata": {
    "collapsed": true
   },
   "outputs": [
    {
     "name": "stdout",
     "output_type": "stream",
     "text": [
      "训练数据未特征筛选维度 (10000, 228)\n",
      "训练数据特征筛选维度后 (10000, 8)\n",
      "No Select Accuracy: 0.936500 (+/- 0.000000)\n",
      "Features Select Accuracy: 0.936500 (+/- 0.000000)\n"
     ]
    }
   ],
   "source": [
    "from sklearn.feature_selection import SelectFromModel\r\n",
    "from sklearn.linear_model import LogisticRegression\r\n",
    "from sklearn.preprocessing import Normalizer\r\n",
    "\r\n",
    "normalizer = Normalizer()\r\n",
    "normalizer = normalizer.fit(train)  \r\n",
    "\r\n",
    "train_norm = normalizer.transform(train)                            \r\n",
    "test_norm = normalizer.transform(test)\r\n",
    "\r\n",
    "LR = LogisticRegression(penalty='l1',C=5, solver=\"liblinear\")\r\n",
    "LR = LR.fit(train_norm, target)\r\n",
    "model = SelectFromModel(LR, prefit=True)\r\n",
    "train_sel = model.transform(train)\r\n",
    "test_sel = model.transform(test)\r\n",
    "print('训练数据未特征筛选维度', train.shape)\r\n",
    "print('训练数据特征筛选维度后', train_sel.shape)\r\n",
    "\r\n",
    "feature_selection(train, train_sel, target)"
   ]
  },
  {
   "cell_type": "markdown",
   "metadata": {
    "collapsed": false
   },
   "source": [
    "## 基于树模型特征选择\n",
    "树模型基于分裂评价标准所计算的总的评分作为依据进行相关排序，然后进行特征筛选"
   ]
  },
  {
   "cell_type": "code",
   "execution_count": null,
   "metadata": {
    "collapsed": true
   },
   "outputs": [
    {
     "name": "stdout",
     "output_type": "stream",
     "text": [
      "训练数据未特征筛选维度 (10000, 228)\n",
      "训练数据特征筛选维度后 (10000, 59)\n",
      "No Select Accuracy: 0.936500 (+/- 0.000000)\n",
      "Features Select Accuracy: 0.936500 (+/- 0.000000)\n"
     ]
    }
   ],
   "source": [
    "from sklearn.ensemble import ExtraTreesClassifier\r\n",
    "from sklearn.feature_selection import SelectFromModel\r\n",
    "\r\n",
    "clf = ExtraTreesClassifier(n_estimators=50)\r\n",
    "clf = clf.fit(train, target)\r\n",
    "\r\n",
    "model = SelectFromModel(clf, prefit=True)\r\n",
    "train_sel = model.transform(train)\r\n",
    "test_sel = model.transform(test)\r\n",
    "print('训练数据未特征筛选维度', train.shape)\r\n",
    "print('训练数据特征筛选维度后', train_sel.shape)\r\n",
    "\r\n",
    "\r\n",
    "feature_selection(train, train_sel, target)"
   ]
  },
  {
   "cell_type": "code",
   "execution_count": null,
   "metadata": {
    "collapsed": true
   },
   "outputs": [
    {
     "data": {
      "text/plain": [
       "array([0.09045384, 0.01895474, 0.00935807, 0.0173462 , 0.01885249,\n",
       "       0.0188275 , 0.01902706, 0.01908818, 0.01904902, 0.00790323])"
      ]
     },
     "execution_count": null,
     "metadata": {},
     "output_type": "execute_result"
    }
   ],
   "source": [
    "clf.feature_importances_[:10]"
   ]
  },
  {
   "cell_type": "markdown",
   "metadata": {
    "collapsed": false
   },
   "source": [
    "## Lgb特征重要性"
   ]
  },
  {
   "cell_type": "code",
   "execution_count": null,
   "metadata": {
    "collapsed": true
   },
   "outputs": [
    {
     "data": {
      "text/html": [
       "<style type='text/css'>\n",
       ".datatable table.frame { margin-bottom: 0; }\n",
       ".datatable table.frame thead { border-bottom: none; }\n",
       ".datatable table.frame tr.coltypes td {  color: #FFFFFF;  line-height: 6px;  padding: 0 0.5em;}\n",
       ".datatable .bool    { background: #DDDD99; }\n",
       ".datatable .object  { background: #565656; }\n",
       ".datatable .int     { background: #5D9E5D; }\n",
       ".datatable .float   { background: #4040CC; }\n",
       ".datatable .str     { background: #CC4040; }\n",
       ".datatable .row_index {  background: var(--jp-border-color3);  border-right: 1px solid var(--jp-border-color0);  color: var(--jp-ui-font-color3);  font-size: 9px;}\n",
       ".datatable .frame tr.coltypes .row_index {  background: var(--jp-border-color0);}\n",
       ".datatable th:nth-child(2) { padding-left: 12px; }\n",
       ".datatable .hellipsis {  color: var(--jp-cell-editor-border-color);}\n",
       ".datatable .vellipsis {  background: var(--jp-layout-color0);  color: var(--jp-cell-editor-border-color);}\n",
       ".datatable .na {  color: var(--jp-cell-editor-border-color);  font-size: 80%;}\n",
       ".datatable .footer { font-size: 9px; }\n",
       ".datatable .frame_dimensions {  background: var(--jp-border-color3);  border-top: 1px solid var(--jp-border-color0);  color: var(--jp-ui-font-color3);  display: inline-block;  opacity: 0.6;  padding: 1px 10px 1px 5px;}\n",
       "</style>\n"
      ],
      "text/plain": [
       "<IPython.core.display.HTML object>"
      ]
     },
     "metadata": {},
     "output_type": "display_data"
    },
    {
     "name": "stdout",
     "output_type": "stream",
     "text": [
      "[LightGBM] [Warning] Auto-choosing col-wise multi-threading, the overhead of testing was 0.081499 seconds.\n",
      "You can set `force_col_wise=true` to remove the overhead.\n",
      "[LightGBM] [Info] Total Bins 15048\n",
      "[LightGBM] [Info] Number of data points in the train set: 6000, number of used features: 127\n",
      "[LightGBM] [Info] Start training from score -0.063472\n",
      "[LightGBM] [Info] Start training from score -2.788718\n",
      "[1]\tvalid_0's multi_logloss: 0.244523\n",
      "Training until validation scores don't improve for 100 rounds\n",
      "[2]\tvalid_0's multi_logloss: 0.244313\n",
      "[3]\tvalid_0's multi_logloss: 0.244104\n",
      "[4]\tvalid_0's multi_logloss: 0.243858\n",
      "[5]\tvalid_0's multi_logloss: 0.243661\n",
      "[6]\tvalid_0's multi_logloss: 0.243527\n",
      "[7]\tvalid_0's multi_logloss: 0.243392\n",
      "[8]\tvalid_0's multi_logloss: 0.243226\n",
      "[9]\tvalid_0's multi_logloss: 0.243146\n",
      "[10]\tvalid_0's multi_logloss: 0.243149\n",
      "[11]\tvalid_0's multi_logloss: 0.243059\n",
      "[12]\tvalid_0's multi_logloss: 0.243043\n",
      "[13]\tvalid_0's multi_logloss: 0.242948\n",
      "[14]\tvalid_0's multi_logloss: 0.242827\n",
      "[15]\tvalid_0's multi_logloss: 0.242774\n",
      "[16]\tvalid_0's multi_logloss: 0.24277\n",
      "[17]\tvalid_0's multi_logloss: 0.242732\n",
      "[18]\tvalid_0's multi_logloss: 0.242635\n",
      "[19]\tvalid_0's multi_logloss: 0.242638\n",
      "[20]\tvalid_0's multi_logloss: 0.242653\n",
      "[21]\tvalid_0's multi_logloss: 0.242629\n",
      "[22]\tvalid_0's multi_logloss: 0.242538\n",
      "[23]\tvalid_0's multi_logloss: 0.242471\n",
      "[24]\tvalid_0's multi_logloss: 0.242491\n",
      "[25]\tvalid_0's multi_logloss: 0.242424\n",
      "[26]\tvalid_0's multi_logloss: 0.242405\n",
      "[27]\tvalid_0's multi_logloss: 0.242432\n",
      "[28]\tvalid_0's multi_logloss: 0.242397\n",
      "[29]\tvalid_0's multi_logloss: 0.242249\n",
      "[30]\tvalid_0's multi_logloss: 0.242157\n",
      "[31]\tvalid_0's multi_logloss: 0.242127\n",
      "[32]\tvalid_0's multi_logloss: 0.242103\n",
      "[33]\tvalid_0's multi_logloss: 0.242088\n",
      "[34]\tvalid_0's multi_logloss: 0.242053\n",
      "[35]\tvalid_0's multi_logloss: 0.242076\n",
      "[36]\tvalid_0's multi_logloss: 0.242088\n",
      "[37]\tvalid_0's multi_logloss: 0.242113\n",
      "[38]\tvalid_0's multi_logloss: 0.242168\n",
      "[39]\tvalid_0's multi_logloss: 0.242143\n",
      "[40]\tvalid_0's multi_logloss: 0.242126\n",
      "[41]\tvalid_0's multi_logloss: 0.242092\n",
      "[42]\tvalid_0's multi_logloss: 0.24215\n",
      "[43]\tvalid_0's multi_logloss: 0.242174\n",
      "[44]\tvalid_0's multi_logloss: 0.242188\n",
      "[45]\tvalid_0's multi_logloss: 0.242225\n",
      "[46]\tvalid_0's multi_logloss: 0.242207\n",
      "[47]\tvalid_0's multi_logloss: 0.242354\n",
      "[48]\tvalid_0's multi_logloss: 0.242361\n",
      "[49]\tvalid_0's multi_logloss: 0.242422\n",
      "[50]\tvalid_0's multi_logloss: 0.242532\n",
      "[51]\tvalid_0's multi_logloss: 0.24262\n",
      "[52]\tvalid_0's multi_logloss: 0.242707\n",
      "[53]\tvalid_0's multi_logloss: 0.24274\n",
      "[54]\tvalid_0's multi_logloss: 0.242825\n",
      "[55]\tvalid_0's multi_logloss: 0.242894\n",
      "[56]\tvalid_0's multi_logloss: 0.242913\n",
      "[57]\tvalid_0's multi_logloss: 0.242978\n",
      "[58]\tvalid_0's multi_logloss: 0.242959\n",
      "[59]\tvalid_0's multi_logloss: 0.243065\n",
      "[60]\tvalid_0's multi_logloss: 0.243125\n",
      "[61]\tvalid_0's multi_logloss: 0.243164\n",
      "[62]\tvalid_0's multi_logloss: 0.243231\n",
      "[63]\tvalid_0's multi_logloss: 0.243274\n",
      "[64]\tvalid_0's multi_logloss: 0.243286\n",
      "[65]\tvalid_0's multi_logloss: 0.243272\n",
      "[66]\tvalid_0's multi_logloss: 0.243329\n",
      "[67]\tvalid_0's multi_logloss: 0.243372\n",
      "[68]\tvalid_0's multi_logloss: 0.243404\n",
      "[69]\tvalid_0's multi_logloss: 0.243461\n",
      "[70]\tvalid_0's multi_logloss: 0.243565\n",
      "[71]\tvalid_0's multi_logloss: 0.243585\n",
      "[72]\tvalid_0's multi_logloss: 0.243656\n",
      "[73]\tvalid_0's multi_logloss: 0.243664\n",
      "[74]\tvalid_0's multi_logloss: 0.243729\n",
      "[75]\tvalid_0's multi_logloss: 0.243734\n",
      "[76]\tvalid_0's multi_logloss: 0.243869\n",
      "[77]\tvalid_0's multi_logloss: 0.244014\n",
      "[78]\tvalid_0's multi_logloss: 0.244114\n",
      "[79]\tvalid_0's multi_logloss: 0.24422\n",
      "[80]\tvalid_0's multi_logloss: 0.244287\n",
      "[81]\tvalid_0's multi_logloss: 0.244342\n",
      "[82]\tvalid_0's multi_logloss: 0.244339\n",
      "[83]\tvalid_0's multi_logloss: 0.24441\n",
      "[84]\tvalid_0's multi_logloss: 0.244429\n",
      "[85]\tvalid_0's multi_logloss: 0.2445\n",
      "[86]\tvalid_0's multi_logloss: 0.244556\n",
      "[87]\tvalid_0's multi_logloss: 0.244598\n",
      "[88]\tvalid_0's multi_logloss: 0.244643\n",
      "[89]\tvalid_0's multi_logloss: 0.244726\n",
      "[90]\tvalid_0's multi_logloss: 0.244778\n",
      "[91]\tvalid_0's multi_logloss: 0.244836\n",
      "[92]\tvalid_0's multi_logloss: 0.244933\n",
      "[93]\tvalid_0's multi_logloss: 0.244966\n",
      "[94]\tvalid_0's multi_logloss: 0.245037\n",
      "[95]\tvalid_0's multi_logloss: 0.245126\n",
      "[96]\tvalid_0's multi_logloss: 0.245229\n",
      "[97]\tvalid_0's multi_logloss: 0.24528\n",
      "[98]\tvalid_0's multi_logloss: 0.24539\n",
      "[99]\tvalid_0's multi_logloss: 0.24554\n",
      "[100]\tvalid_0's multi_logloss: 0.245601\n",
      "[101]\tvalid_0's multi_logloss: 0.245607\n",
      "[102]\tvalid_0's multi_logloss: 0.245697\n",
      "[103]\tvalid_0's multi_logloss: 0.245827\n",
      "[104]\tvalid_0's multi_logloss: 0.245981\n",
      "[105]\tvalid_0's multi_logloss: 0.246094\n",
      "[106]\tvalid_0's multi_logloss: 0.246229\n",
      "[107]\tvalid_0's multi_logloss: 0.246248\n",
      "[108]\tvalid_0's multi_logloss: 0.246285\n",
      "[109]\tvalid_0's multi_logloss: 0.246361\n",
      "[110]\tvalid_0's multi_logloss: 0.246457\n",
      "[111]\tvalid_0's multi_logloss: 0.246554\n",
      "[112]\tvalid_0's multi_logloss: 0.246581\n",
      "[113]\tvalid_0's multi_logloss: 0.246627\n",
      "[114]\tvalid_0's multi_logloss: 0.246673\n",
      "[115]\tvalid_0's multi_logloss: 0.24682\n",
      "[116]\tvalid_0's multi_logloss: 0.246944\n",
      "[117]\tvalid_0's multi_logloss: 0.247071\n",
      "[118]\tvalid_0's multi_logloss: 0.247182\n",
      "[119]\tvalid_0's multi_logloss: 0.24729\n",
      "[120]\tvalid_0's multi_logloss: 0.24741\n",
      "[121]\tvalid_0's multi_logloss: 0.247486\n",
      "[122]\tvalid_0's multi_logloss: 0.247553\n",
      "[123]\tvalid_0's multi_logloss: 0.247661\n",
      "[124]\tvalid_0's multi_logloss: 0.247647\n",
      "[125]\tvalid_0's multi_logloss: 0.247702\n",
      "[126]\tvalid_0's multi_logloss: 0.247771\n",
      "[127]\tvalid_0's multi_logloss: 0.247865\n",
      "[128]\tvalid_0's multi_logloss: 0.248005\n",
      "[129]\tvalid_0's multi_logloss: 0.248073\n",
      "[130]\tvalid_0's multi_logloss: 0.248211\n",
      "[131]\tvalid_0's multi_logloss: 0.248268\n",
      "[132]\tvalid_0's multi_logloss: 0.248356\n",
      "[133]\tvalid_0's multi_logloss: 0.248485\n",
      "[134]\tvalid_0's multi_logloss: 0.248572\n",
      "Early stopping, best iteration is:\n",
      "[34]\tvalid_0's multi_logloss: 0.242053\n"
     ]
    }
   ],
   "source": [
    "import lightgbm\r\n",
    "from sklearn.model_selection import train_test_split\r\n",
    "\r\n",
    "X_train, X_test, y_train, y_test = train_test_split(train, target, test_size=0.4, random_state=0)\r\n",
    "\r\n",
    "clf = lightgbm\r\n",
    "\r\n",
    "train_matrix = clf.Dataset(X_train, label=y_train)\r\n",
    "test_matrix = clf.Dataset(X_test, label=y_test)\r\n",
    "params = {\r\n",
    "          'boosting_type': 'gbdt',\r\n",
    "          'objective': 'multiclass',\r\n",
    "          'metric': 'multi_logloss',\r\n",
    "          'min_child_weight': 1.5,\r\n",
    "          'num_leaves': 2**5,\r\n",
    "          'lambda_l2': 10,\r\n",
    "          'subsample': 0.7,\r\n",
    "          'feature_fraction': 0.7,\r\n",
    "          'feature_fraction_bynode': 0.7,\r\n",
    "          'learning_rate': 0.03,\r\n",
    "          'seed': 42,\r\n",
    "          \"num_class\": 2,\r\n",
    "          }\r\n",
    "num_round = 10000\r\n",
    "early_stopping_rounds = 100\r\n",
    "model = clf.train(params, \r\n",
    "                  train_matrix,\r\n",
    "                  num_round,\r\n",
    "                  valid_sets=test_matrix,\r\n",
    "                  early_stopping_rounds=early_stopping_rounds)"
   ]
  },
  {
   "cell_type": "code",
   "execution_count": null,
   "metadata": {
    "collapsed": true
   },
   "outputs": [],
   "source": [
    "def lgb_transform(train, test, model, topK):\r\n",
    "    train_df = pd.DataFrame(train)\r\n",
    "    train_df.columns = range(train.shape[1])\r\n",
    "    \r\n",
    "    test_df = pd.DataFrame(test)\r\n",
    "    test_df.columns = range(test.shape[1])\r\n",
    "    \r\n",
    "    features_import = pd.DataFrame()\r\n",
    "    features_import['importance'] = model.feature_importance()\r\n",
    "    features_import['col'] = range(train.shape[1])\r\n",
    "    \r\n",
    "    features_import = features_import.sort_values(['importance'],ascending=0).head(topK)\r\n",
    "    sel_col = list(features_import.col)\r\n",
    "    \r\n",
    "    train_sel = train_df[sel_col]\r\n",
    "    test_sel = test_df[sel_col]\r\n",
    "    return train_sel, test_sel"
   ]
  },
  {
   "cell_type": "code",
   "execution_count": null,
   "metadata": {
    "collapsed": true
   },
   "outputs": [
    {
     "name": "stdout",
     "output_type": "stream",
     "text": [
      "训练数据未特征筛选维度 (10000, 228)\n",
      "训练数据特征筛选维度后 (10000, 20)\n"
     ]
    }
   ],
   "source": [
    "train_sel, test_sel = lgb_transform(train, test, model, 20)\r\n",
    "print('训练数据未特征筛选维度', train.shape)\r\n",
    "print('训练数据特征筛选维度后', train_sel.shape)"
   ]
  },
  {
   "cell_type": "code",
   "execution_count": null,
   "metadata": {
    "collapsed": false
   },
   "outputs": [
    {
     "name": "stdout",
     "output_type": "stream",
     "text": [
      "No Select Accuracy: 0.936500 (+/- 0.000000)\n",
      "Features Select Accuracy: 0.936500 (+/- 0.000000)\n"
     ]
    }
   ],
   "source": [
    "feature_selection(train, train_sel, target)"
   ]
  },
  {
   "cell_type": "code",
   "execution_count": null,
   "metadata": {
    "collapsed": true
   },
   "outputs": [
    {
     "data": {
      "text/html": [
       "<div>\n",
       "<style scoped>\n",
       "    .dataframe tbody tr th:only-of-type {\n",
       "        vertical-align: middle;\n",
       "    }\n",
       "\n",
       "    .dataframe tbody tr th {\n",
       "        vertical-align: top;\n",
       "    }\n",
       "\n",
       "    .dataframe thead th {\n",
       "        text-align: right;\n",
       "    }\n",
       "</style>\n",
       "<table border=\"1\" class=\"dataframe\">\n",
       "  <thead>\n",
       "    <tr style=\"text-align: right;\">\n",
       "      <th></th>\n",
       "      <th>importance</th>\n",
       "      <th>col</th>\n",
       "    </tr>\n",
       "  </thead>\n",
       "  <tbody>\n",
       "    <tr>\n",
       "      <th>0</th>\n",
       "      <td>156</td>\n",
       "      <td>0</td>\n",
       "    </tr>\n",
       "    <tr>\n",
       "      <th>14</th>\n",
       "      <td>155</td>\n",
       "      <td>14</td>\n",
       "    </tr>\n",
       "    <tr>\n",
       "      <th>227</th>\n",
       "      <td>150</td>\n",
       "      <td>227</td>\n",
       "    </tr>\n",
       "    <tr>\n",
       "      <th>16</th>\n",
       "      <td>93</td>\n",
       "      <td>16</td>\n",
       "    </tr>\n",
       "    <tr>\n",
       "      <th>15</th>\n",
       "      <td>87</td>\n",
       "      <td>15</td>\n",
       "    </tr>\n",
       "    <tr>\n",
       "      <th>...</th>\n",
       "      <td>...</td>\n",
       "      <td>...</td>\n",
       "    </tr>\n",
       "    <tr>\n",
       "      <th>52</th>\n",
       "      <td>1</td>\n",
       "      <td>52</td>\n",
       "    </tr>\n",
       "    <tr>\n",
       "      <th>74</th>\n",
       "      <td>1</td>\n",
       "      <td>74</td>\n",
       "    </tr>\n",
       "    <tr>\n",
       "      <th>75</th>\n",
       "      <td>1</td>\n",
       "      <td>75</td>\n",
       "    </tr>\n",
       "    <tr>\n",
       "      <th>60</th>\n",
       "      <td>1</td>\n",
       "      <td>60</td>\n",
       "    </tr>\n",
       "    <tr>\n",
       "      <th>66</th>\n",
       "      <td>1</td>\n",
       "      <td>66</td>\n",
       "    </tr>\n",
       "  </tbody>\n",
       "</table>\n",
       "<p>106 rows × 2 columns</p>\n",
       "</div>"
      ],
      "text/plain": [
       "     importance  col\n",
       "0           156    0\n",
       "14          155   14\n",
       "227         150  227\n",
       "16           93   16\n",
       "15           87   15\n",
       "..          ...  ...\n",
       "52            1   52\n",
       "74            1   74\n",
       "75            1   75\n",
       "60            1   60\n",
       "66            1   66\n",
       "\n",
       "[106 rows x 2 columns]"
      ]
     },
     "execution_count": null,
     "metadata": {},
     "output_type": "execute_result"
    }
   ],
   "source": [
    "features_import = pd.DataFrame()\r\n",
    "\r\n",
    "features_import['importance'] = model.feature_importance()\r\n",
    "features_import['col'] = range(train.shape[1])\r\n",
    "\r\n",
    "features_import = features_import.sort_values(['importance'],ascending=0)\r\n",
    "\r\n",
    "features_import[features_import['importance']>0]"
   ]
  },
  {
   "cell_type": "markdown",
   "metadata": {
    "collapsed": false
   },
   "source": [
    "# 训练模型\n",
    "\n",
    "使用 lgb 选择feature结果"
   ]
  },
  {
   "cell_type": "code",
   "execution_count": null,
   "metadata": {
    "collapsed": false
   },
   "outputs": [
    {
     "name": "stdout",
     "output_type": "stream",
     "text": [
      "Memory usage after optimization is: 26.87 MB\n",
      "Decreased by 76.3%\n",
      "Memory usage after optimization is: 26.43 MB\n",
      "Decreased by 76.3%\n"
     ]
    }
   ],
   "source": [
    "train_data = pd.read_csv('train1.csv')\r\n",
    "test_data = pd.read_csv('test1.csv')\r\n",
    "\r\n",
    "train_data = reduce_mem_usage(train_data)\r\n",
    "test_data = reduce_mem_usage(test_data)"
   ]
  },
  {
   "cell_type": "code",
   "execution_count": null,
   "metadata": {
    "collapsed": false
   },
   "outputs": [],
   "source": [
    "features_columns = [col for col in train_data.columns if col not in ['user_id','label']]\r\n",
    "train = train_data[features_columns].values\r\n",
    "test = test_data[features_columns].values\r\n",
    "target =train_data['label'].values"
   ]
  },
  {
   "cell_type": "code",
   "execution_count": null,
   "metadata": {
    "collapsed": false
   },
   "outputs": [
    {
     "data": {
      "text/plain": [
       "(260864, 55)"
      ]
     },
     "execution_count": null,
     "metadata": {},
     "output_type": "execute_result"
    }
   ],
   "source": [
    "train.shape"
   ]
  },
  {
   "cell_type": "code",
   "execution_count": null,
   "metadata": {
    "collapsed": false
   },
   "outputs": [
    {
     "data": {
      "text/plain": [
       "(261477, 55)"
      ]
     },
     "execution_count": null,
     "metadata": {},
     "output_type": "execute_result"
    }
   ],
   "source": [
    "test.shape"
   ]
  },
  {
   "cell_type": "code",
   "execution_count": null,
   "metadata": {
    "collapsed": false
   },
   "outputs": [],
   "source": [
    "# train = train[:, features_import[features_import['importance']>0]['col']]\r\n",
    "# test = test[:, features_import[features_import['importance']>0]['col']]"
   ]
  },
  {
   "cell_type": "markdown",
   "metadata": {
    "collapsed": false
   },
   "source": [
    "### 超参搜索"
   ]
  },
  {
   "cell_type": "code",
   "execution_count": null,
   "metadata": {
    "collapsed": false
   },
   "outputs": [],
   "source": [
    "from sklearn.model_selection import train_test_split\r\n",
    "from sklearn.model_selection import GridSearchCV, RandomizedSearchCV\r\n",
    "from sklearn.metrics import classification_report\r\n",
    "from sklearn.ensemble import RandomForestClassifier\r\n",
    "\r\n",
    "\r\n",
    "# Split the dataset in two equal parts\r\n",
    "# X_train, X_test, y_train, y_test = train_test_split(train_small, target_small, test_size=0.2, random_state=50)\r\n",
    "X_train, X_test, y_train, y_test = train_test_split(train, target, test_size=0.2, random_state=50)"
   ]
  },
  {
   "cell_type": "code",
   "execution_count": null,
   "metadata": {
    "collapsed": false
   },
   "outputs": [],
   "source": [
    "n_samples = 60000\r\n",
    "train_small = X_train[:n_samples, :]\r\n",
    "target_small = y_train[:n_samples]\r\n",
    "valid_small = X_test[:n_samples // 2]\r\n",
    "y_valid_small = y_test[:n_samples // 2]"
   ]
  },
  {
   "cell_type": "markdown",
   "metadata": {
    "collapsed": false
   },
   "source": [
    "#### LGB搜索"
   ]
  },
  {
   "cell_type": "code",
   "execution_count": null,
   "metadata": {
    "collapsed": false
   },
   "outputs": [],
   "source": [
    "# !pip install hyperopt"
   ]
  },
  {
   "cell_type": "code",
   "execution_count": null,
   "metadata": {
    "collapsed": false
   },
   "outputs": [],
   "source": [
    "from sklearn.metrics import roc_auc_score\r\n",
    "import lightgbm as lgb\r\n",
    "import ast\r\n",
    "import csv\r\n",
    "from hyperopt import STATUS_OK\r\n",
    "from timeit import default_timer as timer\r\n",
    "import warnings\r\n",
    "warnings.filterwarnings(\"ignore\")\r\n",
    "import csv\r\n",
    "from hyperopt import tpe\r\n",
    "from hyperopt import fmin\r\n",
    "from hyperopt import Trials\r\n",
    "from hyperopt import hp\r\n",
    "from hyperopt.pyll.stochastic import sample\r\n",
    "\r\n",
    "\r\n",
    "N_FOLDS = 3\r\n",
    "\r\n",
    "model = lgb.LGBMClassifier(objective='binary',\r\n",
    "                            metrics='auc',\r\n",
    "                            random_state=50,\r\n",
    "                            verbose=-1)\r\n",
    "\r\n",
    "# Training set\r\n",
    "# train_set = lgb.Dataset(train, label = target)\r\n",
    "train_set = lgb.Dataset(train_small, label = target_small)\r\n",
    "valid_set = lgb.Dataset(valid_small, label = y_valid_small)"
   ]
  },
  {
   "cell_type": "code",
   "execution_count": null,
   "metadata": {
    "collapsed": false
   },
   "outputs": [
    {
     "name": "stdout",
     "output_type": "stream",
     "text": [
      "The maximium ROC AUC in cross validation was 0.70421 with std of 0.00427.\n",
      "The ideal number of iterations was 27.\n",
      "The baseline model scores 0.70161 ROC AUC on the test set.\n"
     ]
    }
   ],
   "source": [
    "# Default hyperparamters\r\n",
    "hyperparameters = model.get_params()\r\n",
    "\r\n",
    "# Using early stopping to determine number of estimators.\r\n",
    "del hyperparameters['n_estimators']\r\n",
    "\r\n",
    "# Perform cross validation with early stopping\r\n",
    "cv_results = lgb.cv(hyperparameters, train_set, num_boost_round = 10000, nfold = N_FOLDS, metrics = 'auc', \r\n",
    "           early_stopping_rounds = 100, verbose_eval = False, seed = 42)\r\n",
    "\r\n",
    "# Highest score\r\n",
    "best = cv_results['auc-mean'][-1]\r\n",
    "\r\n",
    "# Standard deviation of best score\r\n",
    "best_std = cv_results['auc-stdv'][-1]\r\n",
    "\r\n",
    "print('The maximium ROC AUC in cross validation was {:.5f} with std of {:.5f}.'.format(best, best_std))\r\n",
    "print('The ideal number of iterations was {}.'.format(len(cv_results['auc-mean'])))\r\n",
    "\r\n",
    "\r\n",
    "\r\n",
    "# Optimal number of esimators found in cv\r\n",
    "model.n_estimators = len(cv_results['auc-mean'])\r\n",
    "\r\n",
    "# Train and make predicions with model Baseline\r\n",
    "model.fit(X_train, y_train)\r\n",
    "preds = model.predict_proba(X_test)[:, 1]\r\n",
    "baseline_auc = roc_auc_score(y_test, preds)\r\n",
    "\r\n",
    "print('The baseline model scores {:.5f} ROC AUC on the test set.'.format(baseline_auc))"
   ]
  },
  {
   "cell_type": "code",
   "execution_count": null,
   "metadata": {
    "collapsed": false
   },
   "outputs": [],
   "source": [
    "def objective(hyperparameters):\r\n",
    "    \"\"\"Objective function for Gradient Boosting Machine Hyperparameter Optimization.\r\n",
    "       Writes a new line to `outfile` on every iteration\"\"\"\r\n",
    "    \r\n",
    "    # Keep track of evals\r\n",
    "    global ITERATION\r\n",
    "    ITERATION += 1\r\n",
    "    \r\n",
    "    # Using early stopping to find number of trees trained\r\n",
    "    if 'n_estimators' in hyperparameters:\r\n",
    "        del hyperparameters['n_estimators']\r\n",
    "    \r\n",
    "    if not isinstance(hyperparameters['boosting_type'], str):\r\n",
    "        # Retrieve the subsample\r\n",
    "        subsample = hyperparameters['boosting_type'].get('subsample', 1.0)\r\n",
    "        num_boost_round = hyperparameters['boosting_type'].get('num_boost_round', 100)\r\n",
    "        \r\n",
    "        # Extract the boosting type and subsample to top level keys\r\n",
    "        hyperparameters['boosting_type'] = hyperparameters['boosting_type']['boosting_type']\r\n",
    "        hyperparameters['subsample'] = subsample\r\n",
    "        hyperparameters['num_boost_round'] = num_boost_round\r\n",
    "    \r\n",
    "    # Make sure parameters that need to be integers are integers\r\n",
    "    for parameter_name in ['num_leaves', 'subsample_for_bin', 'min_child_samples', 'max_depth', 'bagging_freq']:\r\n",
    "        if parameter_name in hyperparameters:\r\n",
    "            hyperparameters[parameter_name] = int(hyperparameters[parameter_name])\r\n",
    "        else:\r\n",
    "            continue\r\n",
    "\r\n",
    "    # if 'min_child_samples' in hyperparameters or 'min_data_in_leaf' in hyperparameters:\r\n",
    "    #     hyperparameters['feature_pre_filter'] = False\r\n",
    "\r\n",
    "    start = timer()\r\n",
    "\r\n",
    "    # Perform n_folds cross validation\r\n",
    "    cv_results = lgb.cv(hyperparameters, train_set, nfold = N_FOLDS, \r\n",
    "                        early_stopping_rounds = 50, metrics = 'auc', seed = 50)\r\n",
    "    # gbm = lgb.train(hyperparameters,\r\n",
    "    #                 train_set,\r\n",
    "    #                 valid_sets=valid_set,\r\n",
    "    #                 verbose_eval=False,\r\n",
    "    #                 early_stopping_rounds=100)\r\n",
    "\r\n",
    "    run_time = timer() - start\r\n",
    "    \r\n",
    "    # Extract the best score\r\n",
    "    best_score = cv_results['auc-mean'][-1]\r\n",
    "    # pred_y = gbm.predict(valid_small, num_iteration=gbm.best_iteration)\r\n",
    "    # best_score = roc_auc_score(y_valid_small, pred_y)\r\n",
    "    \r\n",
    "    # Loss must be minimized\r\n",
    "    loss = 1 - best_score\r\n",
    "    \r\n",
    "    # Boosting rounds that returned the highest cv score\r\n",
    "    n_estimators = len(cv_results['auc-mean'])\r\n",
    "    \r\n",
    "    # Add the number of estimators to the hyperparameters\r\n",
    "    hyperparameters['n_estimators'] = n_estimators\r\n",
    "\r\n",
    "    # Write to the csv file ('a' means append)\r\n",
    "    of_connection = open(OUT_FILE, 'a')\r\n",
    "    writer = csv.writer(of_connection)\r\n",
    "    writer.writerow([loss, hyperparameters, ITERATION, run_time, best_score])\r\n",
    "    of_connection.close()\r\n",
    "\r\n",
    "    # Dictionary with information for evaluation\r\n",
    "    return {'loss': loss, 'hyperparameters': hyperparameters, 'iteration': ITERATION,\r\n",
    "            'train_time': run_time, 'status': STATUS_OK}"
   ]
  },
  {
   "cell_type": "code",
   "execution_count": null,
   "metadata": {
    "collapsed": true
   },
   "outputs": [],
   "source": [
    "def evaluate(results, name):\r\n",
    "    \"\"\"Evaluate model on test data using hyperparameters in results\r\n",
    "       Return dataframe of hyperparameters\"\"\"\r\n",
    "    \r\n",
    "    new_results = results.copy()\r\n",
    "    # String to dictionary: csv保存时默认为string，ast.literal_eval将其变为字典\r\n",
    "    new_results['hyperparameters'] = new_results['hyperparameters'].map(ast.literal_eval)\r\n",
    "    \r\n",
    "    # Sort with best values on top\r\n",
    "    new_results = new_results.sort_values('score', ascending = False).reset_index(drop = True)\r\n",
    "    \r\n",
    "    # Print out cross validation high score\r\n",
    "    print('The highest cross validation score from {} was {:.5f} found on iteration {}.'.format(name, new_results.loc[0, 'score'], new_results.loc[0, 'iteration']))\r\n",
    "    \r\n",
    "    # Use best hyperparameters to create a model\r\n",
    "    hyperparameters = new_results.loc[0, 'hyperparameters']\r\n",
    "    model = lgb.LGBMClassifier(**hyperparameters)\r\n",
    "    \r\n",
    "    # Train and make predictions\r\n",
    "    model.fit(train_features, train_labels)\r\n",
    "    preds = model.predict_proba(test_features)[:, 1]\r\n",
    "    \r\n",
    "    print('ROC AUC from {} on test data = {:.5f}.'.format(name, roc_auc_score(test_labels, preds)))\r\n",
    "    \r\n",
    "    # Create dataframe of hyperparameters\r\n",
    "    hyp_df = pd.DataFrame(columns = list(new_results.loc[0, 'hyperparameters'].keys()))\r\n",
    "\r\n",
    "    # Iterate through each set of hyperparameters that were evaluated\r\n",
    "    for i, hyp in enumerate(new_results['hyperparameters']):\r\n",
    "        hyp_df = hyp_df.append(pd.DataFrame(hyp, index = [0]), \r\n",
    "                               ignore_index = True)\r\n",
    "        \r\n",
    "    # Put the iteration and score in the hyperparameter dataframe\r\n",
    "    hyp_df['iteration'] = new_results['iteration']\r\n",
    "    hyp_df['score'] = new_results['score']\r\n",
    "    \r\n",
    "    return hyp_df"
   ]
  },
  {
   "cell_type": "code",
   "execution_count": null,
   "metadata": {
    "collapsed": true
   },
   "outputs": [],
   "source": [
    "# Define the search space\r\n",
    "# space = {\r\n",
    "#     'boosting_type': hp.choice('boosting_type', \r\n",
    "#                                             [{'boosting_type': 'gbdt', 'subsample': hp.uniform('gdbt_subsample', 0.5, 1), 'num_boost_round': 10000}, \r\n",
    "#                                              {'boosting_type': 'dart', 'subsample': hp.uniform('dart_subsample', 0.5, 1), 'num_boost_round': 100},\r\n",
    "#                                              {'boosting_type': 'goss', 'subsample': 1.0, 'num_boost_round': 10000}]),\r\n",
    "#     'num_leaves': hp.quniform('num_leaves', 20, 150, 1),\r\n",
    "#     'learning_rate': hp.loguniform('learning_rate', np.log(0.01), np.log(0.5)),\r\n",
    "#     'subsample_for_bin': hp.quniform('subsample_for_bin', 20000, 300000, 20000),\r\n",
    "#     'min_child_samples': hp.quniform('min_child_samples', 20, 500, 5),\r\n",
    "#     'reg_alpha': hp.uniform('reg_alpha', 0.0, 1.0),\r\n",
    "#     'reg_lambda': hp.uniform('reg_lambda', 0.0, 1.0),\r\n",
    "#     'colsample_bytree': hp.uniform('colsample_by_tree', 0.6, 1.0),\r\n",
    "#     'is_unbalance': hp.choice('is_unbalance', [True, False]),\r\n",
    "# }"
   ]
  },
  {
   "cell_type": "code",
   "execution_count": null,
   "metadata": {
    "collapsed": false
   },
   "outputs": [],
   "source": [
    "# Record results\r\n",
    "trials = Trials()\r\n",
    "\r\n",
    "global  ITERATION\r\n",
    "ITERATION = 0\r\n",
    "MAX_EVALS = 1000\r\n",
    "\r\n",
    "\r\n",
    "# Create a new file and open a connection\r\n",
    "OUT_FILE = 'bayesian_trials_all_1000.csv'\r\n",
    "of_connection = open(OUT_FILE, 'w')\r\n",
    "writer = csv.writer(of_connection)\r\n",
    "\r\n",
    "# Write column names\r\n",
    "headers = ['loss', 'hyperparameters', 'iteration', 'runtime', 'score']\r\n",
    "writer.writerow(headers)\r\n",
    "of_connection.close()\r\n",
    "\r\n",
    "\r\n",
    "space = {\r\n",
    "    'boosting_type': 'gbdt',\r\n",
    "    'num_boost_round': 10000,\r\n",
    "    'verbose':-1,\r\n",
    "    'objective':'binary',\r\n",
    "    'metric':'auc',\r\n",
    "    'max_depth': hp.quniform('max_depth', 6, 11, 1),\r\n",
    "    'num_leaves': hp.quniform('num_leaves', 10, 150, 2),\r\n",
    "    'bagging_fraction': hp.choice('bagging_fraction', [0.7, 0.8, 0.9]),\r\n",
    "    'feature_fraction': hp.choice('feature_fraction', [0.7, 0.8, 0.9]),\r\n",
    "    'bagging_freq': hp.choice('bagging_freq', [4, 6, 8, 10]),\r\n",
    "    'learning_rate': hp.loguniform('learning_rate', np.log(0.01), np.log(0.5)),\r\n",
    "    # 'subsample_for_bin': hp.quniform('subsample_for_bin', 200000, 300000, 50000),\r\n",
    "    # 'min_child_samples': hp.quniform('min_child_samples', 20, 200, 60),\r\n",
    "    'reg_alpha': hp.uniform('reg_alpha', 0.0, 1.0),\r\n",
    "    'reg_lambda': hp.uniform('reg_lambda', 0.0, 1.0),\r\n",
    "    'min_gain_to_split': hp.quniform('min_gain_to_split', 0.0, 0.8, 0.1),\r\n",
    "    'is_unbalance':  True,\r\n",
    "}"
   ]
  },
  {
   "cell_type": "code",
   "execution_count": 24,
   "metadata": {
    "collapsed": false
   },
   "outputs": [
    {
     "name": "stdout",
     "output_type": "stream",
     "text": [
      "                                                        \n",
      "[LightGBM] [Warning] \n",
      "Unknown parameter: silent                               \n",
      "[LightGBM] [Warning]                                    \n",
      "Unknown parameter: importance_type                      \n",
      " 50%|█████     | 504/1000 [6:03:51<5:58:04, 43.32s/trial, best loss: 0.29177322963711816] \n"
     ]
    },
    {
     "ename": "KeyboardInterrupt",
     "evalue": "",
     "output_type": "error",
     "traceback": [
      "\u001b[0;31m---------------------------------------------------------------------------\u001b[0m",
      "\u001b[0;31mKeyboardInterrupt\u001b[0m                         Traceback (most recent call last)",
      "\u001b[0;32m<ipython-input-24-f30ff813fd41>\u001b[0m in \u001b[0;36m<module>\u001b[0;34m\u001b[0m\n\u001b[1;32m      4\u001b[0m             \u001b[0malgo\u001b[0m \u001b[0;34m=\u001b[0m \u001b[0mtpe\u001b[0m\u001b[0;34m.\u001b[0m\u001b[0msuggest\u001b[0m\u001b[0;34m,\u001b[0m\u001b[0;34m\u001b[0m\u001b[0;34m\u001b[0m\u001b[0m\n\u001b[1;32m      5\u001b[0m             \u001b[0mtrials\u001b[0m \u001b[0;34m=\u001b[0m \u001b[0mtrials\u001b[0m\u001b[0;34m,\u001b[0m\u001b[0;34m\u001b[0m\u001b[0;34m\u001b[0m\u001b[0m\n\u001b[0;32m----> 6\u001b[0;31m             max_evals = MAX_EVALS)\n\u001b[0m",
      "\u001b[0;32m/opt/conda/envs/python35-paddle120-env/lib/python3.7/site-packages/hyperopt/fmin.py\u001b[0m in \u001b[0;36mfmin\u001b[0;34m(fn, space, algo, max_evals, timeout, loss_threshold, trials, rstate, allow_trials_fmin, pass_expr_memo_ctrl, catch_eval_exceptions, verbose, return_argmin, points_to_evaluate, max_queue_len, show_progressbar, early_stop_fn, trials_save_file)\u001b[0m\n\u001b[1;32m    520\u001b[0m             \u001b[0mshow_progressbar\u001b[0m\u001b[0;34m=\u001b[0m\u001b[0mshow_progressbar\u001b[0m\u001b[0;34m,\u001b[0m\u001b[0;34m\u001b[0m\u001b[0;34m\u001b[0m\u001b[0m\n\u001b[1;32m    521\u001b[0m             \u001b[0mearly_stop_fn\u001b[0m\u001b[0;34m=\u001b[0m\u001b[0mearly_stop_fn\u001b[0m\u001b[0;34m,\u001b[0m\u001b[0;34m\u001b[0m\u001b[0;34m\u001b[0m\u001b[0m\n\u001b[0;32m--> 522\u001b[0;31m             \u001b[0mtrials_save_file\u001b[0m\u001b[0;34m=\u001b[0m\u001b[0mtrials_save_file\u001b[0m\u001b[0;34m,\u001b[0m\u001b[0;34m\u001b[0m\u001b[0;34m\u001b[0m\u001b[0m\n\u001b[0m\u001b[1;32m    523\u001b[0m         )\n\u001b[1;32m    524\u001b[0m \u001b[0;34m\u001b[0m\u001b[0m\n",
      "\u001b[0;32m/opt/conda/envs/python35-paddle120-env/lib/python3.7/site-packages/hyperopt/base.py\u001b[0m in \u001b[0;36mfmin\u001b[0;34m(self, fn, space, algo, max_evals, timeout, loss_threshold, max_queue_len, rstate, verbose, pass_expr_memo_ctrl, catch_eval_exceptions, return_argmin, show_progressbar, early_stop_fn, trials_save_file)\u001b[0m\n\u001b[1;32m    697\u001b[0m             \u001b[0mshow_progressbar\u001b[0m\u001b[0;34m=\u001b[0m\u001b[0mshow_progressbar\u001b[0m\u001b[0;34m,\u001b[0m\u001b[0;34m\u001b[0m\u001b[0;34m\u001b[0m\u001b[0m\n\u001b[1;32m    698\u001b[0m             \u001b[0mearly_stop_fn\u001b[0m\u001b[0;34m=\u001b[0m\u001b[0mearly_stop_fn\u001b[0m\u001b[0;34m,\u001b[0m\u001b[0;34m\u001b[0m\u001b[0;34m\u001b[0m\u001b[0m\n\u001b[0;32m--> 699\u001b[0;31m             \u001b[0mtrials_save_file\u001b[0m\u001b[0;34m=\u001b[0m\u001b[0mtrials_save_file\u001b[0m\u001b[0;34m,\u001b[0m\u001b[0;34m\u001b[0m\u001b[0;34m\u001b[0m\u001b[0m\n\u001b[0m\u001b[1;32m    700\u001b[0m         )\n\u001b[1;32m    701\u001b[0m \u001b[0;34m\u001b[0m\u001b[0m\n",
      "\u001b[0;32m/opt/conda/envs/python35-paddle120-env/lib/python3.7/site-packages/hyperopt/fmin.py\u001b[0m in \u001b[0;36mfmin\u001b[0;34m(fn, space, algo, max_evals, timeout, loss_threshold, trials, rstate, allow_trials_fmin, pass_expr_memo_ctrl, catch_eval_exceptions, verbose, return_argmin, points_to_evaluate, max_queue_len, show_progressbar, early_stop_fn, trials_save_file)\u001b[0m\n\u001b[1;32m    551\u001b[0m \u001b[0;34m\u001b[0m\u001b[0m\n\u001b[1;32m    552\u001b[0m     \u001b[0;31m# next line is where the fmin is actually executed\u001b[0m\u001b[0;34m\u001b[0m\u001b[0;34m\u001b[0m\u001b[0;34m\u001b[0m\u001b[0m\n\u001b[0;32m--> 553\u001b[0;31m     \u001b[0mrval\u001b[0m\u001b[0;34m.\u001b[0m\u001b[0mexhaust\u001b[0m\u001b[0;34m(\u001b[0m\u001b[0;34m)\u001b[0m\u001b[0;34m\u001b[0m\u001b[0;34m\u001b[0m\u001b[0m\n\u001b[0m\u001b[1;32m    554\u001b[0m \u001b[0;34m\u001b[0m\u001b[0m\n\u001b[1;32m    555\u001b[0m     \u001b[0;32mif\u001b[0m \u001b[0mreturn_argmin\u001b[0m\u001b[0;34m:\u001b[0m\u001b[0;34m\u001b[0m\u001b[0;34m\u001b[0m\u001b[0m\n",
      "\u001b[0;32m/opt/conda/envs/python35-paddle120-env/lib/python3.7/site-packages/hyperopt/fmin.py\u001b[0m in \u001b[0;36mexhaust\u001b[0;34m(self)\u001b[0m\n\u001b[1;32m    354\u001b[0m     \u001b[0;32mdef\u001b[0m \u001b[0mexhaust\u001b[0m\u001b[0;34m(\u001b[0m\u001b[0mself\u001b[0m\u001b[0;34m)\u001b[0m\u001b[0;34m:\u001b[0m\u001b[0;34m\u001b[0m\u001b[0;34m\u001b[0m\u001b[0m\n\u001b[1;32m    355\u001b[0m         \u001b[0mn_done\u001b[0m \u001b[0;34m=\u001b[0m \u001b[0mlen\u001b[0m\u001b[0;34m(\u001b[0m\u001b[0mself\u001b[0m\u001b[0;34m.\u001b[0m\u001b[0mtrials\u001b[0m\u001b[0;34m)\u001b[0m\u001b[0;34m\u001b[0m\u001b[0;34m\u001b[0m\u001b[0m\n\u001b[0;32m--> 356\u001b[0;31m         \u001b[0mself\u001b[0m\u001b[0;34m.\u001b[0m\u001b[0mrun\u001b[0m\u001b[0;34m(\u001b[0m\u001b[0mself\u001b[0m\u001b[0;34m.\u001b[0m\u001b[0mmax_evals\u001b[0m \u001b[0;34m-\u001b[0m \u001b[0mn_done\u001b[0m\u001b[0;34m,\u001b[0m \u001b[0mblock_until_done\u001b[0m\u001b[0;34m=\u001b[0m\u001b[0mself\u001b[0m\u001b[0;34m.\u001b[0m\u001b[0masynchronous\u001b[0m\u001b[0;34m)\u001b[0m\u001b[0;34m\u001b[0m\u001b[0;34m\u001b[0m\u001b[0m\n\u001b[0m\u001b[1;32m    357\u001b[0m         \u001b[0mself\u001b[0m\u001b[0;34m.\u001b[0m\u001b[0mtrials\u001b[0m\u001b[0;34m.\u001b[0m\u001b[0mrefresh\u001b[0m\u001b[0;34m(\u001b[0m\u001b[0;34m)\u001b[0m\u001b[0;34m\u001b[0m\u001b[0;34m\u001b[0m\u001b[0m\n\u001b[1;32m    358\u001b[0m         \u001b[0;32mreturn\u001b[0m \u001b[0mself\u001b[0m\u001b[0;34m\u001b[0m\u001b[0;34m\u001b[0m\u001b[0m\n",
      "\u001b[0;32m/opt/conda/envs/python35-paddle120-env/lib/python3.7/site-packages/hyperopt/fmin.py\u001b[0m in \u001b[0;36mrun\u001b[0;34m(self, N, block_until_done)\u001b[0m\n\u001b[1;32m    290\u001b[0m                 \u001b[0;32melse\u001b[0m\u001b[0;34m:\u001b[0m\u001b[0;34m\u001b[0m\u001b[0;34m\u001b[0m\u001b[0m\n\u001b[1;32m    291\u001b[0m                     \u001b[0;31m# -- loop over trials and do the jobs directly\u001b[0m\u001b[0;34m\u001b[0m\u001b[0;34m\u001b[0m\u001b[0;34m\u001b[0m\u001b[0m\n\u001b[0;32m--> 292\u001b[0;31m                     \u001b[0mself\u001b[0m\u001b[0;34m.\u001b[0m\u001b[0mserial_evaluate\u001b[0m\u001b[0;34m(\u001b[0m\u001b[0;34m)\u001b[0m\u001b[0;34m\u001b[0m\u001b[0;34m\u001b[0m\u001b[0m\n\u001b[0m\u001b[1;32m    293\u001b[0m \u001b[0;34m\u001b[0m\u001b[0m\n\u001b[1;32m    294\u001b[0m                 \u001b[0mself\u001b[0m\u001b[0;34m.\u001b[0m\u001b[0mtrials\u001b[0m\u001b[0;34m.\u001b[0m\u001b[0mrefresh\u001b[0m\u001b[0;34m(\u001b[0m\u001b[0;34m)\u001b[0m\u001b[0;34m\u001b[0m\u001b[0;34m\u001b[0m\u001b[0m\n",
      "\u001b[0;32m/opt/conda/envs/python35-paddle120-env/lib/python3.7/site-packages/hyperopt/fmin.py\u001b[0m in \u001b[0;36mserial_evaluate\u001b[0;34m(self, N)\u001b[0m\n\u001b[1;32m    168\u001b[0m                 \u001b[0mctrl\u001b[0m \u001b[0;34m=\u001b[0m \u001b[0mbase\u001b[0m\u001b[0;34m.\u001b[0m\u001b[0mCtrl\u001b[0m\u001b[0;34m(\u001b[0m\u001b[0mself\u001b[0m\u001b[0;34m.\u001b[0m\u001b[0mtrials\u001b[0m\u001b[0;34m,\u001b[0m \u001b[0mcurrent_trial\u001b[0m\u001b[0;34m=\u001b[0m\u001b[0mtrial\u001b[0m\u001b[0;34m)\u001b[0m\u001b[0;34m\u001b[0m\u001b[0;34m\u001b[0m\u001b[0m\n\u001b[1;32m    169\u001b[0m                 \u001b[0;32mtry\u001b[0m\u001b[0;34m:\u001b[0m\u001b[0;34m\u001b[0m\u001b[0;34m\u001b[0m\u001b[0m\n\u001b[0;32m--> 170\u001b[0;31m                     \u001b[0mresult\u001b[0m \u001b[0;34m=\u001b[0m \u001b[0mself\u001b[0m\u001b[0;34m.\u001b[0m\u001b[0mdomain\u001b[0m\u001b[0;34m.\u001b[0m\u001b[0mevaluate\u001b[0m\u001b[0;34m(\u001b[0m\u001b[0mspec\u001b[0m\u001b[0;34m,\u001b[0m \u001b[0mctrl\u001b[0m\u001b[0;34m)\u001b[0m\u001b[0;34m\u001b[0m\u001b[0;34m\u001b[0m\u001b[0m\n\u001b[0m\u001b[1;32m    171\u001b[0m                 \u001b[0;32mexcept\u001b[0m \u001b[0mException\u001b[0m \u001b[0;32mas\u001b[0m \u001b[0me\u001b[0m\u001b[0;34m:\u001b[0m\u001b[0;34m\u001b[0m\u001b[0;34m\u001b[0m\u001b[0m\n\u001b[1;32m    172\u001b[0m                     \u001b[0mlogger\u001b[0m\u001b[0;34m.\u001b[0m\u001b[0merror\u001b[0m\u001b[0;34m(\u001b[0m\u001b[0;34m\"job exception: %s\"\u001b[0m \u001b[0;34m%\u001b[0m \u001b[0mstr\u001b[0m\u001b[0;34m(\u001b[0m\u001b[0me\u001b[0m\u001b[0;34m)\u001b[0m\u001b[0;34m)\u001b[0m\u001b[0;34m\u001b[0m\u001b[0;34m\u001b[0m\u001b[0m\n",
      "\u001b[0;32m/opt/conda/envs/python35-paddle120-env/lib/python3.7/site-packages/hyperopt/base.py\u001b[0m in \u001b[0;36mevaluate\u001b[0;34m(self, config, ctrl, attach_attachments)\u001b[0m\n\u001b[1;32m    905\u001b[0m                 \u001b[0mprint_node_on_error\u001b[0m\u001b[0;34m=\u001b[0m\u001b[0mself\u001b[0m\u001b[0;34m.\u001b[0m\u001b[0mrec_eval_print_node_on_error\u001b[0m\u001b[0;34m,\u001b[0m\u001b[0;34m\u001b[0m\u001b[0;34m\u001b[0m\u001b[0m\n\u001b[1;32m    906\u001b[0m             )\n\u001b[0;32m--> 907\u001b[0;31m             \u001b[0mrval\u001b[0m \u001b[0;34m=\u001b[0m \u001b[0mself\u001b[0m\u001b[0;34m.\u001b[0m\u001b[0mfn\u001b[0m\u001b[0;34m(\u001b[0m\u001b[0mpyll_rval\u001b[0m\u001b[0;34m)\u001b[0m\u001b[0;34m\u001b[0m\u001b[0;34m\u001b[0m\u001b[0m\n\u001b[0m\u001b[1;32m    908\u001b[0m \u001b[0;34m\u001b[0m\u001b[0m\n\u001b[1;32m    909\u001b[0m         \u001b[0;32mif\u001b[0m \u001b[0misinstance\u001b[0m\u001b[0;34m(\u001b[0m\u001b[0mrval\u001b[0m\u001b[0;34m,\u001b[0m \u001b[0;34m(\u001b[0m\u001b[0mfloat\u001b[0m\u001b[0;34m,\u001b[0m \u001b[0mint\u001b[0m\u001b[0;34m,\u001b[0m \u001b[0mnp\u001b[0m\u001b[0;34m.\u001b[0m\u001b[0mnumber\u001b[0m\u001b[0;34m)\u001b[0m\u001b[0;34m)\u001b[0m\u001b[0;34m:\u001b[0m\u001b[0;34m\u001b[0m\u001b[0;34m\u001b[0m\u001b[0m\n",
      "\u001b[0;32m<ipython-input-22-15002371070e>\u001b[0m in \u001b[0;36mobjective\u001b[0;34m(hyperparameters)\u001b[0m\n\u001b[1;32m     35\u001b[0m     \u001b[0;31m# Perform n_folds cross validation\u001b[0m\u001b[0;34m\u001b[0m\u001b[0;34m\u001b[0m\u001b[0;34m\u001b[0m\u001b[0m\n\u001b[1;32m     36\u001b[0m     cv_results = lgb.cv(hyperparameters, train_set, nfold = N_FOLDS, \n\u001b[0;32m---> 37\u001b[0;31m                         early_stopping_rounds = 50, metrics = 'auc', seed = 50)\n\u001b[0m\u001b[1;32m     38\u001b[0m     \u001b[0;31m# gbm = lgb.train(hyperparameters,\u001b[0m\u001b[0;34m\u001b[0m\u001b[0;34m\u001b[0m\u001b[0;34m\u001b[0m\u001b[0m\n\u001b[1;32m     39\u001b[0m     \u001b[0;31m#                 train_set,\u001b[0m\u001b[0;34m\u001b[0m\u001b[0;34m\u001b[0m\u001b[0;34m\u001b[0m\u001b[0m\n",
      "\u001b[0;32m/opt/conda/envs/python35-paddle120-env/lib/python3.7/site-packages/lightgbm/engine.py\u001b[0m in \u001b[0;36mcv\u001b[0;34m(params, train_set, num_boost_round, folds, nfold, stratified, shuffle, metrics, fobj, feval, init_model, feature_name, categorical_feature, early_stopping_rounds, fpreproc, verbose_eval, show_stdv, seed, callbacks, eval_train_metric, return_cvbooster)\u001b[0m\n\u001b[1;32m    590\u001b[0m                                     \u001b[0mend_iteration\u001b[0m\u001b[0;34m=\u001b[0m\u001b[0mnum_boost_round\u001b[0m\u001b[0;34m,\u001b[0m\u001b[0;34m\u001b[0m\u001b[0;34m\u001b[0m\u001b[0m\n\u001b[1;32m    591\u001b[0m                                     evaluation_result_list=None))\n\u001b[0;32m--> 592\u001b[0;31m         \u001b[0mcvfolds\u001b[0m\u001b[0;34m.\u001b[0m\u001b[0mupdate\u001b[0m\u001b[0;34m(\u001b[0m\u001b[0mfobj\u001b[0m\u001b[0;34m=\u001b[0m\u001b[0mfobj\u001b[0m\u001b[0;34m)\u001b[0m\u001b[0;34m\u001b[0m\u001b[0;34m\u001b[0m\u001b[0m\n\u001b[0m\u001b[1;32m    593\u001b[0m         \u001b[0mres\u001b[0m \u001b[0;34m=\u001b[0m \u001b[0m_agg_cv_result\u001b[0m\u001b[0;34m(\u001b[0m\u001b[0mcvfolds\u001b[0m\u001b[0;34m.\u001b[0m\u001b[0meval_valid\u001b[0m\u001b[0;34m(\u001b[0m\u001b[0mfeval\u001b[0m\u001b[0;34m)\u001b[0m\u001b[0;34m,\u001b[0m \u001b[0meval_train_metric\u001b[0m\u001b[0;34m)\u001b[0m\u001b[0;34m\u001b[0m\u001b[0;34m\u001b[0m\u001b[0m\n\u001b[1;32m    594\u001b[0m         \u001b[0;32mfor\u001b[0m \u001b[0m_\u001b[0m\u001b[0;34m,\u001b[0m \u001b[0mkey\u001b[0m\u001b[0;34m,\u001b[0m \u001b[0mmean\u001b[0m\u001b[0;34m,\u001b[0m \u001b[0m_\u001b[0m\u001b[0;34m,\u001b[0m \u001b[0mstd\u001b[0m \u001b[0;32min\u001b[0m \u001b[0mres\u001b[0m\u001b[0;34m:\u001b[0m\u001b[0;34m\u001b[0m\u001b[0;34m\u001b[0m\u001b[0m\n",
      "\u001b[0;32m/opt/conda/envs/python35-paddle120-env/lib/python3.7/site-packages/lightgbm/engine.py\u001b[0m in \u001b[0;36mhandler_function\u001b[0;34m(*args, **kwargs)\u001b[0m\n\u001b[1;32m    311\u001b[0m             \u001b[0mret\u001b[0m \u001b[0;34m=\u001b[0m \u001b[0;34m[\u001b[0m\u001b[0;34m]\u001b[0m\u001b[0;34m\u001b[0m\u001b[0;34m\u001b[0m\u001b[0m\n\u001b[1;32m    312\u001b[0m             \u001b[0;32mfor\u001b[0m \u001b[0mbooster\u001b[0m \u001b[0;32min\u001b[0m \u001b[0mself\u001b[0m\u001b[0;34m.\u001b[0m\u001b[0mboosters\u001b[0m\u001b[0;34m:\u001b[0m\u001b[0;34m\u001b[0m\u001b[0;34m\u001b[0m\u001b[0m\n\u001b[0;32m--> 313\u001b[0;31m                 \u001b[0mret\u001b[0m\u001b[0;34m.\u001b[0m\u001b[0mappend\u001b[0m\u001b[0;34m(\u001b[0m\u001b[0mgetattr\u001b[0m\u001b[0;34m(\u001b[0m\u001b[0mbooster\u001b[0m\u001b[0;34m,\u001b[0m \u001b[0mname\u001b[0m\u001b[0;34m)\u001b[0m\u001b[0;34m(\u001b[0m\u001b[0;34m*\u001b[0m\u001b[0margs\u001b[0m\u001b[0;34m,\u001b[0m \u001b[0;34m**\u001b[0m\u001b[0mkwargs\u001b[0m\u001b[0;34m)\u001b[0m\u001b[0;34m)\u001b[0m\u001b[0;34m\u001b[0m\u001b[0;34m\u001b[0m\u001b[0m\n\u001b[0m\u001b[1;32m    314\u001b[0m             \u001b[0;32mreturn\u001b[0m \u001b[0mret\u001b[0m\u001b[0;34m\u001b[0m\u001b[0;34m\u001b[0m\u001b[0m\n\u001b[1;32m    315\u001b[0m         \u001b[0;32mreturn\u001b[0m \u001b[0mhandler_function\u001b[0m\u001b[0;34m\u001b[0m\u001b[0;34m\u001b[0m\u001b[0m\n",
      "\u001b[0;32m/opt/conda/envs/python35-paddle120-env/lib/python3.7/site-packages/lightgbm/basic.py\u001b[0m in \u001b[0;36mupdate\u001b[0;34m(self, train_set, fobj)\u001b[0m\n\u001b[1;32m   2458\u001b[0m             _safe_call(_LIB.LGBM_BoosterUpdateOneIter(\n\u001b[1;32m   2459\u001b[0m                 \u001b[0mself\u001b[0m\u001b[0;34m.\u001b[0m\u001b[0mhandle\u001b[0m\u001b[0;34m,\u001b[0m\u001b[0;34m\u001b[0m\u001b[0;34m\u001b[0m\u001b[0m\n\u001b[0;32m-> 2460\u001b[0;31m                 ctypes.byref(is_finished)))\n\u001b[0m\u001b[1;32m   2461\u001b[0m             \u001b[0mself\u001b[0m\u001b[0;34m.\u001b[0m\u001b[0m__is_predicted_cur_iter\u001b[0m \u001b[0;34m=\u001b[0m \u001b[0;34m[\u001b[0m\u001b[0;32mFalse\u001b[0m \u001b[0;32mfor\u001b[0m \u001b[0m_\u001b[0m \u001b[0;32min\u001b[0m \u001b[0mrange_\u001b[0m\u001b[0;34m(\u001b[0m\u001b[0mself\u001b[0m\u001b[0;34m.\u001b[0m\u001b[0m__num_dataset\u001b[0m\u001b[0;34m)\u001b[0m\u001b[0;34m]\u001b[0m\u001b[0;34m\u001b[0m\u001b[0;34m\u001b[0m\u001b[0m\n\u001b[1;32m   2462\u001b[0m             \u001b[0;32mreturn\u001b[0m \u001b[0mis_finished\u001b[0m\u001b[0;34m.\u001b[0m\u001b[0mvalue\u001b[0m \u001b[0;34m==\u001b[0m \u001b[0;36m1\u001b[0m\u001b[0;34m\u001b[0m\u001b[0;34m\u001b[0m\u001b[0m\n",
      "\u001b[0;31mKeyboardInterrupt\u001b[0m: "
     ]
    }
   ],
   "source": [
    "# Run optimization\r\n",
    "best = fmin(fn = objective, \r\n",
    "            space = space, \r\n",
    "            algo = tpe.suggest, \r\n",
    "            trials = trials,\r\n",
    "            max_evals = MAX_EVALS)"
   ]
  },
  {
   "cell_type": "code",
   "execution_count": 25,
   "metadata": {
    "collapsed": false
   },
   "outputs": [
    {
     "data": {
      "text/html": [
       "<div>\n",
       "<style scoped>\n",
       "    .dataframe tbody tr th:only-of-type {\n",
       "        vertical-align: middle;\n",
       "    }\n",
       "\n",
       "    .dataframe tbody tr th {\n",
       "        vertical-align: top;\n",
       "    }\n",
       "\n",
       "    .dataframe thead th {\n",
       "        text-align: right;\n",
       "    }\n",
       "</style>\n",
       "<table border=\"1\" class=\"dataframe\">\n",
       "  <thead>\n",
       "    <tr style=\"text-align: right;\">\n",
       "      <th></th>\n",
       "      <th>index</th>\n",
       "      <th>loss</th>\n",
       "      <th>hyperparameters</th>\n",
       "      <th>iteration</th>\n",
       "      <th>runtime</th>\n",
       "      <th>score</th>\n",
       "    </tr>\n",
       "  </thead>\n",
       "  <tbody>\n",
       "    <tr>\n",
       "      <th>0</th>\n",
       "      <td>424</td>\n",
       "      <td>0.291773</td>\n",
       "      <td>{'bagging_fraction': 0.9, 'bagging_freq': 6, '...</td>\n",
       "      <td>425</td>\n",
       "      <td>71.324136</td>\n",
       "      <td>0.708227</td>\n",
       "    </tr>\n",
       "    <tr>\n",
       "      <th>1</th>\n",
       "      <td>403</td>\n",
       "      <td>0.291777</td>\n",
       "      <td>{'bagging_fraction': 0.9, 'bagging_freq': 6, '...</td>\n",
       "      <td>404</td>\n",
       "      <td>60.631264</td>\n",
       "      <td>0.708223</td>\n",
       "    </tr>\n",
       "    <tr>\n",
       "      <th>2</th>\n",
       "      <td>261</td>\n",
       "      <td>0.291940</td>\n",
       "      <td>{'bagging_fraction': 0.9, 'bagging_freq': 10, ...</td>\n",
       "      <td>262</td>\n",
       "      <td>50.657195</td>\n",
       "      <td>0.708060</td>\n",
       "    </tr>\n",
       "    <tr>\n",
       "      <th>3</th>\n",
       "      <td>421</td>\n",
       "      <td>0.292047</td>\n",
       "      <td>{'bagging_fraction': 0.9, 'bagging_freq': 6, '...</td>\n",
       "      <td>422</td>\n",
       "      <td>48.127995</td>\n",
       "      <td>0.707953</td>\n",
       "    </tr>\n",
       "    <tr>\n",
       "      <th>4</th>\n",
       "      <td>404</td>\n",
       "      <td>0.292078</td>\n",
       "      <td>{'bagging_fraction': 0.9, 'bagging_freq': 6, '...</td>\n",
       "      <td>405</td>\n",
       "      <td>66.496607</td>\n",
       "      <td>0.707922</td>\n",
       "    </tr>\n",
       "    <tr>\n",
       "      <th>5</th>\n",
       "      <td>263</td>\n",
       "      <td>0.292091</td>\n",
       "      <td>{'bagging_fraction': 0.9, 'bagging_freq': 10, ...</td>\n",
       "      <td>264</td>\n",
       "      <td>37.245209</td>\n",
       "      <td>0.707909</td>\n",
       "    </tr>\n",
       "    <tr>\n",
       "      <th>6</th>\n",
       "      <td>267</td>\n",
       "      <td>0.292106</td>\n",
       "      <td>{'bagging_fraction': 0.9, 'bagging_freq': 10, ...</td>\n",
       "      <td>268</td>\n",
       "      <td>52.942730</td>\n",
       "      <td>0.707894</td>\n",
       "    </tr>\n",
       "    <tr>\n",
       "      <th>7</th>\n",
       "      <td>406</td>\n",
       "      <td>0.292108</td>\n",
       "      <td>{'bagging_fraction': 0.9, 'bagging_freq': 6, '...</td>\n",
       "      <td>407</td>\n",
       "      <td>48.441698</td>\n",
       "      <td>0.707892</td>\n",
       "    </tr>\n",
       "    <tr>\n",
       "      <th>8</th>\n",
       "      <td>437</td>\n",
       "      <td>0.292135</td>\n",
       "      <td>{'bagging_fraction': 0.9, 'bagging_freq': 6, '...</td>\n",
       "      <td>438</td>\n",
       "      <td>73.432729</td>\n",
       "      <td>0.707865</td>\n",
       "    </tr>\n",
       "    <tr>\n",
       "      <th>9</th>\n",
       "      <td>430</td>\n",
       "      <td>0.292143</td>\n",
       "      <td>{'bagging_fraction': 0.9, 'bagging_freq': 6, '...</td>\n",
       "      <td>431</td>\n",
       "      <td>59.753017</td>\n",
       "      <td>0.707857</td>\n",
       "    </tr>\n",
       "  </tbody>\n",
       "</table>\n",
       "</div>"
      ],
      "text/plain": [
       "   index      loss                                    hyperparameters  \\\n",
       "0    424  0.291773  {'bagging_fraction': 0.9, 'bagging_freq': 6, '...   \n",
       "1    403  0.291777  {'bagging_fraction': 0.9, 'bagging_freq': 6, '...   \n",
       "2    261  0.291940  {'bagging_fraction': 0.9, 'bagging_freq': 10, ...   \n",
       "3    421  0.292047  {'bagging_fraction': 0.9, 'bagging_freq': 6, '...   \n",
       "4    404  0.292078  {'bagging_fraction': 0.9, 'bagging_freq': 6, '...   \n",
       "5    263  0.292091  {'bagging_fraction': 0.9, 'bagging_freq': 10, ...   \n",
       "6    267  0.292106  {'bagging_fraction': 0.9, 'bagging_freq': 10, ...   \n",
       "7    406  0.292108  {'bagging_fraction': 0.9, 'bagging_freq': 6, '...   \n",
       "8    437  0.292135  {'bagging_fraction': 0.9, 'bagging_freq': 6, '...   \n",
       "9    430  0.292143  {'bagging_fraction': 0.9, 'bagging_freq': 6, '...   \n",
       "\n",
       "   iteration    runtime     score  \n",
       "0        425  71.324136  0.708227  \n",
       "1        404  60.631264  0.708223  \n",
       "2        262  50.657195  0.708060  \n",
       "3        422  48.127995  0.707953  \n",
       "4        405  66.496607  0.707922  \n",
       "5        264  37.245209  0.707909  \n",
       "6        268  52.942730  0.707894  \n",
       "7        407  48.441698  0.707892  \n",
       "8        438  73.432729  0.707865  \n",
       "9        431  59.753017  0.707857  "
      ]
     },
     "execution_count": 25,
     "metadata": {},
     "output_type": "execute_result"
    }
   ],
   "source": [
    "bayes_results = pd.read_csv('bayesian_trials_all_1000.csv').sort_values('score', ascending = False).reset_index()\r\n",
    "bayes_results.head(10)"
   ]
  },
  {
   "cell_type": "code",
   "execution_count": 26,
   "metadata": {
    "collapsed": false
   },
   "outputs": [
    {
     "data": {
      "text/plain": [
       "\"{'bagging_fraction': 0.9, 'bagging_freq': 6, 'boosting_type': 'gbdt', 'feature_fraction': 0.8, 'is_unbalance': True, 'learning_rate': 0.011596452914977661, 'max_depth': 11, 'metric': 'auc', 'min_gain_to_split': 0.7000000000000001, 'num_boost_round': 10000, 'num_leaves': 10, 'objective': 'binary', 'reg_alpha': 0.4257989715498509, 'reg_lambda': 0.9647341968718315, 'verbose': -1, 'n_estimators': 426}\""
      ]
     },
     "execution_count": 26,
     "metadata": {},
     "output_type": "execute_result"
    }
   ],
   "source": [
    "bestparam = bayes_results.loc[0, \"hyperparameters\"]\r\n",
    "bestparam"
   ]
  },
  {
   "cell_type": "code",
   "execution_count": 27,
   "metadata": {
    "collapsed": false
   },
   "outputs": [
    {
     "name": "stdout",
     "output_type": "stream",
     "text": [
      "Fitting 3 folds for each of 12 candidates, totalling 36 fits\n",
      "[CV] max_bin=100, min_data_in_leaf=100 ...............................\n"
     ]
    },
    {
     "name": "stderr",
     "output_type": "stream",
     "text": [
      "[Parallel(n_jobs=1)]: Using backend SequentialBackend with 1 concurrent workers.\n"
     ]
    },
    {
     "name": "stdout",
     "output_type": "stream",
     "text": [
      "[CV] ... max_bin=100, min_data_in_leaf=100, score=0.661, total=  11.5s\n",
      "[CV] max_bin=100, min_data_in_leaf=100 ...............................\n",
      "[LightGBM] [Warning] bagging_fraction is set=0.9, subsample=1.0 will be ignored. Current value: bagging_fraction=0.9\n",
      "[LightGBM] [Warning] min_gain_to_split is set=0.7, min_split_gain=0.0 will be ignored. Current value: min_gain_to_split=0.7\n",
      "[LightGBM] [Warning] feature_fraction is set=0.8, colsample_bytree=1.0 will be ignored. Current value: feature_fraction=0.8\n",
      "[LightGBM] [Warning] min_data_in_leaf is set=100, min_child_samples=20 will be ignored. Current value: min_data_in_leaf=100\n",
      "[LightGBM] [Warning] bagging_freq is set=6, subsample_freq=0 will be ignored. Current value: bagging_freq=6\n"
     ]
    },
    {
     "name": "stderr",
     "output_type": "stream",
     "text": [
      "[Parallel(n_jobs=1)]: Done   1 out of   1 | elapsed:   11.5s remaining:    0.0s\n"
     ]
    },
    {
     "name": "stdout",
     "output_type": "stream",
     "text": [
      "[CV] ... max_bin=100, min_data_in_leaf=100, score=0.659, total=  18.6s\n",
      "[CV] max_bin=100, min_data_in_leaf=100 ...............................\n",
      "[LightGBM] [Warning] bagging_fraction is set=0.9, subsample=1.0 will be ignored. Current value: bagging_fraction=0.9\n",
      "[LightGBM] [Warning] min_gain_to_split is set=0.7, min_split_gain=0.0 will be ignored. Current value: min_gain_to_split=0.7\n",
      "[LightGBM] [Warning] feature_fraction is set=0.8, colsample_bytree=1.0 will be ignored. Current value: feature_fraction=0.8\n",
      "[LightGBM] [Warning] min_data_in_leaf is set=100, min_child_samples=20 will be ignored. Current value: min_data_in_leaf=100\n",
      "[LightGBM] [Warning] bagging_freq is set=6, subsample_freq=0 will be ignored. Current value: bagging_freq=6\n"
     ]
    },
    {
     "name": "stderr",
     "output_type": "stream",
     "text": [
      "[Parallel(n_jobs=1)]: Done   2 out of   2 | elapsed:   30.1s remaining:    0.0s\n"
     ]
    },
    {
     "name": "stdout",
     "output_type": "stream",
     "text": [
      "[CV] ... max_bin=100, min_data_in_leaf=100, score=0.670, total=  13.4s\n",
      "[CV] max_bin=100, min_data_in_leaf=150 ...............................\n",
      "[LightGBM] [Warning] bagging_fraction is set=0.9, subsample=1.0 will be ignored. Current value: bagging_fraction=0.9\n",
      "[LightGBM] [Warning] min_gain_to_split is set=0.7, min_split_gain=0.0 will be ignored. Current value: min_gain_to_split=0.7\n",
      "[LightGBM] [Warning] feature_fraction is set=0.8, colsample_bytree=1.0 will be ignored. Current value: feature_fraction=0.8\n",
      "[LightGBM] [Warning] min_data_in_leaf is set=150, min_child_samples=20 will be ignored. Current value: min_data_in_leaf=150\n",
      "[LightGBM] [Warning] bagging_freq is set=6, subsample_freq=0 will be ignored. Current value: bagging_freq=6\n",
      "[CV] ... max_bin=100, min_data_in_leaf=150, score=0.661, total=  20.2s\n",
      "[CV] max_bin=100, min_data_in_leaf=150 ...............................\n",
      "[LightGBM] [Warning] bagging_fraction is set=0.9, subsample=1.0 will be ignored. Current value: bagging_fraction=0.9\n",
      "[LightGBM] [Warning] min_gain_to_split is set=0.7, min_split_gain=0.0 will be ignored. Current value: min_gain_to_split=0.7\n",
      "[LightGBM] [Warning] feature_fraction is set=0.8, colsample_bytree=1.0 will be ignored. Current value: feature_fraction=0.8\n",
      "[LightGBM] [Warning] min_data_in_leaf is set=150, min_child_samples=20 will be ignored. Current value: min_data_in_leaf=150\n",
      "[LightGBM] [Warning] bagging_freq is set=6, subsample_freq=0 will be ignored. Current value: bagging_freq=6\n",
      "[CV] ... max_bin=100, min_data_in_leaf=150, score=0.659, total=  10.5s\n",
      "[CV] max_bin=100, min_data_in_leaf=150 ...............................\n",
      "[LightGBM] [Warning] bagging_fraction is set=0.9, subsample=1.0 will be ignored. Current value: bagging_fraction=0.9\n",
      "[LightGBM] [Warning] min_gain_to_split is set=0.7, min_split_gain=0.0 will be ignored. Current value: min_gain_to_split=0.7\n",
      "[LightGBM] [Warning] feature_fraction is set=0.8, colsample_bytree=1.0 will be ignored. Current value: feature_fraction=0.8\n",
      "[LightGBM] [Warning] min_data_in_leaf is set=150, min_child_samples=20 will be ignored. Current value: min_data_in_leaf=150\n",
      "[LightGBM] [Warning] bagging_freq is set=6, subsample_freq=0 will be ignored. Current value: bagging_freq=6\n",
      "[CV] ... max_bin=100, min_data_in_leaf=150, score=0.669, total=  16.8s\n",
      "[CV] max_bin=100, min_data_in_leaf=200 ...............................\n",
      "[LightGBM] [Warning] bagging_fraction is set=0.9, subsample=1.0 will be ignored. Current value: bagging_fraction=0.9\n",
      "[LightGBM] [Warning] min_gain_to_split is set=0.7, min_split_gain=0.0 will be ignored. Current value: min_gain_to_split=0.7\n",
      "[LightGBM] [Warning] feature_fraction is set=0.8, colsample_bytree=1.0 will be ignored. Current value: feature_fraction=0.8\n",
      "[LightGBM] [Warning] min_data_in_leaf is set=200, min_child_samples=20 will be ignored. Current value: min_data_in_leaf=200\n",
      "[LightGBM] [Warning] bagging_freq is set=6, subsample_freq=0 will be ignored. Current value: bagging_freq=6\n",
      "[CV] ... max_bin=100, min_data_in_leaf=200, score=0.660, total=  11.3s\n",
      "[CV] max_bin=100, min_data_in_leaf=200 ...............................\n",
      "[LightGBM] [Warning] bagging_fraction is set=0.9, subsample=1.0 will be ignored. Current value: bagging_fraction=0.9\n",
      "[LightGBM] [Warning] min_gain_to_split is set=0.7, min_split_gain=0.0 will be ignored. Current value: min_gain_to_split=0.7\n",
      "[LightGBM] [Warning] feature_fraction is set=0.8, colsample_bytree=1.0 will be ignored. Current value: feature_fraction=0.8\n",
      "[LightGBM] [Warning] min_data_in_leaf is set=200, min_child_samples=20 will be ignored. Current value: min_data_in_leaf=200\n",
      "[LightGBM] [Warning] bagging_freq is set=6, subsample_freq=0 will be ignored. Current value: bagging_freq=6\n",
      "[CV] ... max_bin=100, min_data_in_leaf=200, score=0.658, total=  11.1s\n",
      "[CV] max_bin=100, min_data_in_leaf=200 ...............................\n",
      "[LightGBM] [Warning] bagging_fraction is set=0.9, subsample=1.0 will be ignored. Current value: bagging_fraction=0.9\n",
      "[LightGBM] [Warning] min_gain_to_split is set=0.7, min_split_gain=0.0 will be ignored. Current value: min_gain_to_split=0.7\n",
      "[LightGBM] [Warning] feature_fraction is set=0.8, colsample_bytree=1.0 will be ignored. Current value: feature_fraction=0.8\n",
      "[LightGBM] [Warning] min_data_in_leaf is set=200, min_child_samples=20 will be ignored. Current value: min_data_in_leaf=200\n",
      "[LightGBM] [Warning] bagging_freq is set=6, subsample_freq=0 will be ignored. Current value: bagging_freq=6\n",
      "[CV] ... max_bin=100, min_data_in_leaf=200, score=0.671, total=  12.5s\n",
      "[CV] max_bin=200, min_data_in_leaf=100 ...............................\n",
      "[LightGBM] [Warning] bagging_fraction is set=0.9, subsample=1.0 will be ignored. Current value: bagging_fraction=0.9\n",
      "[LightGBM] [Warning] min_gain_to_split is set=0.7, min_split_gain=0.0 will be ignored. Current value: min_gain_to_split=0.7\n",
      "[LightGBM] [Warning] feature_fraction is set=0.8, colsample_bytree=1.0 will be ignored. Current value: feature_fraction=0.8\n",
      "[LightGBM] [Warning] min_data_in_leaf is set=100, min_child_samples=20 will be ignored. Current value: min_data_in_leaf=100\n",
      "[LightGBM] [Warning] bagging_freq is set=6, subsample_freq=0 will be ignored. Current value: bagging_freq=6\n",
      "[CV] ... max_bin=200, min_data_in_leaf=100, score=0.662, total=  11.5s\n",
      "[CV] max_bin=200, min_data_in_leaf=100 ...............................\n",
      "[LightGBM] [Warning] bagging_fraction is set=0.9, subsample=1.0 will be ignored. Current value: bagging_fraction=0.9\n",
      "[LightGBM] [Warning] min_gain_to_split is set=0.7, min_split_gain=0.0 will be ignored. Current value: min_gain_to_split=0.7\n",
      "[LightGBM] [Warning] feature_fraction is set=0.8, colsample_bytree=1.0 will be ignored. Current value: feature_fraction=0.8\n",
      "[LightGBM] [Warning] min_data_in_leaf is set=100, min_child_samples=20 will be ignored. Current value: min_data_in_leaf=100\n",
      "[LightGBM] [Warning] bagging_freq is set=6, subsample_freq=0 will be ignored. Current value: bagging_freq=6\n",
      "[CV] ... max_bin=200, min_data_in_leaf=100, score=0.658, total=  20.5s\n",
      "[CV] max_bin=200, min_data_in_leaf=100 ...............................\n",
      "[LightGBM] [Warning] bagging_fraction is set=0.9, subsample=1.0 will be ignored. Current value: bagging_fraction=0.9\n",
      "[LightGBM] [Warning] min_gain_to_split is set=0.7, min_split_gain=0.0 will be ignored. Current value: min_gain_to_split=0.7\n",
      "[LightGBM] [Warning] feature_fraction is set=0.8, colsample_bytree=1.0 will be ignored. Current value: feature_fraction=0.8\n",
      "[LightGBM] [Warning] min_data_in_leaf is set=100, min_child_samples=20 will be ignored. Current value: min_data_in_leaf=100\n",
      "[LightGBM] [Warning] bagging_freq is set=6, subsample_freq=0 will be ignored. Current value: bagging_freq=6\n",
      "[CV] ... max_bin=200, min_data_in_leaf=100, score=0.669, total=  11.5s\n",
      "[CV] max_bin=200, min_data_in_leaf=150 ...............................\n",
      "[LightGBM] [Warning] bagging_fraction is set=0.9, subsample=1.0 will be ignored. Current value: bagging_fraction=0.9\n",
      "[LightGBM] [Warning] min_gain_to_split is set=0.7, min_split_gain=0.0 will be ignored. Current value: min_gain_to_split=0.7\n",
      "[LightGBM] [Warning] feature_fraction is set=0.8, colsample_bytree=1.0 will be ignored. Current value: feature_fraction=0.8\n",
      "[LightGBM] [Warning] min_data_in_leaf is set=150, min_child_samples=20 will be ignored. Current value: min_data_in_leaf=150\n",
      "[LightGBM] [Warning] bagging_freq is set=6, subsample_freq=0 will be ignored. Current value: bagging_freq=6\n",
      "[CV] ... max_bin=200, min_data_in_leaf=150, score=0.663, total=  10.0s\n",
      "[CV] max_bin=200, min_data_in_leaf=150 ...............................\n",
      "[LightGBM] [Warning] bagging_fraction is set=0.9, subsample=1.0 will be ignored. Current value: bagging_fraction=0.9\n",
      "[LightGBM] [Warning] min_gain_to_split is set=0.7, min_split_gain=0.0 will be ignored. Current value: min_gain_to_split=0.7\n",
      "[LightGBM] [Warning] feature_fraction is set=0.8, colsample_bytree=1.0 will be ignored. Current value: feature_fraction=0.8\n",
      "[LightGBM] [Warning] min_data_in_leaf is set=150, min_child_samples=20 will be ignored. Current value: min_data_in_leaf=150\n",
      "[LightGBM] [Warning] bagging_freq is set=6, subsample_freq=0 will be ignored. Current value: bagging_freq=6\n",
      "[CV] ... max_bin=200, min_data_in_leaf=150, score=0.658, total=  10.9s\n",
      "[CV] max_bin=200, min_data_in_leaf=150 ...............................\n",
      "[LightGBM] [Warning] bagging_fraction is set=0.9, subsample=1.0 will be ignored. Current value: bagging_fraction=0.9\n",
      "[LightGBM] [Warning] min_gain_to_split is set=0.7, min_split_gain=0.0 will be ignored. Current value: min_gain_to_split=0.7\n",
      "[LightGBM] [Warning] feature_fraction is set=0.8, colsample_bytree=1.0 will be ignored. Current value: feature_fraction=0.8\n",
      "[LightGBM] [Warning] min_data_in_leaf is set=150, min_child_samples=20 will be ignored. Current value: min_data_in_leaf=150\n",
      "[LightGBM] [Warning] bagging_freq is set=6, subsample_freq=0 will be ignored. Current value: bagging_freq=6\n",
      "[CV] ... max_bin=200, min_data_in_leaf=150, score=0.669, total=  13.1s\n",
      "[CV] max_bin=200, min_data_in_leaf=200 ...............................\n",
      "[LightGBM] [Warning] bagging_fraction is set=0.9, subsample=1.0 will be ignored. Current value: bagging_fraction=0.9\n",
      "[LightGBM] [Warning] min_gain_to_split is set=0.7, min_split_gain=0.0 will be ignored. Current value: min_gain_to_split=0.7\n",
      "[LightGBM] [Warning] feature_fraction is set=0.8, colsample_bytree=1.0 will be ignored. Current value: feature_fraction=0.8\n",
      "[LightGBM] [Warning] min_data_in_leaf is set=200, min_child_samples=20 will be ignored. Current value: min_data_in_leaf=200\n",
      "[LightGBM] [Warning] bagging_freq is set=6, subsample_freq=0 will be ignored. Current value: bagging_freq=6\n",
      "[CV] ... max_bin=200, min_data_in_leaf=200, score=0.662, total=  18.8s\n",
      "[CV] max_bin=200, min_data_in_leaf=200 ...............................\n",
      "[LightGBM] [Warning] bagging_fraction is set=0.9, subsample=1.0 will be ignored. Current value: bagging_fraction=0.9\n",
      "[LightGBM] [Warning] min_gain_to_split is set=0.7, min_split_gain=0.0 will be ignored. Current value: min_gain_to_split=0.7\n",
      "[LightGBM] [Warning] feature_fraction is set=0.8, colsample_bytree=1.0 will be ignored. Current value: feature_fraction=0.8\n",
      "[LightGBM] [Warning] min_data_in_leaf is set=200, min_child_samples=20 will be ignored. Current value: min_data_in_leaf=200\n",
      "[LightGBM] [Warning] bagging_freq is set=6, subsample_freq=0 will be ignored. Current value: bagging_freq=6\n",
      "[CV] ... max_bin=200, min_data_in_leaf=200, score=0.659, total=  12.6s\n",
      "[CV] max_bin=200, min_data_in_leaf=200 ...............................\n",
      "[LightGBM] [Warning] bagging_fraction is set=0.9, subsample=1.0 will be ignored. Current value: bagging_fraction=0.9\n",
      "[LightGBM] [Warning] min_gain_to_split is set=0.7, min_split_gain=0.0 will be ignored. Current value: min_gain_to_split=0.7\n",
      "[LightGBM] [Warning] feature_fraction is set=0.8, colsample_bytree=1.0 will be ignored. Current value: feature_fraction=0.8\n",
      "[LightGBM] [Warning] min_data_in_leaf is set=200, min_child_samples=20 will be ignored. Current value: min_data_in_leaf=200\n",
      "[LightGBM] [Warning] bagging_freq is set=6, subsample_freq=0 will be ignored. Current value: bagging_freq=6\n",
      "[CV] ... max_bin=200, min_data_in_leaf=200, score=0.670, total=  10.9s\n",
      "[CV] max_bin=300, min_data_in_leaf=100 ...............................\n",
      "[LightGBM] [Warning] bagging_fraction is set=0.9, subsample=1.0 will be ignored. Current value: bagging_fraction=0.9\n",
      "[LightGBM] [Warning] min_gain_to_split is set=0.7, min_split_gain=0.0 will be ignored. Current value: min_gain_to_split=0.7\n",
      "[LightGBM] [Warning] feature_fraction is set=0.8, colsample_bytree=1.0 will be ignored. Current value: feature_fraction=0.8\n",
      "[LightGBM] [Warning] min_data_in_leaf is set=100, min_child_samples=20 will be ignored. Current value: min_data_in_leaf=100\n",
      "[LightGBM] [Warning] bagging_freq is set=6, subsample_freq=0 will be ignored. Current value: bagging_freq=6\n",
      "[CV] ... max_bin=300, min_data_in_leaf=100, score=0.662, total=  11.8s\n",
      "[CV] max_bin=300, min_data_in_leaf=100 ...............................\n",
      "[LightGBM] [Warning] bagging_fraction is set=0.9, subsample=1.0 will be ignored. Current value: bagging_fraction=0.9\n",
      "[LightGBM] [Warning] min_gain_to_split is set=0.7, min_split_gain=0.0 will be ignored. Current value: min_gain_to_split=0.7\n",
      "[LightGBM] [Warning] feature_fraction is set=0.8, colsample_bytree=1.0 will be ignored. Current value: feature_fraction=0.8\n",
      "[LightGBM] [Warning] min_data_in_leaf is set=100, min_child_samples=20 will be ignored. Current value: min_data_in_leaf=100\n",
      "[LightGBM] [Warning] bagging_freq is set=6, subsample_freq=0 will be ignored. Current value: bagging_freq=6\n",
      "[CV] ... max_bin=300, min_data_in_leaf=100, score=0.662, total=  13.0s\n",
      "[CV] max_bin=300, min_data_in_leaf=100 ...............................\n",
      "[LightGBM] [Warning] bagging_fraction is set=0.9, subsample=1.0 will be ignored. Current value: bagging_fraction=0.9\n",
      "[LightGBM] [Warning] min_gain_to_split is set=0.7, min_split_gain=0.0 will be ignored. Current value: min_gain_to_split=0.7\n",
      "[LightGBM] [Warning] feature_fraction is set=0.8, colsample_bytree=1.0 will be ignored. Current value: feature_fraction=0.8\n",
      "[LightGBM] [Warning] min_data_in_leaf is set=100, min_child_samples=20 will be ignored. Current value: min_data_in_leaf=100\n",
      "[LightGBM] [Warning] bagging_freq is set=6, subsample_freq=0 will be ignored. Current value: bagging_freq=6\n",
      "[CV] ... max_bin=300, min_data_in_leaf=100, score=0.670, total=  19.7s\n",
      "[CV] max_bin=300, min_data_in_leaf=150 ...............................\n",
      "[LightGBM] [Warning] bagging_fraction is set=0.9, subsample=1.0 will be ignored. Current value: bagging_fraction=0.9\n",
      "[LightGBM] [Warning] min_gain_to_split is set=0.7, min_split_gain=0.0 will be ignored. Current value: min_gain_to_split=0.7\n",
      "[LightGBM] [Warning] feature_fraction is set=0.8, colsample_bytree=1.0 will be ignored. Current value: feature_fraction=0.8\n",
      "[LightGBM] [Warning] min_data_in_leaf is set=150, min_child_samples=20 will be ignored. Current value: min_data_in_leaf=150\n",
      "[LightGBM] [Warning] bagging_freq is set=6, subsample_freq=0 will be ignored. Current value: bagging_freq=6\n",
      "[CV] ... max_bin=300, min_data_in_leaf=150, score=0.661, total=  11.3s\n",
      "[CV] max_bin=300, min_data_in_leaf=150 ...............................\n",
      "[LightGBM] [Warning] bagging_fraction is set=0.9, subsample=1.0 will be ignored. Current value: bagging_fraction=0.9\n",
      "[LightGBM] [Warning] min_gain_to_split is set=0.7, min_split_gain=0.0 will be ignored. Current value: min_gain_to_split=0.7\n",
      "[LightGBM] [Warning] feature_fraction is set=0.8, colsample_bytree=1.0 will be ignored. Current value: feature_fraction=0.8\n",
      "[LightGBM] [Warning] min_data_in_leaf is set=150, min_child_samples=20 will be ignored. Current value: min_data_in_leaf=150\n",
      "[LightGBM] [Warning] bagging_freq is set=6, subsample_freq=0 will be ignored. Current value: bagging_freq=6\n",
      "[CV] ... max_bin=300, min_data_in_leaf=150, score=0.658, total=  10.3s\n",
      "[CV] max_bin=300, min_data_in_leaf=150 ...............................\n",
      "[LightGBM] [Warning] bagging_fraction is set=0.9, subsample=1.0 will be ignored. Current value: bagging_fraction=0.9\n",
      "[LightGBM] [Warning] min_gain_to_split is set=0.7, min_split_gain=0.0 will be ignored. Current value: min_gain_to_split=0.7\n",
      "[LightGBM] [Warning] feature_fraction is set=0.8, colsample_bytree=1.0 will be ignored. Current value: feature_fraction=0.8\n",
      "[LightGBM] [Warning] min_data_in_leaf is set=150, min_child_samples=20 will be ignored. Current value: min_data_in_leaf=150\n",
      "[LightGBM] [Warning] bagging_freq is set=6, subsample_freq=0 will be ignored. Current value: bagging_freq=6\n",
      "[CV] ... max_bin=300, min_data_in_leaf=150, score=0.671, total=   9.9s\n",
      "[CV] max_bin=300, min_data_in_leaf=200 ...............................\n",
      "[LightGBM] [Warning] bagging_fraction is set=0.9, subsample=1.0 will be ignored. Current value: bagging_fraction=0.9\n",
      "[LightGBM] [Warning] min_gain_to_split is set=0.7, min_split_gain=0.0 will be ignored. Current value: min_gain_to_split=0.7\n",
      "[LightGBM] [Warning] feature_fraction is set=0.8, colsample_bytree=1.0 will be ignored. Current value: feature_fraction=0.8\n",
      "[LightGBM] [Warning] min_data_in_leaf is set=200, min_child_samples=20 will be ignored. Current value: min_data_in_leaf=200\n",
      "[LightGBM] [Warning] bagging_freq is set=6, subsample_freq=0 will be ignored. Current value: bagging_freq=6\n",
      "[CV] ... max_bin=300, min_data_in_leaf=200, score=0.663, total=   9.6s\n",
      "[CV] max_bin=300, min_data_in_leaf=200 ...............................\n",
      "[LightGBM] [Warning] bagging_fraction is set=0.9, subsample=1.0 will be ignored. Current value: bagging_fraction=0.9\n",
      "[LightGBM] [Warning] min_gain_to_split is set=0.7, min_split_gain=0.0 will be ignored. Current value: min_gain_to_split=0.7\n",
      "[LightGBM] [Warning] feature_fraction is set=0.8, colsample_bytree=1.0 will be ignored. Current value: feature_fraction=0.8\n",
      "[LightGBM] [Warning] min_data_in_leaf is set=200, min_child_samples=20 will be ignored. Current value: min_data_in_leaf=200\n",
      "[LightGBM] [Warning] bagging_freq is set=6, subsample_freq=0 will be ignored. Current value: bagging_freq=6\n",
      "[CV] ... max_bin=300, min_data_in_leaf=200, score=0.661, total=  14.3s\n",
      "[CV] max_bin=300, min_data_in_leaf=200 ...............................\n",
      "[LightGBM] [Warning] bagging_fraction is set=0.9, subsample=1.0 will be ignored. Current value: bagging_fraction=0.9\n",
      "[LightGBM] [Warning] min_gain_to_split is set=0.7, min_split_gain=0.0 will be ignored. Current value: min_gain_to_split=0.7\n",
      "[LightGBM] [Warning] feature_fraction is set=0.8, colsample_bytree=1.0 will be ignored. Current value: feature_fraction=0.8\n",
      "[LightGBM] [Warning] min_data_in_leaf is set=200, min_child_samples=20 will be ignored. Current value: min_data_in_leaf=200\n",
      "[LightGBM] [Warning] bagging_freq is set=6, subsample_freq=0 will be ignored. Current value: bagging_freq=6\n",
      "[CV] ... max_bin=300, min_data_in_leaf=200, score=0.672, total=  19.5s\n",
      "[CV] max_bin=400, min_data_in_leaf=100 ...............................\n",
      "[LightGBM] [Warning] bagging_fraction is set=0.9, subsample=1.0 will be ignored. Current value: bagging_fraction=0.9\n",
      "[LightGBM] [Warning] min_gain_to_split is set=0.7, min_split_gain=0.0 will be ignored. Current value: min_gain_to_split=0.7\n",
      "[LightGBM] [Warning] feature_fraction is set=0.8, colsample_bytree=1.0 will be ignored. Current value: feature_fraction=0.8\n",
      "[LightGBM] [Warning] min_data_in_leaf is set=100, min_child_samples=20 will be ignored. Current value: min_data_in_leaf=100\n",
      "[LightGBM] [Warning] bagging_freq is set=6, subsample_freq=0 will be ignored. Current value: bagging_freq=6\n",
      "[CV] ... max_bin=400, min_data_in_leaf=100, score=0.662, total=  15.1s\n",
      "[CV] max_bin=400, min_data_in_leaf=100 ...............................\n",
      "[LightGBM] [Warning] bagging_fraction is set=0.9, subsample=1.0 will be ignored. Current value: bagging_fraction=0.9\n",
      "[LightGBM] [Warning] min_gain_to_split is set=0.7, min_split_gain=0.0 will be ignored. Current value: min_gain_to_split=0.7\n",
      "[LightGBM] [Warning] feature_fraction is set=0.8, colsample_bytree=1.0 will be ignored. Current value: feature_fraction=0.8\n",
      "[LightGBM] [Warning] min_data_in_leaf is set=100, min_child_samples=20 will be ignored. Current value: min_data_in_leaf=100\n",
      "[LightGBM] [Warning] bagging_freq is set=6, subsample_freq=0 will be ignored. Current value: bagging_freq=6\n",
      "[CV] ... max_bin=400, min_data_in_leaf=100, score=0.659, total=  10.0s\n",
      "[CV] max_bin=400, min_data_in_leaf=100 ...............................\n",
      "[LightGBM] [Warning] bagging_fraction is set=0.9, subsample=1.0 will be ignored. Current value: bagging_fraction=0.9\n",
      "[LightGBM] [Warning] min_gain_to_split is set=0.7, min_split_gain=0.0 will be ignored. Current value: min_gain_to_split=0.7\n",
      "[LightGBM] [Warning] feature_fraction is set=0.8, colsample_bytree=1.0 will be ignored. Current value: feature_fraction=0.8\n",
      "[LightGBM] [Warning] min_data_in_leaf is set=100, min_child_samples=20 will be ignored. Current value: min_data_in_leaf=100\n",
      "[LightGBM] [Warning] bagging_freq is set=6, subsample_freq=0 will be ignored. Current value: bagging_freq=6\n",
      "[CV] ... max_bin=400, min_data_in_leaf=100, score=0.670, total=  16.2s\n",
      "[CV] max_bin=400, min_data_in_leaf=150 ...............................\n",
      "[LightGBM] [Warning] bagging_fraction is set=0.9, subsample=1.0 will be ignored. Current value: bagging_fraction=0.9\n",
      "[LightGBM] [Warning] min_gain_to_split is set=0.7, min_split_gain=0.0 will be ignored. Current value: min_gain_to_split=0.7\n",
      "[LightGBM] [Warning] feature_fraction is set=0.8, colsample_bytree=1.0 will be ignored. Current value: feature_fraction=0.8\n",
      "[LightGBM] [Warning] min_data_in_leaf is set=150, min_child_samples=20 will be ignored. Current value: min_data_in_leaf=150\n",
      "[LightGBM] [Warning] bagging_freq is set=6, subsample_freq=0 will be ignored. Current value: bagging_freq=6\n",
      "[CV] ... max_bin=400, min_data_in_leaf=150, score=0.663, total=  23.2s\n",
      "[CV] max_bin=400, min_data_in_leaf=150 ...............................\n",
      "[LightGBM] [Warning] bagging_fraction is set=0.9, subsample=1.0 will be ignored. Current value: bagging_fraction=0.9\n",
      "[LightGBM] [Warning] min_gain_to_split is set=0.7, min_split_gain=0.0 will be ignored. Current value: min_gain_to_split=0.7\n",
      "[LightGBM] [Warning] feature_fraction is set=0.8, colsample_bytree=1.0 will be ignored. Current value: feature_fraction=0.8\n",
      "[LightGBM] [Warning] min_data_in_leaf is set=150, min_child_samples=20 will be ignored. Current value: min_data_in_leaf=150\n",
      "[LightGBM] [Warning] bagging_freq is set=6, subsample_freq=0 will be ignored. Current value: bagging_freq=6\n",
      "[CV] ... max_bin=400, min_data_in_leaf=150, score=0.661, total=  14.4s\n",
      "[CV] max_bin=400, min_data_in_leaf=150 ...............................\n",
      "[LightGBM] [Warning] bagging_fraction is set=0.9, subsample=1.0 will be ignored. Current value: bagging_fraction=0.9\n",
      "[LightGBM] [Warning] min_gain_to_split is set=0.7, min_split_gain=0.0 will be ignored. Current value: min_gain_to_split=0.7\n",
      "[LightGBM] [Warning] feature_fraction is set=0.8, colsample_bytree=1.0 will be ignored. Current value: feature_fraction=0.8\n",
      "[LightGBM] [Warning] min_data_in_leaf is set=150, min_child_samples=20 will be ignored. Current value: min_data_in_leaf=150\n",
      "[LightGBM] [Warning] bagging_freq is set=6, subsample_freq=0 will be ignored. Current value: bagging_freq=6\n",
      "[CV] ... max_bin=400, min_data_in_leaf=150, score=0.671, total=  13.8s\n",
      "[CV] max_bin=400, min_data_in_leaf=200 ...............................\n",
      "[LightGBM] [Warning] bagging_fraction is set=0.9, subsample=1.0 will be ignored. Current value: bagging_fraction=0.9\n",
      "[LightGBM] [Warning] min_gain_to_split is set=0.7, min_split_gain=0.0 will be ignored. Current value: min_gain_to_split=0.7\n",
      "[LightGBM] [Warning] feature_fraction is set=0.8, colsample_bytree=1.0 will be ignored. Current value: feature_fraction=0.8\n",
      "[LightGBM] [Warning] min_data_in_leaf is set=200, min_child_samples=20 will be ignored. Current value: min_data_in_leaf=200\n",
      "[LightGBM] [Warning] bagging_freq is set=6, subsample_freq=0 will be ignored. Current value: bagging_freq=6\n",
      "[CV] ... max_bin=400, min_data_in_leaf=200, score=0.663, total=  16.6s\n",
      "[CV] max_bin=400, min_data_in_leaf=200 ...............................\n",
      "[LightGBM] [Warning] bagging_fraction is set=0.9, subsample=1.0 will be ignored. Current value: bagging_fraction=0.9\n",
      "[LightGBM] [Warning] min_gain_to_split is set=0.7, min_split_gain=0.0 will be ignored. Current value: min_gain_to_split=0.7\n",
      "[LightGBM] [Warning] feature_fraction is set=0.8, colsample_bytree=1.0 will be ignored. Current value: feature_fraction=0.8\n",
      "[LightGBM] [Warning] min_data_in_leaf is set=200, min_child_samples=20 will be ignored. Current value: min_data_in_leaf=200\n",
      "[LightGBM] [Warning] bagging_freq is set=6, subsample_freq=0 will be ignored. Current value: bagging_freq=6\n",
      "[CV] ... max_bin=400, min_data_in_leaf=200, score=0.659, total=  17.1s\n",
      "[CV] max_bin=400, min_data_in_leaf=200 ...............................\n",
      "[LightGBM] [Warning] bagging_fraction is set=0.9, subsample=1.0 will be ignored. Current value: bagging_fraction=0.9\n",
      "[LightGBM] [Warning] min_gain_to_split is set=0.7, min_split_gain=0.0 will be ignored. Current value: min_gain_to_split=0.7\n",
      "[LightGBM] [Warning] feature_fraction is set=0.8, colsample_bytree=1.0 will be ignored. Current value: feature_fraction=0.8\n",
      "[LightGBM] [Warning] min_data_in_leaf is set=200, min_child_samples=20 will be ignored. Current value: min_data_in_leaf=200\n",
      "[LightGBM] [Warning] bagging_freq is set=6, subsample_freq=0 will be ignored. Current value: bagging_freq=6\n",
      "[CV] ... max_bin=400, min_data_in_leaf=200, score=0.670, total=  10.0s\n",
      "[LightGBM] [Warning] bagging_fraction is set=0.9, subsample=1.0 will be ignored. Current value: bagging_fraction=0.9\n",
      "[LightGBM] [Warning] min_gain_to_split is set=0.7, min_split_gain=0.0 will be ignored. Current value: min_gain_to_split=0.7\n",
      "[LightGBM] [Warning] feature_fraction is set=0.8, colsample_bytree=1.0 will be ignored. Current value: feature_fraction=0.8\n",
      "[LightGBM] [Warning] min_data_in_leaf is set=200, min_child_samples=20 will be ignored. Current value: min_data_in_leaf=200\n",
      "[LightGBM] [Warning] bagging_freq is set=6, subsample_freq=0 will be ignored. Current value: bagging_freq=6\n"
     ]
    },
    {
     "name": "stderr",
     "output_type": "stream",
     "text": [
      "[Parallel(n_jobs=1)]: Done  36 out of  36 | elapsed:  8.4min finished\n"
     ]
    },
    {
     "name": "stdout",
     "output_type": "stream",
     "text": [
      "LightGBM GridSearchCV AUC Score:    0.6967748589538707\n",
      "最优参数:\n",
      "{'max_bin': 300, 'min_data_in_leaf': 200}\n"
     ]
    }
   ],
   "source": [
    "# max_bin min_data_in_leaf\r\n",
    "from sklearn.model_selection import GridSearchCV\r\n",
    "\r\n",
    "model = lgb.LGBMClassifier(objective='binary',\r\n",
    "                            metrics='auc',\r\n",
    "                            bagging_fraction=0.9,\r\n",
    "                            bagging_freq=6,\r\n",
    "                            boosting_type='gbdt',\r\n",
    "                            feature_fraction=0.8,\r\n",
    "                            learning_rate=0.011596452914977661,\r\n",
    "                            max_depth=11,\r\n",
    "                            num_leaves=10,\r\n",
    "                            min_gain_to_split=0.7,\r\n",
    "                            reg_alpha=0.4257989715498509,\r\n",
    "                            reg_lambda=0.9647341968718315,\r\n",
    "                            verbose=-1,\r\n",
    "                            n_estimators=426,\r\n",
    "                            is_unbalance=True)\r\n",
    "\r\n",
    "#parameters={'max_bin': range(100,500,50),'min_data_in_leaf':range(100,150,10)}\r\n",
    "parameters = {\r\n",
    "    'max_bin': range(100, 500, 100),\r\n",
    "    'min_data_in_leaf': range(100, 250, 50)\r\n",
    "}\r\n",
    "#调高 verbose可以看到更多信息\r\n",
    "clf = GridSearchCV(model, parameters, cv=3, verbose=3)\r\n",
    "clf.fit(train_small, target_small)\r\n",
    "\r\n",
    "score_test = roc_auc_score(y_valid_small, clf.predict_proba(valid_small)[:, 1])\r\n",
    "\r\n",
    "print(\"LightGBM GridSearchCV AUC Score:   \", score_test)\r\n",
    "print(\"最优参数:\")\r\n",
    "print(clf.best_params_)"
   ]
  },
  {
   "cell_type": "markdown",
   "metadata": {
    "collapsed": false
   },
   "source": [
    "### 测试不平衡处理\n",
    "\n",
    "有问题，不合适"
   ]
  },
  {
   "cell_type": "code",
   "execution_count": 30,
   "metadata": {
    "collapsed": false
   },
   "outputs": [],
   "source": [
    "# !pip install imblearn"
   ]
  },
  {
   "cell_type": "code",
   "execution_count": 32,
   "metadata": {
    "collapsed": false
   },
   "outputs": [],
   "source": [
    "# from sklearn.metrics import classification_report\r\n",
    "# from imblearn.over_sampling import SMOTE\r\n",
    "# from imblearn.combine import SMOTETomek\r\n",
    "# from imblearn.under_sampling import ClusterCentroids"
   ]
  },
  {
   "cell_type": "code",
   "execution_count": 33,
   "metadata": {
    "collapsed": false
   },
   "outputs": [],
   "source": [
    "# model = lgb.LGBMClassifier(objective='binary',\r\n",
    "#                             metrics='auc',\r\n",
    "#                             bagging_fraction=0.9,\r\n",
    "#                             bagging_freq=6,\r\n",
    "#                             boosting_type='gbdt',\r\n",
    "#                             feature_fraction=0.8,\r\n",
    "#                             learning_rate=0.011596452914977661,\r\n",
    "#                             max_depth=11,\r\n",
    "#                             num_leaves=10,\r\n",
    "#                             min_gain_to_split=0.7,\r\n",
    "#                             reg_alpha=0.4257989715498509,\r\n",
    "#                             reg_lambda=0.9647341968718315,\r\n",
    "#                             verbose=-1,\r\n",
    "#                             n_estimators=426,\r\n",
    "#                             is_unbalance=True)\r\n",
    "\r\n",
    "# model.fit(train_small, target_small, eval_set=(valid_small, y_valid_small))\r\n",
    "# y_true, y_pred = y_valid_small, model.predict(X_tvalid_smallest)\r\n",
    "# score_test = roc_auc_score(y_true, y_pred)\r\n",
    "\r\n",
    "# print(classification_report(y_true, y_pred))\r\n",
    "# print(\"LightGBM AUC Score:   \", score_test)"
   ]
  },
  {
   "cell_type": "code",
   "execution_count": null,
   "metadata": {
    "collapsed": true
   },
   "outputs": [],
   "source": [
    "def unbalance_helper(X_train, X_test, y_train, y_test,\r\n",
    "                     imbalance_method='under_sampling'):\r\n",
    "    \"\"\"\r\n",
    "    Args:\r\n",
    "        imbalance_method (str, optional): over_sampling, or under_sampling. Defaults to 'under_sampling'.\r\n",
    "\r\n",
    "    Returns:\r\n",
    "        processed data\r\n",
    "    \"\"\"\r\n",
    "    # 是否使用不平衡数据处理方式，上采样， 下采样， ensemble\r\n",
    "    if imbalance_method == 'over_sampling':\r\n",
    "        print(\"Use SMOTETomek deal with unbalance data \")\r\n",
    "        # x new = x ordi + lambda(x ordj - x ord i)      lambda 属于 (0,1)\r\n",
    "        X_train, y_train = SMOTETomek().fit_resample(X_train, y_train)\r\n",
    "        X_test, y_test = SMOTETomek().fit_resample(X_train, y_train)\r\n",
    "    elif imbalance_method == 'under_sampling':\r\n",
    "        print(\"Use ClusterCentroids deal with unbalance data \")\r\n",
    "        X_train, y_train = ClusterCentroids(random_state=0).fit_resample(X_train, y_train)\r\n",
    "        X_test, y_test = ClusterCentroids(random_state=0).fit_resample(X_test, y_test)\r\n",
    "\r\n",
    "    return X_train, y_train, X_test, y_test"
   ]
  },
  {
   "cell_type": "code",
   "execution_count": 34,
   "metadata": {
    "collapsed": false
   },
   "outputs": [],
   "source": [
    "# X_train_u, y_train_u, X_test_u, y_test_u = unbalance_helper(train_small, target_small, valid_small, y_valid_small\r\n",
    "#                                                             imbalance_method='over_sampling')"
   ]
  },
  {
   "cell_type": "code",
   "execution_count": 35,
   "metadata": {
    "collapsed": false
   },
   "outputs": [],
   "source": [
    "# model = lgb.LGBMClassifier(objective='binary',\r\n",
    "#                             metrics='auc',\r\n",
    "#                             bagging_fraction=0.9,\r\n",
    "#                             bagging_freq=6,\r\n",
    "#                             boosting_type='gbdt',\r\n",
    "#                             feature_fraction=0.8,\r\n",
    "#                             learning_rate=0.011596452914977661,\r\n",
    "#                             max_depth=11,\r\n",
    "#                             num_leaves=10,\r\n",
    "#                             min_gain_to_split=0.7,\r\n",
    "#                             reg_alpha=0.4257989715498509,\r\n",
    "#                             reg_lambda=0.9647341968718315,\r\n",
    "#                             verbose=-1,\r\n",
    "#                             n_estimators=426,\r\n",
    "#                             is_unbalance=True)\r\n",
    "\r\n",
    "\r\n",
    "# model.fit(X_train_u, y_train_u, eval_set=(X_test_u, y_test_u))\r\n",
    "# y_true, y_pred = y_test_u, model.predict(X_test_u)\r\n",
    "# score_test = roc_auc_score(y_true, y_pred)\r\n",
    "\r\n",
    "# print(classification_report(y_true, y_pred))\r\n",
    "# print(\"LightGBM AUC Score:   \", score_test)"
   ]
  },
  {
   "cell_type": "markdown",
   "metadata": {
    "collapsed": false
   },
   "source": [
    "## Stacking"
   ]
  },
  {
   "cell_type": "code",
   "execution_count": 36,
   "metadata": {
    "collapsed": false
   },
   "outputs": [],
   "source": [
    "import pandas as pd\r\n",
    "import numpy as np\r\n",
    "import lightgbm as lgb\r\n",
    "from sklearn.metrics import f1_score\r\n",
    "from sklearn.model_selection import train_test_split\r\n",
    "from sklearn.model_selection import KFold\r\n",
    "from sklearn.model_selection import StratifiedKFold"
   ]
  },
  {
   "cell_type": "code",
   "execution_count": 37,
   "metadata": {
    "collapsed": false
   },
   "outputs": [],
   "source": [
    "class SBBTree():\r\n",
    "    \"\"\"\r\n",
    "        SBBTree\r\n",
    "        Stacking,Bootstap,Bagging\r\n",
    "    \"\"\"\r\n",
    "    def __init__(\r\n",
    "                    self, \r\n",
    "                    params,\r\n",
    "                    stacking_num,\r\n",
    "                    bagging_num,\r\n",
    "                    bagging_test_size,\r\n",
    "                    num_boost_round,\r\n",
    "                    early_stopping_rounds\r\n",
    "                ):\r\n",
    "        \"\"\"\r\n",
    "            Initializes the SBBTree.\r\n",
    "            Args:\r\n",
    "              params : lgb params.\r\n",
    "              stacking_num : k_flod stacking.\r\n",
    "              bagging_num : bootstrap num.\r\n",
    "              bagging_test_size : bootstrap sample rate.\r\n",
    "              num_boost_round : boost num.\r\n",
    "              early_stopping_rounds : early_stopping_rounds.\r\n",
    "        \"\"\"\r\n",
    "        self.params = params\r\n",
    "        self.stacking_num = stacking_num\r\n",
    "        self.bagging_num = bagging_num\r\n",
    "        self.bagging_test_size = bagging_test_size\r\n",
    "        self.num_boost_round = num_boost_round\r\n",
    "        self.early_stopping_rounds = early_stopping_rounds\r\n",
    "\r\n",
    "        self.model = lgb\r\n",
    "        self.stacking_model = []\r\n",
    "        self.bagging_model = []\r\n",
    "\r\n",
    "    def fit(self, X, y):\r\n",
    "        \"\"\" fit model. \"\"\"\r\n",
    "        if self.stacking_num > 1:\r\n",
    "            layer_train = np.zeros((X.shape[0], 2))\r\n",
    "            self.SK = StratifiedKFold(n_splits=self.stacking_num, shuffle=True, random_state=1)\r\n",
    "            for k,(train_index, test_index) in enumerate(self.SK.split(X, y)):\r\n",
    "                X_train = X[train_index]\r\n",
    "                y_train = y[train_index]\r\n",
    "                X_test = X[test_index]\r\n",
    "                y_test = y[test_index]\r\n",
    "\r\n",
    "                lgb_train = lgb.Dataset(X_train, y_train)\r\n",
    "                lgb_eval = lgb.Dataset(X_test, y_test, reference=lgb_train)\r\n",
    "\r\n",
    "                gbm = lgb.train(self.params,\r\n",
    "                            lgb_train,\r\n",
    "                            num_boost_round=self.num_boost_round,\r\n",
    "                            valid_sets=lgb_eval,\r\n",
    "                            early_stopping_rounds=self.early_stopping_rounds)\r\n",
    "\r\n",
    "                self.stacking_model.append(gbm)\r\n",
    "\r\n",
    "                pred_y = gbm.predict(X_test, num_iteration=gbm.best_iteration)\r\n",
    "                layer_train[test_index, 1] = pred_y\r\n",
    "\r\n",
    "            X = np.hstack((X, layer_train[:,1].reshape((-1,1)))) \r\n",
    "        else:\r\n",
    "            pass\r\n",
    "        for bn in range(self.bagging_num):\r\n",
    "            X_train, X_test, y_train, y_test = train_test_split(X, y, test_size=self.bagging_test_size, random_state=bn)\r\n",
    "\r\n",
    "            lgb_train = lgb.Dataset(X_train, y_train)\r\n",
    "            lgb_eval = lgb.Dataset(X_test, y_test, reference=lgb_train)\r\n",
    "\r\n",
    "            gbm = lgb.train(self.params,\r\n",
    "                        lgb_train,\r\n",
    "                        num_boost_round=10000,\r\n",
    "                        valid_sets=lgb_eval,\r\n",
    "                        early_stopping_rounds=200)\r\n",
    "\r\n",
    "            self.bagging_model.append(gbm)\r\n",
    "\r\n",
    "    def predict(self, X_pred):\r\n",
    "        \"\"\" predict test data. \"\"\"\r\n",
    "        if self.stacking_num > 1:\r\n",
    "            test_pred = np.zeros((X_pred.shape[0], self.stacking_num))\r\n",
    "            for sn,gbm in enumerate(self.stacking_model):\r\n",
    "                pred = gbm.predict(X_pred, num_iteration=gbm.best_iteration)\r\n",
    "                test_pred[:, sn] = pred\r\n",
    "            X_pred = np.hstack((X_pred, test_pred.mean(axis=1).reshape((-1,1))))  \r\n",
    "        else:\r\n",
    "            pass \r\n",
    "        for bn,gbm in enumerate(self.bagging_model):\r\n",
    "            pred = gbm.predict(X_pred, num_iteration=gbm.best_iteration)\r\n",
    "            if bn == 0:\r\n",
    "                pred_out=pred\r\n",
    "            else:\r\n",
    "                pred_out+=pred\r\n",
    "        return pred_out/self.bagging_num"
   ]
  },
  {
   "cell_type": "code",
   "execution_count": null,
   "metadata": {
    "collapsed": false
   },
   "outputs": [],
   "source": [
    "model = lgb.LGBMClassifier(objective='binary',\r\n",
    "                            metrics='auc',\r\n",
    "                            bagging_fraction=0.9,\r\n",
    "                            bagging_freq=6,\r\n",
    "                            boosting_type='gbdt',\r\n",
    "                            feature_fraction=0.8,\r\n",
    "                            learning_rate=0.011596452914977661,\r\n",
    "                            max_depth=11,\r\n",
    "                            num_leaves=10,\r\n",
    "                            min_gain_to_split=0.7,\r\n",
    "                            reg_alpha=0.4257989715498509,\r\n",
    "                            reg_lambda=0.9647341968718315,\r\n",
    "                            verbose=-1,\r\n",
    "                            n_estimators=426,\r\n",
    "                            is_unbalance=True)"
   ]
  },
  {
   "cell_type": "code",
   "execution_count": 38,
   "metadata": {
    "collapsed": false
   },
   "outputs": [
    {
     "name": "stdout",
     "output_type": "stream",
     "text": [
      "[333]\tvalid_0's auc: 0.708496\r"
     ]
    }
   ],
   "source": [
    "params = {\r\n",
    "        'task': 'train',\r\n",
    "        'boosting_type': 'gbdt',\r\n",
    "        'objective': 'binary',\r\n",
    "        'metric': 'auc',\r\n",
    "        'bagging_fraction': 0.9,\r\n",
    "        'bagging_freq': 6,\r\n",
    "        'boosting_type': 'gbdt',\r\n",
    "        'feature_fraction': 0.8,\r\n",
    "        'learning_rate': 0.011596452914977661,\r\n",
    "        'max_depth': 11,\r\n",
    "        'num_leaves': 10,\r\n",
    "        'min_gain_to_split': 0.7,\r\n",
    "        'reg_alpha': 0.4257989715498509,\r\n",
    "        'reg_lambda': 0.9647341968718315,\r\n",
    "        'verbose': -1,\r\n",
    "        # 'n_estimators': 426,\r\n",
    "        'is_unbalance': True,\r\n",
    "        'early_stopping_rounds': 100,\r\n",
    "        'num_boost_round': 10000,\r\n",
    "        # 'max_bin': 300,\r\n",
    "        # 'min_data_in_leaf': 200\r\n",
    "        }\r\n",
    "\r\n",
    "model = SBBTree(params=params,\r\n",
    "                stacking_num=5,\r\n",
    "                bagging_num=3,\r\n",
    "                bagging_test_size=0.33,\r\n",
    "                num_boost_round=10000,\r\n",
    "                early_stopping_rounds=100)\r\n",
    "\r\n",
    "\r\n",
    "model.fit(train, target)"
   ]
  },
  {
   "cell_type": "code",
   "execution_count": null,
   "metadata": {
    "collapsed": false
   },
   "outputs": [],
   "source": [
    "# model = SBBTree(params=params,\r\n",
    "#                 stacking_num=3,\r\n",
    "#                 bagging_num=1,\r\n",
    "#                 bagging_test_size=0.0,\r\n",
    "#                 num_boost_round=10000,\r\n",
    "#                 early_stopping_rounds=100)\r\n",
    "\r\n",
    "# model.fit(train, target)"
   ]
  },
  {
   "cell_type": "code",
   "execution_count": 39,
   "metadata": {
    "collapsed": false
   },
   "outputs": [
    {
     "data": {
      "text/html": [
       "<div>\n",
       "<style scoped>\n",
       "    .dataframe tbody tr th:only-of-type {\n",
       "        vertical-align: middle;\n",
       "    }\n",
       "\n",
       "    .dataframe tbody tr th {\n",
       "        vertical-align: top;\n",
       "    }\n",
       "\n",
       "    .dataframe thead th {\n",
       "        text-align: right;\n",
       "    }\n",
       "</style>\n",
       "<table border=\"1\" class=\"dataframe\">\n",
       "  <thead>\n",
       "    <tr style=\"text-align: right;\">\n",
       "      <th></th>\n",
       "      <th>user_id</th>\n",
       "      <th>merchant_id</th>\n",
       "      <th>predict_prob</th>\n",
       "    </tr>\n",
       "  </thead>\n",
       "  <tbody>\n",
       "    <tr>\n",
       "      <th>0</th>\n",
       "      <td>163968</td>\n",
       "      <td>4605</td>\n",
       "      <td>0.324298</td>\n",
       "    </tr>\n",
       "    <tr>\n",
       "      <th>1</th>\n",
       "      <td>360576</td>\n",
       "      <td>1581</td>\n",
       "      <td>0.476449</td>\n",
       "    </tr>\n",
       "    <tr>\n",
       "      <th>2</th>\n",
       "      <td>98688</td>\n",
       "      <td>1964</td>\n",
       "      <td>0.348279</td>\n",
       "    </tr>\n",
       "    <tr>\n",
       "      <th>3</th>\n",
       "      <td>98688</td>\n",
       "      <td>3645</td>\n",
       "      <td>0.213449</td>\n",
       "    </tr>\n",
       "    <tr>\n",
       "      <th>4</th>\n",
       "      <td>295296</td>\n",
       "      <td>3361</td>\n",
       "      <td>0.426523</td>\n",
       "    </tr>\n",
       "  </tbody>\n",
       "</table>\n",
       "</div>"
      ],
      "text/plain": [
       "   user_id  merchant_id  predict_prob\n",
       "0   163968         4605      0.324298\n",
       "1   360576         1581      0.476449\n",
       "2    98688         1964      0.348279\n",
       "3    98688         3645      0.213449\n",
       "4   295296         3361      0.426523"
      ]
     },
     "execution_count": 39,
     "metadata": {},
     "output_type": "execute_result"
    }
   ],
   "source": [
    "pred = model.predict(test)\r\n",
    "\r\n",
    "df_out = pd.DataFrame()\r\n",
    "df_out['user_id'] = test_data['user_id']\r\n",
    "df_out['merchant_id'] = test_data['merchant_id']\r\n",
    "df_out['predict_prob'] = pred\r\n",
    "df_out.head()"
   ]
  },
  {
   "cell_type": "markdown",
   "metadata": {
    "collapsed": false
   },
   "source": [
    "##### 线上 0.6830249"
   ]
  },
  {
   "cell_type": "code",
   "execution_count": 40,
   "metadata": {
    "collapsed": false
   },
   "outputs": [
    {
     "name": "stdout",
     "output_type": "stream",
     "text": [
      "save OK!\n"
     ]
    }
   ],
   "source": [
    "df_out.to_csv('df_out.csv',header=True,index=False)\r\n",
    "print('save OK!')"
   ]
  },
  {
   "cell_type": "code",
   "execution_count": null,
   "metadata": {
    "collapsed": false
   },
   "outputs": [],
   "source": []
  },
  {
   "cell_type": "code",
   "execution_count": null,
   "metadata": {
    "collapsed": false
   },
   "outputs": [],
   "source": []
  },
  {
   "cell_type": "markdown",
   "metadata": {
    "collapsed": false
   },
   "source": [
    "##### XGB base"
   ]
  },
  {
   "cell_type": "code",
   "execution_count": null,
   "metadata": {
    "collapsed": false
   },
   "outputs": [
    {
     "name": "stdout",
     "output_type": "stream",
     "text": [
      "[0]\tvalidation_0-auc:0.63648\tvalidation_1-auc:0.63208\n",
      "[1]\tvalidation_0-auc:0.69015\tvalidation_1-auc:0.68097\n",
      "[2]\tvalidation_0-auc:0.69981\tvalidation_1-auc:0.69168\n",
      "[3]\tvalidation_0-auc:0.70449\tvalidation_1-auc:0.69692\n",
      "[4]\tvalidation_0-auc:0.70483\tvalidation_1-auc:0.69765\n",
      "[5]\tvalidation_0-auc:0.70700\tvalidation_1-auc:0.69931\n",
      "[6]\tvalidation_0-auc:0.70743\tvalidation_1-auc:0.69986\n",
      "[7]\tvalidation_0-auc:0.70895\tvalidation_1-auc:0.70144\n",
      "[8]\tvalidation_0-auc:0.70983\tvalidation_1-auc:0.70304\n",
      "[9]\tvalidation_0-auc:0.71123\tvalidation_1-auc:0.70369\n",
      "[10]\tvalidation_0-auc:0.71285\tvalidation_1-auc:0.70374\n",
      "[11]\tvalidation_0-auc:0.71379\tvalidation_1-auc:0.70426\n",
      "[12]\tvalidation_0-auc:0.71505\tvalidation_1-auc:0.70558\n",
      "[13]\tvalidation_0-auc:0.71574\tvalidation_1-auc:0.70559\n",
      "[14]\tvalidation_0-auc:0.71687\tvalidation_1-auc:0.70658\n",
      "[15]\tvalidation_0-auc:0.71774\tvalidation_1-auc:0.70742\n",
      "[16]\tvalidation_0-auc:0.71858\tvalidation_1-auc:0.70755\n",
      "[17]\tvalidation_0-auc:0.71925\tvalidation_1-auc:0.70823\n",
      "[18]\tvalidation_0-auc:0.72063\tvalidation_1-auc:0.70851\n",
      "[19]\tvalidation_0-auc:0.72153\tvalidation_1-auc:0.70861\n",
      "[20]\tvalidation_0-auc:0.72198\tvalidation_1-auc:0.70873\n",
      "[21]\tvalidation_0-auc:0.72276\tvalidation_1-auc:0.70861\n",
      "[22]\tvalidation_0-auc:0.72328\tvalidation_1-auc:0.70901\n",
      "[23]\tvalidation_0-auc:0.72385\tvalidation_1-auc:0.70951\n",
      "[24]\tvalidation_0-auc:0.72501\tvalidation_1-auc:0.70942\n",
      "[25]\tvalidation_0-auc:0.72603\tvalidation_1-auc:0.70989\n",
      "[26]\tvalidation_0-auc:0.72653\tvalidation_1-auc:0.70960\n",
      "[27]\tvalidation_0-auc:0.72706\tvalidation_1-auc:0.70994\n",
      "[28]\tvalidation_0-auc:0.72772\tvalidation_1-auc:0.70988\n",
      "[29]\tvalidation_0-auc:0.72806\tvalidation_1-auc:0.71007\n",
      "[30]\tvalidation_0-auc:0.72863\tvalidation_1-auc:0.71049\n",
      "[31]\tvalidation_0-auc:0.72918\tvalidation_1-auc:0.71070\n",
      "[32]\tvalidation_0-auc:0.72993\tvalidation_1-auc:0.71078\n",
      "[33]\tvalidation_0-auc:0.73015\tvalidation_1-auc:0.71067\n",
      "[34]\tvalidation_0-auc:0.73070\tvalidation_1-auc:0.71044\n",
      "[35]\tvalidation_0-auc:0.73131\tvalidation_1-auc:0.71022\n",
      "[36]\tvalidation_0-auc:0.73191\tvalidation_1-auc:0.71029\n",
      "[37]\tvalidation_0-auc:0.73227\tvalidation_1-auc:0.71007\n",
      "[38]\tvalidation_0-auc:0.73272\tvalidation_1-auc:0.71017\n",
      "[39]\tvalidation_0-auc:0.73326\tvalidation_1-auc:0.71022\n",
      "[40]\tvalidation_0-auc:0.73359\tvalidation_1-auc:0.70993\n",
      "[41]\tvalidation_0-auc:0.73397\tvalidation_1-auc:0.70978\n",
      "[42]\tvalidation_0-auc:0.73455\tvalidation_1-auc:0.70958\n"
     ]
    },
    {
     "data": {
      "text/plain": [
       "XGBClassifier(base_score=0.5, booster='gbtree', colsample_bylevel=1,\n",
       "              colsample_bynode=1, colsample_bytree=0.8, eta=0.3, gamma=0,\n",
       "              gpu_id=-1, importance_type='gain', interaction_constraints='',\n",
       "              learning_rate=0.300000012, max_delta_step=0, max_depth=8,\n",
       "              min_child_weight=300, missing=nan, monotone_constraints='()',\n",
       "              n_estimators=1000, n_jobs=24, num_parallel_tree=1,\n",
       "              random_state=42, reg_alpha=0, reg_lambda=1, scale_pos_weight=1,\n",
       "              seed=42, subsample=0.8, tree_method='exact',\n",
       "              validate_parameters=1, verbosity=None)"
      ]
     },
     "execution_count": null,
     "metadata": {},
     "output_type": "execute_result"
    }
   ],
   "source": [
    "from sklearn.model_selection import train_test_split\r\n",
    "from sklearn.ensemble import RandomForestClassifier\r\n",
    "from sklearn.linear_model import LinearRegression\r\n",
    "from sklearn.metrics import classification_report\r\n",
    "import xgboost as xgb\r\n",
    "\r\n",
    "\r\n",
    "X_train, X_valid, y_train, y_valid = train_test_split(train, target, test_size=.3)\r\n",
    "\r\n",
    "model = xgb.XGBClassifier(\r\n",
    "    max_depth=8,\r\n",
    "    n_estimators=1000,\r\n",
    "    min_child_weight=300, \r\n",
    "    colsample_bytree=0.8, \r\n",
    "    subsample=0.8, \r\n",
    "    eta=0.3,    \r\n",
    "    seed=42\r\n",
    "    \r\n",
    ")\r\n",
    "\r\n",
    "model.fit(\r\n",
    "    X_train, \r\n",
    "    y_train,\r\n",
    "    eval_metric='auc',\r\n",
    "    eval_set=[(X_train, y_train), (X_valid, y_valid)],\r\n",
    "    verbose=True,\r\n",
    "    early_stopping_rounds=10\r\n",
    ")"
   ]
  },
  {
   "cell_type": "code",
   "execution_count": null,
   "metadata": {
    "collapsed": false
   },
   "outputs": [
    {
     "name": "stdout",
     "output_type": "stream",
     "text": [
      "save OK!\n"
     ]
    }
   ],
   "source": [
    "prob = model.predict_proba(test)\r\n",
    "prob = pd.Series(prob[:,1])\r\n",
    "df_out = pd.DataFrame()\r\n",
    "df_out['user_id'] = test_data['user_id']\r\n",
    "df_out['merchant_id'] = test_data['merchant_id']\r\n",
    "df_out['predict_prob'] = prob\r\n",
    "df_out.head()\r\n",
    "\r\n",
    "df_out.to_csv('df_out.csv',header=True,index=False)\r\n",
    "print('save OK!')"
   ]
  },
  {
   "cell_type": "code",
   "execution_count": null,
   "metadata": {
    "collapsed": false
   },
   "outputs": [
    {
     "data": {
      "text/html": [
       "<div>\n",
       "<style scoped>\n",
       "    .dataframe tbody tr th:only-of-type {\n",
       "        vertical-align: middle;\n",
       "    }\n",
       "\n",
       "    .dataframe tbody tr th {\n",
       "        vertical-align: top;\n",
       "    }\n",
       "\n",
       "    .dataframe thead th {\n",
       "        text-align: right;\n",
       "    }\n",
       "</style>\n",
       "<table border=\"1\" class=\"dataframe\">\n",
       "  <thead>\n",
       "    <tr style=\"text-align: right;\">\n",
       "      <th></th>\n",
       "      <th>user_id</th>\n",
       "      <th>merchant_id</th>\n",
       "      <th>predict_prob</th>\n",
       "    </tr>\n",
       "  </thead>\n",
       "  <tbody>\n",
       "    <tr>\n",
       "      <th>0</th>\n",
       "      <td>163968</td>\n",
       "      <td>4605</td>\n",
       "      <td>0.042123</td>\n",
       "    </tr>\n",
       "    <tr>\n",
       "      <th>1</th>\n",
       "      <td>360576</td>\n",
       "      <td>1581</td>\n",
       "      <td>0.102652</td>\n",
       "    </tr>\n",
       "    <tr>\n",
       "      <th>2</th>\n",
       "      <td>98688</td>\n",
       "      <td>1964</td>\n",
       "      <td>0.060847</td>\n",
       "    </tr>\n",
       "    <tr>\n",
       "      <th>3</th>\n",
       "      <td>98688</td>\n",
       "      <td>3645</td>\n",
       "      <td>0.041242</td>\n",
       "    </tr>\n",
       "    <tr>\n",
       "      <th>4</th>\n",
       "      <td>295296</td>\n",
       "      <td>3361</td>\n",
       "      <td>0.080692</td>\n",
       "    </tr>\n",
       "  </tbody>\n",
       "</table>\n",
       "</div>"
      ],
      "text/plain": [
       "   user_id  merchant_id  predict_prob\n",
       "0   163968         4605      0.042123\n",
       "1   360576         1581      0.102652\n",
       "2    98688         1964      0.060847\n",
       "3    98688         3645      0.041242\n",
       "4   295296         3361      0.080692"
      ]
     },
     "execution_count": null,
     "metadata": {},
     "output_type": "execute_result"
    }
   ],
   "source": [
    "df_out.head()"
   ]
  },
  {
   "cell_type": "code",
   "execution_count": null,
   "metadata": {
    "collapsed": false
   },
   "outputs": [],
   "source": []
  }
 ],
 "metadata": {
  "kernelspec": {
   "display_name": "PaddlePaddle 2.0.0b0 (Python 3.5)",
   "language": "python",
   "name": "py35-paddle1.2.0"
  },
  "language_info": {
   "codemirror_mode": {
    "name": "ipython",
    "version": 3
   },
   "file_extension": ".py",
   "mimetype": "text/x-python",
   "name": "python",
   "nbconvert_exporter": "python",
   "pygments_lexer": "ipython3",
   "version": "3.7.4"
  }
 },
 "nbformat": 4,
 "nbformat_minor": 1
}
